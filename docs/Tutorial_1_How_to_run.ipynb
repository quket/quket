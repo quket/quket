{
 "cells": [
  {
   "cell_type": "markdown",
   "metadata": {},
   "source": [
    "# Tutorial (1): How to run quket\n",
    "\n",
    "Here we show how to run Quket using an example of UCCSD VQE applied to N$_2$/STO-6G."
   ]
  },
  {
   "cell_type": "markdown",
   "metadata": {},
   "source": [
    "[(1) Preparation](#(1)-Preparation)  \n",
    "&nbsp;&nbsp;&nbsp;&nbsp;&nbsp;&nbsp;[(1.1) `create()` to prepare the simulation](#(1.1)-Use-create()-to-prepare-the-simulation)<br>\n",
    "&nbsp;&nbsp;&nbsp;&nbsp;&nbsp;&nbsp;[(1.2) `print_mo_energy()` to print out orbital energies](#(1.2)-Use-print_mo_energy()-to-find-out-what-orbitals-are-actually-used-in-the-simulation)<br>\n",
    "&nbsp;&nbsp;&nbsp;&nbsp;&nbsp;&nbsp;[(1.3) `fci2qubit()` to get FCI state(s)](#(1.3)-Use-fci2qubit()-to-get-FCI-state(s)-in-the-qubit-representation)  \n",
    "&nbsp;&nbsp;&nbsp;&nbsp;&nbsp;&nbsp;[(1.4) Pauli list for variational circuit](#(1.4)-Pauli-list-for-variational-circuit)  \n",
    "&nbsp;&nbsp;&nbsp;&nbsp;&nbsp;&nbsp;[(1.5) `print_state()` to check the quantum states](#(1.5)-print_state()-to-check-the-quantum-states)  \n",
    "\n",
    "[(2) Calculation](#(2)-Calculation)  \n",
    "&nbsp;&nbsp;&nbsp;&nbsp;&nbsp;&nbsp;[(2.1) `run()` to perform calculation](#(2.1)-Use-run()-to-perform-calculation)  \n",
    "&nbsp;&nbsp;&nbsp;&nbsp;&nbsp;&nbsp;[(2.2) Converged variational parameters](#(2.2)-Converged-variational-parameters)  \n",
    "&nbsp;&nbsp;&nbsp;&nbsp;&nbsp;&nbsp;[(2.3) `fidelity()` to check the converged UCCSD state](#(2.3)-fidelity()-to-check-the-converged-UCCSD-state)  \n",
    "&nbsp;&nbsp;&nbsp;&nbsp;&nbsp;&nbsp;[(2.4) `vqe()` is an alternative to `run()` for VQE](#(2.4)-vqe()-is-an-alternative-to-run()-for-VQE)  \n",
    "\n",
    "[(3) Further functionalities of `QuketData`](#(3)-Further-functionalities-of-QuketData)  \n",
    "&nbsp;&nbsp;&nbsp;&nbsp;&nbsp;&nbsp;[(3.1) `print_state()`](#(3.1)-print_state())  \n",
    "&nbsp;&nbsp;&nbsp;&nbsp;&nbsp;&nbsp;[(3.2) `get_E()`](#(3.2)-get_E())  \n",
    "&nbsp;&nbsp;&nbsp;&nbsp;&nbsp;&nbsp;[(3.3) `get_S2()` and `get_N()`](#(3.3)-get_S2()-and-get_N())  \n",
    "&nbsp;&nbsp;&nbsp;&nbsp;&nbsp;&nbsp;[(3.4) `get_1RDM()`](#(3.4)-get_1RDM())  \n",
    "&nbsp;&nbsp;&nbsp;&nbsp;&nbsp;&nbsp;[(3.5) `save()`, `load()`, `copy()`](#(3.5)-save(),-load(),-copy())  \n",
    "&nbsp;&nbsp;&nbsp;&nbsp;&nbsp;&nbsp;[(3.6) `set()` and `initialize()`](#(3.6)-set()-and-initialize())\n",
    "\n",
    "\n",
    "\n"
   ]
  },
  {
   "cell_type": "markdown",
   "metadata": {},
   "source": [
    "## (1) Preparation"
   ]
  },
  {
   "cell_type": "code",
   "execution_count": 1,
   "metadata": {},
   "outputs": [
    {
     "name": "stdout",
     "output_type": "stream",
     "text": [
      "mpi4py is not imported. no MPI.\n"
     ]
    }
   ],
   "source": [
    "# import necessary modules\n",
    "from quket import *\n",
    "from quket.utils import *\n",
    "import quket.config as cf\n"
   ]
  },
  {
   "cell_type": "markdown",
   "metadata": {},
   "source": [
    "### (1.1) Use `create()` to prepare the simulation\n",
    "For molecular systems, important arguments are  \n",
    "`basis`: Basis set (e.g., sto-6g)  \n",
    "`n_electrons`: Number of active electrons to be considered in the simulation (e.g., 6)  \n",
    "`n_orbitals`: Number of active orbitals to be mapped onto qubits. Orbital indices are automatically determined based on Hartree Fock configuration and `n_electrons`.  \n",
    "`geometry`: Molecular geometry can be set either by PySCF format, cartesian format, or z-matrix format,\n",
    "```python\n",
    "    geometry = [['N', (0, 0, 0)], ['N', (0, 0, 1.098)]]\n",
    "    geometry = \"N 0 0 0\\n N 0 0 1.098\" \n",
    "    geometry = \"N; N 1 1.098\"\n",
    "```\n",
    "where `;` and `\\n` are used to indicate a break.  \n",
    "\n",
    "For VQE and other ansatz-based algorithms, `ansatz` is required. Here, we use `sauccsd` (spin-adapted uccsd). The list of currently available ansatze is found by \n",
    "```python\n",
    "cf.vqe_ansatz_list\n",
    "```\n",
    "Methods available in the currrent Quket is also found by\n",
    "```python\n",
    "cf.method_list\n",
    "```\n",
    "for which the default is VQE, so we can skip specifying `method` in the following example."
   ]
  },
  {
   "cell_type": "code",
   "execution_count": 2,
   "metadata": {},
   "outputs": [
    {
     "name": "stdout",
     "output_type": "stream",
     "text": [
      "Basis set = sto-6g\n",
      "\n",
      "*** Geometry ******************************\n",
      "  N     0.0000000    0.0000000    0.0000000\n",
      "  N     1.0980000    0.0000000    0.0000000\n",
      "*******************************************\n",
      "\n",
      "Symmetry Dooh : D2h(Abelian)\n",
      "E[FCI]    = -108.669172966971     (Spin = 1   Ms = 0)\n",
      "E[HF]     = -108.541914960860     (Spin = 1   Ms = 0)\n"
     ]
    },
    {
     "name": "stderr",
     "output_type": "stream",
     "text": [
      "Overwritten attributes  contract_2e  of <class 'pyscf.fci.direct_spin1_symm.FCISolver'>\n"
     ]
    },
    {
     "name": "stdout",
     "output_type": "stream",
     "text": [
      "Tapering-Off Results:\n",
      "List of redundant qubits:  [0, 1, 3, 5, 7]\n",
      "Qubit: 0    Tau: 1.0 [Z0 Z2 Z4 Z6 Z8 Z10]\n",
      "Qubit: 1    Tau: 1.0 [Z1 Z9]\n",
      "Qubit: 3    Tau: 1.0 [Z3 Z9 Z11]\n",
      "Qubit: 5    Tau: 1.0 [Z5 Z9 Z11]\n",
      "Qubit: 7    Tau: 1.0 [Z7 Z11]\n",
      "\n",
      "Symmetry-forbidden pauli operators are removed.\n",
      "NBasis = 10\n"
     ]
    }
   ],
   "source": [
    "### Create QuketData for N2 ###\n",
    "Q = create(basis=\"sto-6g\", \n",
    "                 ansatz=\"sauccsd\", \n",
    "                 n_orbitals =6, \n",
    "                 n_electrons=6, \n",
    "                 geometry = \"N; N 1 1.098\", \n",
    "                 mapping = 'bk',\n",
    "                )"
   ]
  },
  {
   "cell_type": "markdown",
   "metadata": {},
   "source": [
    "#### If necessary arguments are provided, `create()` sets everything up in order to perform the calculation.\n",
    "A brief summary can be printed."
   ]
  },
  {
   "cell_type": "code",
   "execution_count": 3,
   "metadata": {},
   "outputs": [
    {
     "name": "stdout",
     "output_type": "stream",
     "text": [
      "\n",
      "*** Geometry ******************************\n",
      "  N     0.0000000    0.0000000    0.0000000\n",
      "  N     1.0980000    0.0000000    0.0000000\n",
      "*******************************************\n",
      "\n",
      "Basis        = sto-6g\n",
      "NBasis       = 10\n",
      "Ne           = 6\n",
      "Norbs        = 6\n",
      "Multiplicity = 1\n",
      "Method       = vqe\n",
      "Ansatz       = sauccsd\n",
      "Mapping      = bravyi_kitaev\n",
      "Nqubits      = 12\n",
      "Energy       = 0.0\n",
      "Converged    = False\n",
      "Derivative   = Analytical (Exact)\n",
      "\n"
     ]
    }
   ],
   "source": [
    "print(Q)"
   ]
  },
  {
   "cell_type": "markdown",
   "metadata": {},
   "source": [
    "`create()` also generates `pauli_list` and `theta_list`.  \n",
    "`pauli_list`: List of `QubitOperator`s that will be used to form a quantum circuit, parameterized by `theta_list`, which is initially zero.   \n",
    "The length of `pauli_list` should match that of `theta_list`. "
   ]
  },
  {
   "cell_type": "code",
   "execution_count": 4,
   "metadata": {},
   "outputs": [
    {
     "data": {
      "text/plain": [
       "True"
      ]
     },
     "execution_count": 4,
     "metadata": {},
     "output_type": "execute_result"
    }
   ],
   "source": [
    "len(Q.pauli_list) == len(Q.theta_list)"
   ]
  },
  {
   "cell_type": "markdown",
   "metadata": {},
   "source": [
    "If `symmetry = True`, then `pauli_list` removes the symmetry-forbidden pauli operators."
   ]
  },
  {
   "cell_type": "markdown",
   "metadata": {},
   "source": [
    "### (1.2) Use `print_mo_energy()` to find out what orbitals are actually used in the simulation"
   ]
  },
  {
   "cell_type": "code",
   "execution_count": 5,
   "metadata": {},
   "outputs": [
    {
     "name": "stdout",
     "output_type": "stream",
     "text": [
      "\n",
      "[Molecular Orbitals]\n",
      "---+-------+------------+------------------\n",
      " # |  Sym  |   energy   |     category\n",
      "---+-------+------------+------------------\n",
      " 0 |   Ag  |   -15.7220 | Frozen Core\n",
      " 1 |  B1u  |   -15.7197 | Frozen Core\n",
      " 2 |   Ag  |    -1.4497 | Frozen Core\n",
      " 3 |  B1u  |    -0.7317 | Frozen Core\n",
      " 4 |  B2u  |    -0.5775 | Active (occupied)\n",
      " 5 |  B3u  |    -0.5775 | Active (occupied)\n",
      " 6 |   Ag  |    -0.5441 | Active (occupied)\n",
      " 7 |  B2g  |     0.2707 | Active (virtual)\n",
      " 8 |  B3g  |     0.2707 | Active (virtual)\n",
      " 9 |  B1u  |     1.0924 | Active (virtual)\n",
      "---+-------+------------+------------------\n",
      "\n"
     ]
    }
   ],
   "source": [
    "Q.print_mo_energy()"
   ]
  },
  {
   "cell_type": "markdown",
   "metadata": {},
   "source": [
    "### (1.3) Use `fci2qubit()` to get FCI state(s) in the qubit representation\n",
    "Note this is slow compared to the sophisticated FCI algorithm implemented in PySCF.  \n",
    "Setting `nroots` in `create(nroots=***)` can yield excited states."
   ]
  },
  {
   "cell_type": "code",
   "execution_count": 6,
   "metadata": {},
   "outputs": [
    {
     "name": "stdout",
     "output_type": "stream",
     "text": [
      "Davidson convergence achieved.\n",
      "FCI in Qubits\n",
      "(FCI state : E = -108.6691729679  multiplicity = 1.0)\n",
      "      Basis              Coef\n",
      "| 000000010101 > : +0.9614 +0.0000i\n",
      "| 000001010001 > : -0.1383 +0.0000i\n",
      "| 000100010100 > : -0.1383 +0.0000i\n",
      "\n"
     ]
    }
   ],
   "source": [
    "Q.fci2qubit()"
   ]
  },
  {
   "cell_type": "markdown",
   "metadata": {},
   "source": [
    "#### Initial states of `fci2qubit()` are usually the determinants with the lowest energy (in the same number and Sz symmetry sector as HF).\n",
    "This can be modified by setting `init_states`.\n",
    "`init_states` has a similar structure to `multi`, which is explained in Tutorial-5: it is a list of strings of single or multi determinants.\n",
    "\n",
    "For example,\n",
    "\n",
    "```python\n",
    "[\"|00111111>\", \"|11001111>\"]\n",
    "```\n",
    "provides the HF determinant and a HOMO-LUMO doubly-excited determinant as initial guesses.\n",
    "\n",
    "These determinants are in the Jordan-Wigner representation (if `QuketData` employes Bravyi-Kitaev mapping and/or reduced mapping by tapering-off scheme, `fci2qubit` automatically performs the necessary transformations)."
   ]
  },
  {
   "cell_type": "code",
   "execution_count": 7,
   "metadata": {},
   "outputs": [
    {
     "name": "stdout",
     "output_type": "stream",
     "text": [
      "2022-09-16 00:31:07.661124:  Entered fci2qubit\n",
      "Target spin s = 1\n",
      "Diagonal matrix elements prepared.\n",
      "Cycle  State       Energy      Grad\n",
      "[ 0]      0:  -108.5438824039   4.82e-01  \n",
      "          1:  -107.8064134385   2.10e-01  \n",
      "[ 1]      0:  -108.6539989143   1.65e-01  \n",
      "          1:  -107.8280983815   1.89e-01  \n",
      "[ 2]      0:  -108.6665276765   5.93e-02  \n",
      "          1:  -107.8694723847   6.09e-02  \n",
      "[ 3]      0:  -108.6689203411   2.35e-02  \n",
      "          1:  -107.8744294490   3.24e-02  \n",
      "[ 4]      0:  -108.6690852711   1.47e-02  \n",
      "          1:  -107.8751393711   1.37e-02  \n",
      "[ 5]      0:  -108.6691457777   7.25e-03  \n",
      "          1:  -107.8753601964   7.53e-03  \n",
      "[ 6]      0:  -108.6691699816   1.98e-03  \n",
      "          1:  -107.8753905846   4.59e-03  \n",
      "[ 7]      0:  -108.6691722032   1.44e-03  \n",
      "          1:  -107.8753961078   3.03e-03  \n",
      "[ 8]      0:  -108.6691728221   7.90e-04  \n",
      "          1:  -107.9297590328   3.59e-01  \n",
      "[ 9]      0:  -108.6691729628   1.15e-04  \n",
      "          1:  -107.9663135707   5.52e-02  \n",
      "[10]      0:  -108.6691729678   1.81e-05  \n",
      "          1:  -107.9678505042   2.15e-02  \n",
      "[11]      0:  -108.6691729679   8.89e-06  converged\n",
      "          1:  -107.9679958318   1.35e-02  \n",
      "[12]      0:  -108.6691729679   3.41e-06  converged\n",
      "          1:  -107.9680613464   6.13e-03  \n",
      "[13]      0:  -108.6691729679   2.82e-06  converged\n",
      "          1:  -107.9680827197   2.39e-03  \n",
      "[14]      0:  -108.6691729679   2.77e-06  converged\n",
      "          1:  -107.9680842695   1.21e-03  \n",
      "[15]      0:  -108.6691729679   2.67e-06  converged\n",
      "          1:  -107.9680846213   2.30e-04  \n",
      "[16]      0:  -108.6691729679   2.65e-06  converged\n",
      "          1:  -107.9680846461   3.65e-05  \n",
      "[17]      0:  -108.6691729679   2.42e-06  converged\n",
      "          1:  -107.9680846466   9.41e-06  converged\n",
      "Davidson convergence achieved.\n",
      "2022-09-16 00:31:09.759645:  Leaving fci2qubit\n",
      "FCI in Qubits\n",
      "(FCI state : E = -108.6691729679  multiplicity = 1.0)\n",
      "      Basis              Coef\n",
      "| 000000010101 > : -0.9614 +0.0000i\n",
      "| 000001010001 > : +0.1383 +0.0000i\n",
      "| 000100010100 > : +0.1383 +0.0000i\n",
      "\n",
      "(FCI state : E = -107.9680846466  multiplicity = 1.0)\n",
      "      Basis              Coef\n",
      "| 000001010001 > : -0.3612 +0.0000i\n",
      "| 000001010100 > : +0.1365 +0.0000i\n",
      "| 000100010001 > : +0.1365 +0.0000i\n",
      "| 000100010100 > : -0.3612 +0.0000i\n",
      "| 101010010111 > : +0.3802 +0.0000i\n",
      "| 101011010110 > : -0.4389 +0.0000i\n",
      "| 101110010011 > : -0.4389 +0.0000i\n",
      "| 101111010010 > : +0.3802 +0.0000i\n",
      "\n"
     ]
    }
   ],
   "source": [
    "Q.fci2qubit(init_states = [\"|0111111>\", \"|11001111>\"], verbose=True)"
   ]
  },
  {
   "cell_type": "markdown",
   "metadata": {},
   "source": [
    "#### Caution\n",
    "Note that for chemical Hamiltonians (`Q.model == 'chemical'`), `fci2qubit` implicitly confines the Hilbert space to the same symmetry sector as the underlying HF, that is, the same electron numbers for $\\alpha$ and $\\beta$. So, if `initial_states` contains the wrong symmetry state, `fci2qubit` can fail. For `Q.model == 'user-defined'`, the entire Hilbert space is treated and there is no problem."
   ]
  },
  {
   "cell_type": "markdown",
   "metadata": {},
   "source": [
    "### Tips:\n",
    "Elements of `init_states` can be `QuantumState`.\n",
    "\n",
    "`nroots` results are obtained regardless of the number of states specified in `init_states`."
   ]
  },
  {
   "cell_type": "code",
   "execution_count": 8,
   "metadata": {},
   "outputs": [
    {
     "name": "stdout",
     "output_type": "stream",
     "text": [
      "<class 'quket.lib.qulacs.QuantumState'>\n",
      "Davidson convergence achieved.\n",
      "FCI in Qubits\n",
      "(FCI state : E = -108.6691729679  multiplicity = 1.0)\n",
      "      Basis              Coef\n",
      "| 000000010101 > : +0.9614 +0.0000i\n",
      "| 000001010001 > : -0.1383 +0.0000i\n",
      "| 000100010100 > : -0.1383 +0.0000i\n",
      "\n",
      "(FCI state : E = -107.9680846467  multiplicity = 1.0)\n",
      "      Basis              Coef\n",
      "| 000001010001 > : +0.3612 +0.0000i\n",
      "| 000001010100 > : -0.1365 +0.0000i\n",
      "| 000100010001 > : -0.1365 +0.0000i\n",
      "| 000100010100 > : +0.3612 +0.0000i\n",
      "| 101010010111 > : -0.3802 +0.0000i\n",
      "| 101011010110 > : +0.4389 +0.0000i\n",
      "| 101110010011 > : +0.4389 +0.0000i\n",
      "| 101111010010 > : -0.3802 +0.0000i\n",
      "\n",
      "(FCI state : E = -107.8870133077  multiplicity = 1.0)\n",
      "      Basis              Coef\n",
      "| 000001010001 > : +0.3533 +0.0000i\n",
      "| 000001010100 > : -0.3533 +0.0000i\n",
      "| 000100010001 > : -0.3533 +0.0000i\n",
      "| 000100010100 > : +0.3533 +0.0000i\n",
      "| 101011010011 > : +0.3533 +0.0000i\n",
      "| 101011010110 > : -0.3533 +0.0000i\n",
      "| 101110010011 > : -0.3533 +0.0000i\n",
      "| 101110010110 > : +0.3533 +0.0000i\n",
      "\n",
      "(FCI state : E = -107.8376792362  multiplicity = 1.0)\n",
      "      Basis              Coef\n",
      "| 000001000101 > : -0.6610 +0.0000i\n",
      "| 000001010100 > : +0.1755 +0.0000i\n",
      "| 000100000101 > : -0.6610 +0.0000i\n",
      "| 000100010001 > : +0.1755 +0.0000i\n",
      "| 000101000001 > : +0.1363 +0.0000i\n",
      "| 000101000100 > : +0.1363 +0.0000i\n",
      "\n"
     ]
    }
   ],
   "source": [
    "print(type(Q.init_state))\n",
    "Q.fci2qubit(nroots=4, init_states = [Q.init_state])"
   ]
  },
  {
   "cell_type": "markdown",
   "metadata": {},
   "source": [
    "### (1.4) Pauli list for variational circuit\n",
    "To see the corresponding pauli strings that are used to generate the variational circuit, you may check \n",
    "```python\n",
    "    Q.pauli_list\n",
    "```\n",
    "For spin-adapted ansatze, some paulis $P_j, P_{j}', \\cdots$ should have the same theta although these paulis. If they commute, we can simply add them to treat simultaneously, $P_j \\leftarrow P_j+P_{j}'+\\cdots$. However, if some of them do not commute with each other, the corresponding element of `pauli_list` is itself a list of paulis, [$P_j, P_j'$]."
   ]
  },
  {
   "cell_type": "code",
   "execution_count": 9,
   "metadata": {},
   "outputs": [
    {
     "data": {
      "text/plain": [
       "-0.25j [X0 Z1 Z3 Z5 Y6 Z7] +\n",
       "-0.25j [X0 Z1 Y6] +\n",
       "-0.25j [X0 Z3 Z5 Y6 Z7] +\n",
       "-0.25j [X0 Y6] +\n",
       "0.25j [Y0 Z1 Z3 Z5 X6 Z7] +\n",
       "0.25j [Y0 Z1 X6] +\n",
       "0.25j [Y0 Z3 Z5 X6 Z7] +\n",
       "0.25j [Y0 X6]"
      ]
     },
     "execution_count": 9,
     "metadata": {},
     "output_type": "execute_result"
    }
   ],
   "source": [
    "### 0th pauli is a sum of paulis (double excitation from 0,1 to 6,7) because they all commute\n",
    "Q.pauli_list[0]"
   ]
  },
  {
   "cell_type": "code",
   "execution_count": 10,
   "metadata": {},
   "outputs": [
    {
     "data": {
      "text/plain": [
       "[0.125j [X0 Y1 X2 Z3 Z5 X6 Y7 Y8 X9 X11] +\n",
       " 0.125j [X0 Y1 X2 Z3 Z5 Y6 Y7 X8 X9 X11] +\n",
       " -0.125j [X0 Y1 Y2 Z3 Z5 X6 Y7 X8 X9 X11] +\n",
       " 0.125j [X0 Y1 Y2 Z3 Z5 Y6 Y7 Y8 X9 X11] +\n",
       " -0.125j [Y0 Y1 X2 Z3 Z5 X6 Y7 X8 X9 X11] +\n",
       " 0.125j [Y0 Y1 X2 Z3 Z5 Y6 Y7 Y8 X9 X11] +\n",
       " -0.125j [Y0 Y1 Y2 Z3 Z5 X6 Y7 Y8 X9 X11] +\n",
       " -0.125j [Y0 Y1 Y2 Z3 Z5 Y6 Y7 X8 X9 X11] +\n",
       " 0.125j [Z0 X1 Z3 X7 Y9 X11] +\n",
       " 0.125j [Z0 X1 Z5 Z6 Y7 Z8 X9 X11] +\n",
       " 0.125j [Z0 Y1 Z2 Z3 Z5 Z6 Y7 Y9 X11] +\n",
       " -0.125j [Z0 Y1 Z2 X7 Z8 X9 X11] +\n",
       " 0.125j [X1 Z2 Z3 Z5 Z6 Y7 Z8 X9 X11] +\n",
       " 0.125j [X1 Z2 X7 Y9 X11] +\n",
       " -0.125j [Y1 Z3 X7 Z8 X9 X11] +\n",
       " 0.125j [Y1 Z5 Z6 Y7 Y9 X11],\n",
       " 0.125j [X0 X1 Z3 X7 Y8 X9 X11] +\n",
       " 0.125j [X0 X1 Z5 Z6 Y7 X8 X9 X11] +\n",
       " 0.125j [X0 Y1 Z2 Z3 Z5 Z6 Y7 Y8 X9 X11] +\n",
       " -0.125j [X0 Y1 Z2 X7 X8 X9 X11] +\n",
       " -0.125j [Y0 X1 Z3 X7 X8 X9 X11] +\n",
       " 0.125j [Y0 X1 Z5 Z6 Y7 Y8 X9 X11] +\n",
       " -0.125j [Y0 Y1 Z2 Z3 Z5 Z6 Y7 X8 X9 X11] +\n",
       " -0.125j [Y0 Y1 Z2 X7 Y8 X9 X11] +\n",
       " 0.125j [Z0 Y1 X2 Z3 Z5 X6 Y7 Y9 X11] +\n",
       " 0.125j [Z0 Y1 X2 Z3 Z5 Y6 Y7 Z8 X9 X11] +\n",
       " -0.125j [Z0 Y1 Y2 Z3 Z5 X6 Y7 Z8 X9 X11] +\n",
       " 0.125j [Z0 Y1 Y2 Z3 Z5 Y6 Y7 Y9 X11] +\n",
       " 0.125j [X1 X2 Z3 Z5 X6 Y7 Z8 X9 X11] +\n",
       " -0.125j [X1 X2 Z3 Z5 Y6 Y7 Y9 X11] +\n",
       " 0.125j [X1 Y2 Z3 Z5 X6 Y7 Y9 X11] +\n",
       " 0.125j [X1 Y2 Z3 Z5 Y6 Y7 Z8 X9 X11]]"
      ]
     },
     "execution_count": 10,
     "metadata": {},
     "output_type": "execute_result"
    }
   ],
   "source": [
    "### 3rd pauli is a list of paulis because some of them do not commute\n",
    "Q.pauli_list[3]"
   ]
  },
  {
   "cell_type": "markdown",
   "metadata": {},
   "source": [
    "### (1.5) `print_state()` to check the quantum states\n",
    "Attributes `init_state`, `state`, and `fci_states` contain the initial, current (final), and FCI states in the form of `qulacs`'s `QuantumState`.\n",
    "\n",
    "Use `print_state()` to print them."
   ]
  },
  {
   "cell_type": "code",
   "execution_count": 11,
   "metadata": {},
   "outputs": [
    {
     "name": "stdout",
     "output_type": "stream",
     "text": [
      "initial HF state\n",
      "      Basis              Coef\n",
      "| 000000010101 > : +1.0000 +0.0000i\n",
      "\n",
      "current state\n",
      "      Basis              Coef\n",
      "| 000000010101 > : +1.0000 +0.0000i\n",
      "\n",
      "fci exact state\n",
      "      Basis              Coef\n",
      "| 000000010101 > : +0.9614 +0.0000i\n",
      "| 000001010001 > : -0.1383 +0.0000i\n",
      "| 000100010100 > : -0.1383 +0.0000i\n",
      "\n"
     ]
    }
   ],
   "source": [
    "print_state(Q.init_state, name=\"initial HF state\")\n",
    "print_state(Q.state, name=\"current state\")\n",
    "print_state(Q.fci_states[0]['state'], name=\"fci exact state\")"
   ]
  },
  {
   "cell_type": "markdown",
   "metadata": {},
   "source": [
    "## (2) Calculation"
   ]
  },
  {
   "cell_type": "markdown",
   "metadata": {},
   "source": [
    "### (2.1) Use `run()` to perform calculation \n",
    "It will run the method specified with the `method` attribute.  \n",
    "If `fci2qubit()` has been performed, VQE runs `fidelity()` at each cycle to show the fidelity."
   ]
  },
  {
   "cell_type": "code",
   "execution_count": 12,
   "metadata": {},
   "outputs": [
    {
     "name": "stdout",
     "output_type": "stream",
     "text": [
      "Entered VQE driver\n",
      "Performing VQE for sauccsd\n",
      "Number of VQE parameters: 15\n",
      "Initial configuration: |000000111111>\n",
      "Convergence criteria: ftol = 1E-09, gtol = 1E-05\n",
      "Derivatives: Analytical\n",
      "Circuit order: Exp[T1] Exp[T2] |0>\n",
      "Initial: E[sauccsd] = -108.541914960860  <S**2> = +0.000000  Fidelity = 0.924343  rho = 1  \n",
      "      1: E[sauccsd] = -108.646352933729  <S**2> = +0.000001  Fidelity = 0.976129  Grad = 6.26e-01  CPU Time =    0.33491  (0.00 / step)\n",
      "      2: E[sauccsd] = -108.659301110535  <S**2> = +0.000002  Fidelity = 0.987591  Grad = 3.20e-01  CPU Time =    0.12638  (0.00 / step)\n",
      "      3: E[sauccsd] = -108.666470234984  <S**2> = +0.000003  Fidelity = 0.996816  Grad = 1.46e-01  CPU Time =    0.12579  (0.00 / step)\n",
      "      4: E[sauccsd] = -108.668164908414  <S**2> = +0.000004  Fidelity = 0.999154  Grad = 7.34e-02  CPU Time =    0.12691  (0.00 / step)\n",
      "      5: E[sauccsd] = -108.668556521107  <S**2> = +0.000007  Fidelity = 0.999681  Grad = 7.11e-02  CPU Time =    0.12529  (0.00 / step)\n",
      "      6: E[sauccsd] = -108.668735126514  <S**2> = +0.000009  Fidelity = 0.999814  Grad = 1.32e-02  CPU Time =    0.12721  (0.00 / step)\n",
      "      7: E[sauccsd] = -108.668745328372  <S**2> = +0.000009  Fidelity = 0.999835  Grad = 4.44e-03  CPU Time =    0.12736  (0.00 / step)\n",
      "      8: E[sauccsd] = -108.668746776280  <S**2> = +0.000009  Fidelity = 0.999839  Grad = 1.36e-03  CPU Time =    0.14683  (0.00 / step)\n",
      "      9: E[sauccsd] = -108.668746846457  <S**2> = +0.000009  Fidelity = 0.999839  Grad = 4.61e-04  CPU Time =    0.23701  (0.00 / step)\n",
      "  Final: E[sauccsd] = -108.668746846457  <S**2> = +0.000009  Fidelity = 0.999839  rho = 1 \n",
      "\n",
      "(sauccsd state)\n",
      "      Basis              Coef\n",
      "| 000000010101 > : +0.9613 +0.0000i\n",
      "| 000001010001 > : -0.1398 +0.0000i\n",
      "| 000100010100 > : -0.1398 +0.0000i\n",
      "\n",
      "\n",
      "VQE Done: CPU Time =          1.4999\n",
      "\n"
     ]
    }
   ],
   "source": [
    "# Run UCCSD\n",
    "Q.run()"
   ]
  },
  {
   "cell_type": "markdown",
   "metadata": {},
   "source": [
    "### (2.2) Converged variational parameters\n",
    "To see the optimized theta values, you may check\n",
    "```python\n",
    "    printmat(Q.theta_list)\n",
    "```\n",
    "Here, `printmat` is a subroutine that prints out a matrix/vector."
   ]
  },
  {
   "cell_type": "code",
   "execution_count": 13,
   "metadata": {},
   "outputs": [
    {
     "name": "stdout",
     "output_type": "stream",
     "text": [
      "\n",
      "               0          \n",
      "    0     -0.0103013  \n",
      "    1     -0.0723087  \n",
      "    2     -0.0055647  \n",
      "    3     -0.0885835  \n",
      "    4      0.0026076  \n",
      "    5     -0.0361066  \n",
      "    6     -0.0720568  \n",
      "    7     -0.0101847  \n",
      "    8     -0.0056327  \n",
      "    9      0.0026044  \n",
      "   10     -0.0316131  \n",
      "   11     -0.0316144  \n",
      "   12     -0.0190303  \n",
      "   13     -0.0190477  \n",
      "   14     -0.0137579  \n",
      "\n"
     ]
    }
   ],
   "source": [
    "printmat(Q.theta_list)"
   ]
  },
  {
   "cell_type": "markdown",
   "metadata": {},
   "source": [
    "### (2.3) `fidelity()` to check the converged UCCSD state\n",
    "Compare the UCCSD state and FCI states."
   ]
  },
  {
   "cell_type": "code",
   "execution_count": 14,
   "metadata": {},
   "outputs": [
    {
     "name": "stdout",
     "output_type": "stream",
     "text": [
      "final uccsd state\n",
      "      Basis              Coef\n",
      "| 000000010101 > : +0.9613 +0.0000i\n",
      "| 000001010001 > : -0.1398 +0.0000i\n",
      "| 000100010100 > : -0.1398 +0.0000i\n",
      "\n",
      "fci exact state\n",
      "      Basis              Coef\n",
      "| 000000010101 > : +0.9614 +0.0000i\n",
      "| 000001010001 > : -0.1383 +0.0000i\n",
      "| 000100010100 > : -0.1383 +0.0000i\n",
      "\n"
     ]
    },
    {
     "data": {
      "text/plain": [
       "0.9998389958678328"
      ]
     },
     "execution_count": 14,
     "metadata": {},
     "output_type": "execute_result"
    }
   ],
   "source": [
    "print_state(Q.state, name=\"final uccsd state\")\n",
    "print_state(Q.fci_states[0]['state'], name=\"fci exact state\")\n",
    "Q.fidelity(state=Q.state) # Default state = Q.state "
   ]
  },
  {
   "cell_type": "markdown",
   "metadata": {},
   "source": [
    "### (2.4) `vqe()` is an alternative to `run()` for VQE\n",
    "`vqe()` simply runs VQE with `pauli_list` and `theta_list` (which is zeroed-out because `pauli_list` has been changed).  \n",
    "It can be used even if `method != \"vqe\"`, but `theta_list` will be overwritten."
   ]
  },
  {
   "cell_type": "code",
   "execution_count": 15,
   "metadata": {},
   "outputs": [
    {
     "name": "stdout",
     "output_type": "stream",
     "text": [
      "      1: E[sauccsd] = -108.646352933729  <S**2> = +0.000001  Fidelity = 0.976129  Grad = 6.26e-01  CPU Time =    0.31867  (0.00 / step)\n",
      "      2: E[sauccsd] = -108.659301110535  <S**2> = +0.000002  Fidelity = 0.987591  Grad = 3.20e-01  CPU Time =    0.12655  (0.00 / step)\n",
      "      3: E[sauccsd] = -108.666470234984  <S**2> = +0.000003  Fidelity = 0.996816  Grad = 1.46e-01  CPU Time =    0.12802  (0.00 / step)\n",
      "      4: E[sauccsd] = -108.668164908414  <S**2> = +0.000004  Fidelity = 0.999154  Grad = 7.34e-02  CPU Time =    0.12834  (0.00 / step)\n",
      "      5: E[sauccsd] = -108.668556521106  <S**2> = +0.000007  Fidelity = 0.999681  Grad = 7.11e-02  CPU Time =    0.13018  (0.00 / step)\n",
      "      6: E[sauccsd] = -108.668735126514  <S**2> = +0.000009  Fidelity = 0.999814  Grad = 1.32e-02  CPU Time =    0.12758  (0.00 / step)\n",
      "      7: E[sauccsd] = -108.668745328372  <S**2> = +0.000009  Fidelity = 0.999835  Grad = 4.44e-03  CPU Time =    0.12693  (0.00 / step)\n",
      "      8: E[sauccsd] = -108.668746776280  <S**2> = +0.000009  Fidelity = 0.999839  Grad = 1.36e-03  CPU Time =    0.12527  (0.00 / step)\n",
      "      9: E[sauccsd] = -108.668746846457  <S**2> = +0.000009  Fidelity = 0.999839  Grad = 4.61e-04  CPU Time =    0.23438  (0.00 / step)\n",
      "  Final: E[sauccsd] = -108.668746846457  <S**2> = +0.000009  Fidelity = 0.999839  rho = 1 \n",
      "\n",
      "(sauccsd state)\n",
      "      Basis              Coef\n",
      "| 000000010101 > : +0.9613 +0.0000i\n",
      "| 000001010001 > : -0.1398 +0.0000i\n",
      "| 000100010100 > : -0.1398 +0.0000i\n",
      "\n",
      "VQE Done.\n"
     ]
    }
   ],
   "source": [
    "# Q.theta_list contains converged theta from `run()`, so initialize to zero\n",
    "Q.theta_list *= 0\n",
    "Q.vqe()"
   ]
  },
  {
   "cell_type": "markdown",
   "metadata": {},
   "source": [
    "## (3) Further functionalities of `QuketData`"
   ]
  },
  {
   "cell_type": "markdown",
   "metadata": {},
   "source": [
    "### (3.1) `print_state()`\n",
    "This simply calls `print_state()` using `Q.state` as a default state."
   ]
  },
  {
   "cell_type": "code",
   "execution_count": 16,
   "metadata": {},
   "outputs": [
    {
     "name": "stdout",
     "output_type": "stream",
     "text": [
      "      Basis              Coef\n",
      "| 000000010101 > : +0.9613 +0.0000i\n",
      "| 000001010001 > : -0.1398 +0.0000i\n",
      "| 000100010100 > : -0.1398 +0.0000i\n",
      "\n",
      "      Basis              Coef\n",
      "| 000000010101 > : +1.0000 +0.0000i\n",
      "\n"
     ]
    }
   ],
   "source": [
    "Q.print_state()\n",
    "Q.print_state(Q.init_state)"
   ]
  },
  {
   "cell_type": "markdown",
   "metadata": {},
   "source": [
    "### (3.2) `get_E()`\n",
    "This evaluates the expectation value of energy using `Q.state` as a default state."
   ]
  },
  {
   "cell_type": "code",
   "execution_count": 17,
   "metadata": {},
   "outputs": [
    {
     "name": "stdout",
     "output_type": "stream",
     "text": [
      "UCCSD final energy =  -108.66874684645686\n",
      "HF initial energy =  -108.54191496085956\n"
     ]
    }
   ],
   "source": [
    "# UCCSD energy (Q.state)\n",
    "print(\"UCCSD final energy = \", Q.get_E())\n",
    "# Hartree-Fock energy (init_state = HF)\n",
    "print(\"HF initial energy = \", Q.get_E(Q.init_state))"
   ]
  },
  {
   "cell_type": "markdown",
   "metadata": {},
   "source": [
    "### (3.3) `get_S2()` and `get_N()` \n",
    "They similarly evaluate the expectation value of $S^2$ and $N$ (using `Q.state` as a default state)"
   ]
  },
  {
   "cell_type": "code",
   "execution_count": 18,
   "metadata": {},
   "outputs": [
    {
     "name": "stdout",
     "output_type": "stream",
     "text": [
      "UCCSD <S**2> =  9.050300602164718e-06\n",
      "UCCSD <N> =  5.999999999999974\n"
     ]
    }
   ],
   "source": [
    "print(\"UCCSD <S**2> = \", Q.get_S2())\n",
    "print(\"UCCSD <N> = \", Q.get_N())"
   ]
  },
  {
   "cell_type": "markdown",
   "metadata": {},
   "source": [
    "### (3.4) `get_1RDM()`\n",
    "It evaluates the one-particle density matrix (alpha and beta spins)."
   ]
  },
  {
   "cell_type": "code",
   "execution_count": 19,
   "metadata": {},
   "outputs": [
    {
     "name": "stdout",
     "output_type": "stream",
     "text": [
      " === Computing 1RDM === \n",
      " === Computing 2RDM === \n",
      "\n",
      "unrelaxed DA\n",
      "\n",
      "               0              1              2              3              4              5              6              7              8              9          \n",
      "\n",
      "    0      1.0000000      0.0000000      0.0000000      0.0000000      0.0000000      0.0000000      0.0000000      0.0000000      0.0000000      0.0000000  \n",
      "    1      0.0000000      1.0000000      0.0000000      0.0000000      0.0000000      0.0000000      0.0000000      0.0000000      0.0000000      0.0000000  \n",
      "    2      0.0000000      0.0000000      1.0000000      0.0000000      0.0000000      0.0000000      0.0000000      0.0000000      0.0000000      0.0000000  \n",
      "    3      0.0000000      0.0000000      0.0000000      1.0000000      0.0000000      0.0000000      0.0000000      0.0000000      0.0000000      0.0000000  \n",
      "    4      0.0000000      0.0000000      0.0000000      0.0000000      0.9651076      0.0000000      0.0000000      0.0000000      0.0000000      0.0000000  \n",
      "    5      0.0000000      0.0000000      0.0000000      0.0000000      0.0000000      0.9651022      0.0000000      0.0000000      0.0000000      0.0000000  \n",
      "    6      0.0000000      0.0000000      0.0000000      0.0000000      0.0000000      0.0000000      0.9920083      0.0000000      0.0000000      0.0000000  \n",
      "    7      0.0000000      0.0000000      0.0000000      0.0000000      0.0000000      0.0000000      0.0000000      0.0361586      0.0000000      0.0000000  \n",
      "    8      0.0000000      0.0000000      0.0000000      0.0000000      0.0000000      0.0000000      0.0000000      0.0000000      0.0361527      0.0000000  \n",
      "    9      0.0000000      0.0000000      0.0000000      0.0000000      0.0000000      0.0000000      0.0000000      0.0000000      0.0000000      0.0054705  \n",
      "\n",
      "\n",
      "relaxed DA\n",
      "\n",
      "               0              1              2              3              4              5              6              7              8              9          \n",
      "\n",
      "    0      1.0000000      0.0000000      0.0000000      0.0000000      0.0000000      0.0000000      0.0001278      0.0000000     -0.0000000     -0.0000000  \n",
      "    1      0.0000000      1.0000000      0.0000000      0.0000000      0.0000000     -0.0000000      0.0000000     -0.0000000      0.0000000      0.0000514  \n",
      "    2      0.0000000      0.0000000      1.0000000      0.0000000      0.0000000     -0.0000000     -0.0095737     -0.0000000     -0.0000000     -0.0000000  \n",
      "    3      0.0000000      0.0000000      0.0000000      1.0000000      0.0000000     -0.0000000      0.0000000      0.0000000      0.0000000      0.0135134  \n",
      "    4      0.0000000      0.0000000      0.0000000      0.0000000      0.9651076      0.0000000      0.0000000     -0.0000000      0.0000000      0.0000000  \n",
      "    5      0.0000000     -0.0000000     -0.0000000     -0.0000000      0.0000000      0.9651022     -0.0000000      0.0000000     -0.0000000     -0.0000000  \n",
      "    6      0.0001278      0.0000000     -0.0095737      0.0000000      0.0000000     -0.0000000      0.9920083     -0.0000000     -0.0000000     -0.0000000  \n",
      "    7      0.0000000     -0.0000000     -0.0000000      0.0000000     -0.0000000      0.0000000     -0.0000000      0.0361586      0.0000000     -0.0000000  \n",
      "    8     -0.0000000      0.0000000     -0.0000000      0.0000000      0.0000000     -0.0000000     -0.0000000      0.0000000      0.0361527      0.0000000  \n",
      "    9     -0.0000000      0.0000514     -0.0000000      0.0135134      0.0000000     -0.0000000     -0.0000000     -0.0000000      0.0000000      0.0054705  \n",
      "\n"
     ]
    }
   ],
   "source": [
    "### Compute UCCSD 1RDM\n",
    "Q.get_1RDM()\n",
    "### Now have DA, DB, RelDA (relaxed DA), etc.\n",
    "# Can use printmat() \n",
    "printmat(Q.DA, \"unrelaxed DA\")\n",
    "printmat(Q.RelDA, \"relaxed DA\")"
   ]
  },
  {
   "cell_type": "markdown",
   "metadata": {},
   "source": [
    "### (3.5) `save()`, `load()`, `copy()`\n",
    "Save and load the result in `QuketData`.  \n",
    "`QuketData` can be also copied."
   ]
  },
  {
   "cell_type": "code",
   "execution_count": 20,
   "metadata": {},
   "outputs": [
    {
     "name": "stdout",
     "output_type": "stream",
     "text": [
      "Saved in q.qkt.\n"
     ]
    }
   ],
   "source": [
    "Q.save('q.qkt')"
   ]
  },
  {
   "cell_type": "code",
   "execution_count": 21,
   "metadata": {},
   "outputs": [
    {
     "name": "stdout",
     "output_type": "stream",
     "text": [
      "Data loaded successfully.\n"
     ]
    }
   ],
   "source": [
    "X = create()\n",
    "X.load('q.qkt')"
   ]
  },
  {
   "cell_type": "code",
   "execution_count": 22,
   "metadata": {},
   "outputs": [
    {
     "name": "stdout",
     "output_type": "stream",
     "text": [
      "-108.66874684645687 -108.66874684645687\n",
      "      Basis              Coef\n",
      "| 000000010101 > : +0.9613 +0.0000i\n",
      "| 000001010001 > : -0.1398 +0.0000i\n",
      "| 000100010100 > : -0.1398 +0.0000i\n",
      "\n"
     ]
    }
   ],
   "source": [
    "print(Q.energy, X.energy)\n",
    "X.print_state()"
   ]
  },
  {
   "cell_type": "code",
   "execution_count": 23,
   "metadata": {},
   "outputs": [
    {
     "name": "stdout",
     "output_type": "stream",
     "text": [
      "True\n",
      "False\n"
     ]
    }
   ],
   "source": [
    "# Successfuly loaded, but the memory addresses are different\n",
    "print(X.pauli_list == Q.pauli_list)\n",
    "print(id(X.pauli_list) == id(Q.pauli_list))"
   ]
  },
  {
   "cell_type": "code",
   "execution_count": 24,
   "metadata": {},
   "outputs": [],
   "source": [
    "# Copy bypasses save and load.\n",
    "X = Q.copy()"
   ]
  },
  {
   "cell_type": "markdown",
   "metadata": {
    "tags": []
   },
   "source": [
    "### (3.6) `set()` and `initialize()`\n",
    "You can change the active space by using `set()` to change the parameters and `initialize()` to initialize Hamiltonian and such.  \n",
    "For example, we can restrict the active space to contain only 4 electrons and $\\pi$, $\\pi^*$ orbitals.  \n",
    "Since the active space is defined with the orbitals around HOMO and LUMO, 4th and 6th orbitals should be switched.  \n",
    "This can be done by using `alter`."
   ]
  },
  {
   "cell_type": "code",
   "execution_count": 25,
   "metadata": {},
   "outputs": [
    {
     "name": "stdout",
     "output_type": "stream",
     "text": [
      "Basis set = sto-6g\n",
      "\n",
      "*** Geometry ******************************\n",
      "  N     0.0000000    0.0000000    0.0000000\n",
      "  N     1.0980000    0.0000000    0.0000000\n",
      "*******************************************\n",
      "\n",
      "Symmetry Dooh : D2h(Abelian)\n",
      "E[FCI]    = -108.582282828832     (Spin = 1   Ms = 0)\n",
      "E[HF]     = -108.541914960860     (Spin = 1   Ms = 0)\n",
      "Orbital switched:\n",
      "   4 <-> 6 \n",
      "Existing theta_list is inconsistent :\n",
      "   size of pauli_list 14 != size of theta_list 15.\n",
      "Ovewrite theta_list by zero.\n",
      "Tapering-Off Results:\n",
      "List of redundant qubits:  [0, 1, 3, 7]\n",
      "Qubit: 0    Tau: 1.0 [Z0 Z2 Z4 Z6]\n",
      "Qubit: 1    Tau: 1.0 [Z1 Z5]\n",
      "Qubit: 3    Tau: 1.0 [Z3]\n",
      "Qubit: 7    Tau: 1.0 [Z7]\n",
      "\n",
      "Symmetry-forbidden pauli operators are removed.\n",
      "\n",
      "[Molecular Orbitals]\n",
      "---+-------+------------+------------------\n",
      " # |  Sym  |   energy   |     category\n",
      "---+-------+------------+------------------\n",
      " 0 |   Ag  |   -15.7220 | Frozen Core\n",
      " 1 |  B1u  |   -15.7197 | Frozen Core\n",
      " 2 |   Ag  |    -1.4497 | Frozen Core\n",
      " 3 |  B1u  |    -0.7317 | Frozen Core\n",
      " 4 |   Ag  |    -0.5441 | Frozen Core\n",
      " 5 |  B3u  |    -0.5775 | Active (occupied)\n",
      " 6 |  B2u  |    -0.5775 | Active (occupied)\n",
      " 7 |  B2g  |     0.2707 | Active (virtual)\n",
      " 8 |  B3g  |     0.2707 | Active (virtual)\n",
      " 9 |  B1u  |     1.0924 | Secondary\n",
      "---+-------+------------+------------------\n",
      "\n"
     ]
    }
   ],
   "source": [
    "Q.set(alter=[4,6])\n",
    "# Redefine numbers of active orbitals and electrons, and initial state.\n",
    "Q.set(n_orbitals=4, n_electrons=4, det=\"00001111\")\n",
    "Q.initialize()\n",
    "Q.print_mo_energy()"
   ]
  },
  {
   "cell_type": "code",
   "execution_count": 26,
   "metadata": {},
   "outputs": [
    {
     "name": "stdout",
     "output_type": "stream",
     "text": [
      "      1: E[sauccsd] = -108.623150118523  <S**2> = +0.000037  Grad = 6.70e-01  CPU Time =    0.07685  (0.00 / step)\n",
      "      2: E[sauccsd] = -108.638941665769  <S**2> = +0.000005  Grad = 2.42e-01  CPU Time =    0.02605  (0.00 / step)\n",
      "      3: E[sauccsd] = -108.643018339026  <S**2> = +0.000002  Grad = 1.23e-01  CPU Time =    0.02568  (0.00 / step)\n",
      "      4: E[sauccsd] = -108.644586262916  <S**2> = +0.000002  Grad = 6.25e-02  CPU Time =    0.02530  (0.00 / step)\n",
      "      5: E[sauccsd] = -108.645011294982  <S**2> = +0.000003  Grad = 1.73e-02  CPU Time =    0.02684  (0.00 / step)\n",
      "      6: E[sauccsd] = -108.645023794702  <S**2> = +0.000003  Grad = 5.50e-03  CPU Time =    0.02607  (0.00 / step)\n",
      "      7: E[sauccsd] = -108.645025645439  <S**2> = +0.000003  Grad = 6.95e-04  CPU Time =    0.02613  (0.00 / step)\n",
      "      8: E[sauccsd] = -108.645025673258  <S**2> = +0.000003  Grad = 1.23e-04  CPU Time =    0.02584  (0.00 / step)\n",
      "  Final: E[sauccsd] = -108.645025673258  <S**2> = +0.000003  rho = 1 \n",
      "\n",
      "(sauccsd state)\n",
      "    Basis            Coef\n",
      "| 00000101 > : +0.9629 +0.0000i\n",
      "| 00010100 > : -0.1500 +0.0000i\n",
      "| 01000001 > : -0.1500 +0.0000i\n",
      "\n",
      "VQE Done.\n"
     ]
    }
   ],
   "source": [
    "# Run vqe\n",
    "Q.vqe()"
   ]
  },
  {
   "cell_type": "markdown",
   "metadata": {},
   "source": [
    "### Currently, FCI energy is evaluated before performing `alter`.\n",
    "So the FCI energy may be wrong. This should be fixed.  \n",
    "Also, note that `fci2qubit()` exploits FCI coefficients provided by PySCF, so in this case it does not work."
   ]
  },
  {
   "cell_type": "markdown",
   "metadata": {},
   "source": [
    "### (3.7) Debug mode\n",
    "Simply set the option `debug = True` or overwrite the parameter `debug` in the config file, `cf.debug = True`"
   ]
  },
  {
   "cell_type": "code",
   "execution_count": 27,
   "metadata": {},
   "outputs": [
    {
     "name": "stdout",
     "output_type": "stream",
     "text": [
      "+----------------+\n",
      "| CHEMICAL STATE |\n",
      "+----------------+\n",
      "\tbasis=sto-6g\n",
      "\tmo_basis=hf\n",
      "\tn_orbitals=10\n",
      "\tn_frozen_orbitals=5\n",
      "\tn_core_orbitals=0\n",
      "\tn_active_orbitals=4\n",
      "\tn_frozenv_orbitals=1\n",
      "\tn_secondary_orbitals=0\n",
      "\tn_electrons=14\n",
      "\tn_active_electrons=4\n",
      "\texcitation\n",
      "\tinclude={'c': 'a/s', 'a': 'a/s', 'cc': 'aa/as/ss', 'ca': 'aa/as/ss', 'aa': 'aa/as/ss'}\n",
      "Basis set = sto-6g\n",
      "\n",
      "*** Geometry ******************************\n",
      "  N     0.0000000    0.0000000    0.0000000\n",
      "  N     1.0980000    0.0000000    0.0000000\n",
      "*******************************************\n",
      "\n",
      "Symmetry Dooh : D2h(Abelian)\n",
      "E[FCI]    = -108.582282828832     (Spin = 1   Ms = 0)\n",
      "E[HF]     = -108.541914960860     (Spin = 1   Ms = 0)\n",
      "Orbital switched:\n",
      "   4 <-> 6 \n",
      "Existing theta_list is inconsistent :\n",
      "   size of pauli_list 14 != size of theta_list 6.\n",
      "Ovewrite theta_list by zero.\n",
      "\n",
      "Point Group Symmetry:\n",
      "  SymmOP \\ IRREP             B3u             B3u              Ag              Ag             B2g             B2g             B3g             B3g\n",
      "            C2^z              -1              -1               1               1              -1              -1              -1              -1\n",
      "            C2^y              -1              -1               1               1               1               1              -1              -1\n",
      "            C2^x               1               1               1               1              -1              -1               1               1\n",
      "               i              -1              -1               1               1               1               1               1               1\n",
      "          Sig^xy               1               1               1               1              -1              -1              -1              -1\n",
      "          Sig^xz               1               1               1               1               1               1              -1              -1\n",
      "          Sig^yz              -1              -1               1               1              -1              -1               1               1\n",
      "\n",
      "Tapering success! New Hamiltoninan verified.\n",
      "Replaced redundent qubits by their eigenvalues.\n",
      "Tapering-Off Results:\n",
      "qubit    coeff    commutativity    tau\n",
      "    0        1            1e-15    1.0 [Z0 Z2 Z4 Z6]\n",
      "    1        1            1e-15    1.0 [Z1]\n",
      "    3        1            1e-15    1.0 [Z3]\n",
      "    5        1            1e-15    1.0 [Z5]\n",
      "    7        1            1e-15    1.0 [Z7]\n",
      "\n",
      "Tapering-off algorithm finished in 0.016533851623535156 s\n",
      "\n",
      "Qubit: 0    Tau: 1.0 [Z0 Z2 Z4 Z6]\n",
      "Qubit: 1    Tau: 1.0 [Z1]\n",
      "Qubit: 3    Tau: 1.0 [Z3]\n",
      "Qubit: 5    Tau: 1.0 [Z5]\n",
      "Qubit: 7    Tau: 1.0 [Z7]\n",
      "\n",
      "Symmetry-forbidden pauli operators are removed.\n",
      "Using update_pauli2 for evolve: 3.98 times faster\n",
      "2022-09-16 00:31:56.800860:  Enter VQE_driver\n",
      "Entered VQE driver\n",
      "secondary: 0, vir: (2, 2), act: (2, 2), core: 0\n",
      "ndim1: 4, ndim2: 10\n",
      "Performing VQE for sauccsd\n",
      "Number of VQE parameters: 4\n",
      "Initial configuration: |00001111>\n",
      "Convergence criteria: ftol = 1E-09, gtol = 1E-05\n",
      "Derivatives: Analytical\n",
      "Circuit order: Exp[T1] Exp[T2] |0>\n",
      "Time for state preparation in cost 0.00010\n",
      "Time for expectation value in cost 0.00070\n",
      "Initial: E[sauccsd] = -108.541914960860  <S**2> = +0.000000  rho = 1  \n",
      "Time for state preparation in cost 0.00014\n",
      "Time for expectation value in cost 0.00090\n",
      " cost =  -108.5419149608595291    ||g|| = 7.84e-01    g_max = 7.50e-01   grad time = 0.009\n",
      "mpi.rank=0    Initial |H>:  0.005   Initial U!|H>: 0.000    U!|0>:  0.000    U!|H>: 0.000    sigma|0>:  0.003   Inner_product:  0.000\n",
      "Time for state preparation in cost 0.00042\n",
      "Time for expectation value in cost 0.00075\n",
      " cost =  -107.5520158776789401    ||g|| = 1.03e+00    g_max = 5.78e-01   grad time = 0.010\n",
      "mpi.rank=0    Initial |H>:  0.005   Initial U!|H>: 0.000    U!|0>:  0.001    U!|H>: 0.001    sigma|0>:  0.003   Inner_product:  0.000\n",
      "Time for state preparation in cost 0.00036\n",
      "Time for expectation value in cost 0.00076\n",
      " cost =  -108.5812949788383577    ||g|| = 1.22e-01    g_max = 1.09e-01   grad time = 0.010\n",
      "mpi.rank=0    Initial |H>:  0.005   Initial U!|H>: 0.000    U!|0>:  0.001    U!|H>: 0.001    sigma|0>:  0.003   Inner_product:  0.000\n",
      "Time for state preparation in cost 0.00036\n",
      "Time for expectation value in cost 0.00076\n",
      "      1: E[sauccsd] = -108.581294978838  <S**2> = +0.000000  Grad = 1.22e-01  CPU Time =    0.04695  (0.00 / step)\n",
      "Time for state preparation in cost 0.00039\n",
      "Time for expectation value in cost 0.00072\n",
      " cost =  -108.5822760679616863    ||g|| = 8.87e-03    g_max = 7.23e-03   grad time = 0.010\n",
      "mpi.rank=0    Initial |H>:  0.005   Initial U!|H>: 0.000    U!|0>:  0.001    U!|H>: 0.001    sigma|0>:  0.003   Inner_product:  0.000\n",
      "Time for state preparation in cost 0.00037\n",
      "Time for expectation value in cost 0.00076\n",
      "      2: E[sauccsd] = -108.582276067962  <S**2> = +0.000000  Grad = 8.87e-03  CPU Time =    0.01529  (0.00 / step)\n",
      "Time for state preparation in cost 0.00041\n",
      "Time for expectation value in cost 0.00065\n",
      " cost =  -108.5822820410744782    ||g|| = 1.91e-03    g_max = 1.61e-03   grad time = 0.009\n",
      "mpi.rank=0    Initial |H>:  0.004   Initial U!|H>: 0.000    U!|0>:  0.001    U!|H>: 0.001    sigma|0>:  0.003   Inner_product:  0.000\n",
      "Time for state preparation in cost 0.00040\n",
      "Time for expectation value in cost 0.00072\n",
      "      3: E[sauccsd] = -108.582282041075  <S**2> = +0.000000  Grad = 1.91e-03  CPU Time =    0.01474  (0.00 / step)\n",
      "Time for state preparation in cost 0.00040\n",
      "Time for expectation value in cost 0.00068\n",
      " cost =  -108.5822823436881492    ||g|| = 2.31e-05    g_max = 6.48e-06   grad time = 0.009\n",
      "mpi.rank=0    Initial |H>:  0.004   Initial U!|H>: 0.000    U!|0>:  0.001    U!|H>: 0.001    sigma|0>:  0.003   Inner_product:  0.000\n",
      "Time for state preparation in cost 0.00038\n",
      "Time for expectation value in cost 0.00088\n",
      "      4: E[sauccsd] = -108.582282343688  <S**2> = +0.000000  Grad = 2.31e-05  CPU Time =    0.01446  (0.00 / step)\n",
      "Time for state preparation in cost 0.00046\n",
      "Time for expectation value in cost 0.00062\n",
      " cost =  -108.5822823437332971    ||g|| = 6.10e-07    g_max = 2.11e-07   grad time = 0.009\n",
      "mpi.rank=0    Initial |H>:  0.004   Initial U!|H>: 0.000    U!|0>:  0.001    U!|H>: 0.001    sigma|0>:  0.003   Inner_product:  0.000\n",
      "Time for state preparation in cost 0.00039\n",
      "Time for expectation value in cost 0.00085\n",
      "      5: E[sauccsd] = -108.582282343733  <S**2> = +0.000000  Grad = 6.10e-07  CPU Time =    0.01539  (0.00 / step)\n",
      "Time for state preparation in cost 0.00044\n",
      "Time for expectation value in cost 0.00068\n",
      "  Final: E[sauccsd] = -108.582282343733  <S**2> = +0.000000  rho = 1 \n",
      "\n",
      "(sauccsd state)\n",
      "    Basis            Coef\n",
      "| 00000101 > : +0.9793 +0.0000i\n",
      "| 00010100 > : -0.1911 +0.0000i\n",
      "\n",
      "\n",
      "VQE Done: CPU Time =          0.1143\n",
      "\n"
     ]
    }
   ],
   "source": [
    "Q.set(debug=True)\n",
    "Q.initialize()\n",
    "Q.run()"
   ]
  },
  {
   "cell_type": "code",
   "execution_count": 28,
   "metadata": {},
   "outputs": [
    {
     "name": "stdout",
     "output_type": "stream",
     "text": [
      "True\n"
     ]
    }
   ],
   "source": [
    "print(cf.debug)"
   ]
  },
  {
   "cell_type": "code",
   "execution_count": null,
   "metadata": {},
   "outputs": [],
   "source": []
  }
 ],
 "metadata": {
  "kernelspec": {
   "display_name": "Python 3 (ipykernel)",
   "language": "python",
   "name": "python3"
  },
  "language_info": {
   "codemirror_mode": {
    "name": "ipython",
    "version": 3
   },
   "file_extension": ".py",
   "mimetype": "text/x-python",
   "name": "python",
   "nbconvert_exporter": "python",
   "pygments_lexer": "ipython3",
   "version": "3.9.12"
  }
 },
 "nbformat": 4,
 "nbformat_minor": 4
}
