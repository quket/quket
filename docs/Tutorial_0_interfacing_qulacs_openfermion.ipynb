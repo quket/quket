{
 "cells": [
  {
   "cell_type": "markdown",
   "metadata": {},
   "source": [
    "# Tutorial (0): Interfacing Qulacs and OpenFermion\n",
    "\n",
    "There are several useful functions to accelerate algorithm developments.\n",
    "\n",
    "\n",
    "Quket extends the usabilities of `openfermion`'s `FermionOperator` and `QubitOperator` such that they can be directly applied to `Qulacs`' `QuantumState`.  \n",
    "It also adds some easy-manipulations for `QuantumState` so that it can be added or subtracted.  "
   ]
  },
  {
   "cell_type": "code",
   "execution_count": 1,
   "metadata": {},
   "outputs": [
    {
     "name": "stdout",
     "output_type": "stream",
     "text": [
      "mpi4py is not imported. no MPI.\n"
     ]
    }
   ],
   "source": [
    "# Import necessary modules\n",
    "from quket import *"
   ]
  },
  {
   "cell_type": "markdown",
   "metadata": {},
   "source": [
    "#### `QuantumState`, `QubitOperator`, `FermionOperator` used in `Quket` are different from those with original libaries. \n",
    "These classes are overridden and defined in `quket.lib` module to enable new functionalities.  "
   ]
  },
  {
   "cell_type": "code",
   "execution_count": 2,
   "metadata": {},
   "outputs": [
    {
     "name": "stdout",
     "output_type": "stream",
     "text": [
      "QuantumState\n",
      "<class 'quket.lib.qulacs.QuantumState'>\n",
      "<class 'qulacs.QuantumState'>\n",
      "\n",
      "QubitOperator\n",
      "<class 'quket.lib.openfermion.QubitOperator'>\n",
      "<class 'openfermion.ops.operators.qubit_operator.QubitOperator'>\n",
      "\n",
      "FermionOperator\n",
      "<class 'quket.lib.openfermion.FermionOperator'>\n",
      "<class 'openfermion.ops.operators.fermion_operator.FermionOperator'>\n"
     ]
    }
   ],
   "source": [
    "import quket, openfermion, qulacs\n",
    "print('QuantumState')\n",
    "print(quket.QuantumState)\n",
    "print(qulacs.QuantumState)\n",
    "\n",
    "print('\\nQubitOperator')\n",
    "print(quket.QubitOperator)\n",
    "print(openfermion.QubitOperator)\n",
    "\n",
    "print('\\nFermionOperator')\n",
    "print(quket.FermionOperator)\n",
    "print(openfermion.FermionOperator)"
   ]
  },
  {
   "cell_type": "markdown",
   "metadata": {},
   "source": [
    "# QuantumState"
   ]
  },
  {
   "cell_type": "markdown",
   "metadata": {},
   "source": [
    "`quket.QuantumState` prepares a quantum state as a state vector, in exactly the same way as `qulacs.QuantumState`. \n",
    "\n",
    "The following example generates a 4-qubit state in `psi`. <br>\n",
    "`psi` initially comprises only `|0000>`, and can be set to `|0011>` by `set_computational_basis`.\n",
    "\n",
    "A quantum state can be printed neatly with `print_state()`."
   ]
  },
  {
   "cell_type": "code",
   "execution_count": 3,
   "metadata": {},
   "outputs": [
    {
     "name": "stdout",
     "output_type": "stream",
     "text": [
      "  Basis          Coef\n",
      "| 0000 > : +1.0000 +0.0000i\n",
      "\n",
      "  Basis          Coef\n",
      "| 0011 > : +1.0000 +0.0000i\n",
      "\n"
     ]
    }
   ],
   "source": [
    "psi = QuantumState(4)\n",
    "print_state(psi)\n",
    "psi.set_computational_basis(0b0011)\n",
    "print_state(psi)"
   ]
  },
  {
   "cell_type": "markdown",
   "metadata": {},
   "source": [
    "However, `quket.QuantumState` allows to prepare this state with the following line."
   ]
  },
  {
   "cell_type": "code",
   "execution_count": 4,
   "metadata": {},
   "outputs": [
    {
     "name": "stdout",
     "output_type": "stream",
     "text": [
      "  Basis          Coef\n",
      "| 0011 > : +1.0000 +0.0000i\n",
      "\n"
     ]
    }
   ],
   "source": [
    "psi = QuantumState(4, '|0011>')\n",
    "print_state(psi)"
   ]
  },
  {
   "cell_type": "markdown",
   "metadata": {},
   "source": [
    "The second argument accepts either of the followings:\n",
    "- a determinant as `str` or `int` : e.g. `'|0011>'`, `3`\n",
    "- a linear combination of determinants as `str` : e.g. `'-0.1 * |0011> + (0.2 + 0.5j) |1100>'`\n",
    "- Haar random state by `'random'`\n",
    "\n",
    "if `normalize == False`, no normalization is performed."
   ]
  },
  {
   "cell_type": "code",
   "execution_count": 5,
   "metadata": {},
   "outputs": [
    {
     "name": "stdout",
     "output_type": "stream",
     "text": [
      "3\n",
      "  Basis          Coef\n",
      "| 0011 > : +1.0000 +0.0000i\n",
      "\n",
      "-0.1 * |0011> + (0.2 + 0.5j) |1100>\n",
      "  Basis          Coef\n",
      "| 0011 > : -0.1826 +0.0000i\n",
      "| 1100 > : +0.3651 +0.9129i\n",
      "\n",
      "random\n",
      "  Basis          Coef\n",
      "| 0000 > : -0.1732 +0.3182i\n",
      "| 0010 > : +0.1635 +0.0790i\n",
      "| 0011 > : +0.0323 +0.2466i\n",
      "| 0100 > : +0.2255 +0.1523i\n",
      "| 0101 > : +0.1692 +0.0185i\n",
      "| 0110 > : +0.1836 -0.1403i\n",
      "| 0111 > : -0.0850 +0.2530i\n",
      "| 1000 > : +0.3076 +0.1920i\n",
      "| 1010 > : +0.0853 -0.2993i\n",
      "| 1011 > : -0.1040 -0.2431i\n",
      "| 1100 > : -0.1305 -0.1455i\n",
      "| 1101 > : +0.1577 -0.2408i\n",
      "| 1110 > : -0.0760 -0.3130i\n",
      "\n"
     ]
    }
   ],
   "source": [
    "psi1 = QuantumState(4, 3)\n",
    "print_state(psi1, '3')\n",
    "\n",
    "psi2 = QuantumState(4, '-0.1 * |0011> + (0.2 + 0.5j) |1100>')\n",
    "print_state(psi2, '-0.1 * |0011> + (0.2 + 0.5j) |1100>')\n",
    "\n",
    "psi3 = QuantumState(4, 'random')\n",
    "print_state(psi3, 'random')"
   ]
  },
  {
   "cell_type": "markdown",
   "metadata": {},
   "source": [
    "## Multiplication by a scalar\n",
    "`Quket`'s `QuantumState` can be multiplied by a scalar value."
   ]
  },
  {
   "cell_type": "code",
   "execution_count": 6,
   "metadata": {},
   "outputs": [
    {
     "name": "stdout",
     "output_type": "stream",
     "text": [
      "  Basis          Coef\n",
      "| 0011 > : -1.0000 +0.8000i\n",
      "\n"
     ]
    }
   ],
   "source": [
    "print_state((-1 + 0.8j) * psi)"
   ]
  },
  {
   "cell_type": "markdown",
   "metadata": {},
   "source": [
    "## Addition and subtraction between different `QuantumState`s"
   ]
  },
  {
   "cell_type": "code",
   "execution_count": 7,
   "metadata": {},
   "outputs": [
    {
     "name": "stdout",
     "output_type": "stream",
     "text": [
      "psi + psi2\n",
      "  Basis          Coef\n",
      "| 0011 > : +0.8174 +0.0000i\n",
      "| 1100 > : +0.3651 +0.9129i\n",
      "\n",
      "psi - psi2\n",
      "  Basis          Coef\n",
      "| 0011 > : +1.1826 +0.0000i\n",
      "| 1100 > : -0.3651 -0.9129i\n",
      "\n"
     ]
    }
   ],
   "source": [
    "print_state(psi + psi2, 'psi + psi2')\n",
    "print_state(psi - psi2, 'psi - psi2')"
   ]
  },
  {
   "cell_type": "markdown",
   "metadata": {},
   "source": [
    "## Inner product\n",
    "Inner product can be performed by `@`. This uses `qulacs`'s `inner_product`.\n",
    "\n",
    "```\n",
    "  complex = QuantumState @ QuantumState\n",
    "```"
   ]
  },
  {
   "cell_type": "code",
   "execution_count": 8,
   "metadata": {},
   "outputs": [
    {
     "name": "stdout",
     "output_type": "stream",
     "text": [
      "(-0.18636904498307366+0.021006374432663892j)\n",
      "(-0.18636904498307366+0.021006374432663892j)\n"
     ]
    }
   ],
   "source": [
    "print(psi2 @ psi3)\n",
    "print(inner_product(psi2, psi3))"
   ]
  },
  {
   "cell_type": "markdown",
   "metadata": {},
   "source": [
    "## Applying QubitOperator"
   ]
  },
  {
   "cell_type": "markdown",
   "metadata": {},
   "source": [
    "In some cases, one may want to apply an arbitrary non-unitary operator, for example $\\hat H$, to a quantum state.  \n",
    "Such an operation is not trivial with quantum computers but the state-vector implementation of Quket allows us to do it.  "
   ]
  },
  {
   "cell_type": "markdown",
   "metadata": {},
   "source": [
    "Application of an operator (or scalar value) to a qunatum state can be performed by `@`\n",
    "\n",
    "```\n",
    "  QuantumState = QubitOperator @ QuantumState\n",
    "```"
   ]
  },
  {
   "cell_type": "code",
   "execution_count": 9,
   "metadata": {},
   "outputs": [
    {
     "name": "stdout",
     "output_type": "stream",
     "text": [
      "  Basis          Coef\n",
      "| 0000 > : +0.0000 -1.0000i\n",
      "| 0101 > : -1.0000 +0.0000i\n",
      "\n"
     ]
    }
   ],
   "source": [
    "Op = QubitOperator('X0 Y1 Z2') + QubitOperator('X1 Y2 Z3', 1j)\n",
    "psi = QuantumState(4, '|0011>')\n",
    "\n",
    "Hpsi = Op @ psi\n",
    "print_state(Hpsi)"
   ]
  },
  {
   "cell_type": "markdown",
   "metadata": {},
   "source": [
    "If the ordering of QubitOperator and QuantumState is opposite,\n",
    "```\n",
    "  QuantumState = QuantumState @ QubitOperator\n",
    "```\n",
    "still gives `QuantumState` but `QubitOperator` is Hermitian conjugated to present a bra state."
   ]
  },
  {
   "cell_type": "code",
   "execution_count": 10,
   "metadata": {},
   "outputs": [
    {
     "name": "stdout",
     "output_type": "stream",
     "text": [
      "  Basis          Coef\n",
      "| 0000 > : +0.0000 -1.0000i\n",
      "| 0101 > : +1.0000 +0.0000i\n",
      "\n"
     ]
    }
   ],
   "source": [
    "psiH = psi @ Op\n",
    "print_state(psiH)"
   ]
  },
  {
   "cell_type": "markdown",
   "metadata": {},
   "source": [
    "Some examples:<br>\n",
    "(note that `Op` is not Hermitian here)"
   ]
  },
  {
   "cell_type": "code",
   "execution_count": 11,
   "metadata": {},
   "outputs": [
    {
     "name": "stdout",
     "output_type": "stream",
     "text": [
      "(-0.1489680346037059-0.15465806185652203j)\n",
      "(-0.1489680346037059-0.15465806185652203j)\n",
      "(-0.4874290495664323+0.19166613861563847j)\n"
     ]
    }
   ],
   "source": [
    "print(psi @ Op @ psi3)\n",
    "print(psiH @ psi3)\n",
    "print(psi3 @ Hpsi)\n"
   ]
  },
  {
   "cell_type": "markdown",
   "metadata": {},
   "source": [
    "## Ordering of applications matters"
   ]
  },
  {
   "cell_type": "code",
   "execution_count": 12,
   "metadata": {},
   "outputs": [
    {
     "name": "stdout",
     "output_type": "stream",
     "text": [
      "(0.2743229870530647+0j)\n",
      "(0.2008511696694064+0.18684728755897745j)\n"
     ]
    }
   ],
   "source": [
    "print((psi3 @ Op @ psi) * (psi @  hermitian_conjugated(Op) @ psi3))\n",
    "print((psi3 @ Op @ psi  * psi) @ (hermitian_conjugated(Op) @ psi3))"
   ]
  },
  {
   "cell_type": "markdown",
   "metadata": {},
   "source": [
    "The first operation corresponds to $(\\langle psi3 | Op | psi\\rangle) \\times (\\langle psi |  Op^\\dagger | psi3\\rangle ))  = |\\langle psi3 | Op | psi \\rangle|^2$.\n",
    "\n",
    "The second operation corresponds to $|psi'\\rangle = (\\langle psi3 | Op | psi\\rangle) |psi\\rangle$ and then $\\langle psi' |  Op^\\dagger | psi3\\rangle = (\\langle psi3 | Op | psi\\rangle)^* \\times (\\langle psi |  Op^\\dagger | psi3\\rangle)$.\n",
    "\n",
    "Note that Python operates from left to right."
   ]
  },
  {
   "cell_type": "markdown",
   "metadata": {},
   "source": [
    "## In order to use these features, the following functions should be replaced by those of Quket.\n",
    "\n",
    "```python\n",
    "from quket import(\n",
    "    QubitOperator,\n",
    "    FermionOperator,\n",
    "    jordan_wigner,\n",
    "    reverse_jordan_wigner,\n",
    "    bravyi_kitaev,\n",
    "    get_fermion_operator,\n",
    "    commutator,\n",
    "    s_squared_operator,\n",
    "    number_operator,\n",
    "    normal_ordered,\n",
    "    hermitian_conjugated\n",
    "    )\n",
    "```"
   ]
  }
 ],
 "metadata": {
  "kernelspec": {
   "display_name": "Python 3 (ipykernel)",
   "language": "python",
   "name": "python3"
  },
  "language_info": {
   "codemirror_mode": {
    "name": "ipython",
    "version": 3
   },
   "file_extension": ".py",
   "mimetype": "text/x-python",
   "name": "python",
   "nbconvert_exporter": "python",
   "pygments_lexer": "ipython3",
   "version": "3.9.12"
  }
 },
 "nbformat": 4,
 "nbformat_minor": 4
}
