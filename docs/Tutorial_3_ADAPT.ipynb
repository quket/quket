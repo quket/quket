{
 "cells": [
  {
   "cell_type": "markdown",
   "metadata": {},
   "source": [
    "# Tutorial (3): ADAPT-VQE and reduction of pool\n",
    "\n",
    "Here we use ADAPT-VQE to compute N$_2$/STO-6G."
   ]
  },
  {
   "cell_type": "markdown",
   "metadata": {},
   "source": [
    "[(1) Prepare and run ADAPT-VQE](#(1)-Prepare-and-run-ADAPT-VQE)  \n",
    "[(2) Run ADAPT-VQE _*with*_ point-group symmetry](#(2)-Run-ADAPT-VQE-with-point-group-symmetry)  \n",
    "[(3) Run ADAPT-VQE _*with*_ qubits tapered-off](#(3)-Run-ADAPT-VQE-with-qubits-tapered-off)  \n",
    "\n"
   ]
  },
  {
   "cell_type": "code",
   "execution_count": 1,
   "metadata": {},
   "outputs": [
    {
     "name": "stdout",
     "output_type": "stream",
     "text": [
      "mpi4py is not imported. no MPI.\n"
     ]
    }
   ],
   "source": [
    "# import necessary modules\n",
    "from quket import *\n",
    "from quket.utils import *\n",
    "import quket.config as cf"
   ]
  },
  {
   "cell_type": "markdown",
   "metadata": {},
   "source": [
    "### (1) Prepare and run ADAPT-VQE\n",
    "Let us read the input file in the sample directory."
   ]
  },
  {
   "cell_type": "code",
   "execution_count": 2,
   "metadata": {},
   "outputs": [
    {
     "name": "stdout",
     "output_type": "stream",
     "text": [
      "\n",
      "##################### INPUT ########################\n",
      "basis        = sto-3G\n",
      "multiplicity = 1\n",
      "charge       = 0\n",
      "n_electrons  = 6\n",
      "n_orbitals   = 6\n",
      "geometry     \n",
      "  N  1.0 0. 0.\n",
      "  N  0.0 0. 0.\n",
      "maxiter      = 100\n",
      "ansatz       = adapt\n",
      "adapt_max   = 1000\n",
      "adapt_eps    = 0.05\n",
      "adapt_mode = original \n",
      "comment ADAPT N2 mode original\n",
      "####################################################\n",
      "\n",
      "Basis set = sto-3G\n",
      "\n",
      "*** Geometry ******************************\n",
      "  N     1.0000000    0.0000000    0.0000000\n",
      "  N     0.0000000    0.0000000    0.0000000\n",
      "*******************************************\n",
      "\n",
      "Symmetry Dooh : D2h(Abelian)\n",
      "E[FCI]    = -107.520461272525     (Spin = 1   Ms = 0)\n",
      "E[HF]     = -107.419532451682     (Spin = 1   Ms = 0)\n"
     ]
    },
    {
     "name": "stderr",
     "output_type": "stream",
     "text": [
      "Overwritten attributes  contract_2e  of <class 'pyscf.fci.direct_spin1_symm.FCISolver'>\n"
     ]
    },
    {
     "name": "stdout",
     "output_type": "stream",
     "text": [
      "Tapering-Off Results:\n",
      "List of redundant qubits:  [0, 1, 2, 4, 6]\n",
      "Qubit: 0    Tau: 1.0 [Z0 Z3 Z5 Z7 Z8 Z11]\n",
      "Qubit: 1    Tau: 1.0 [Z1 Z3 Z5 Z7 Z9 Z11]\n",
      "Qubit: 2    Tau: 1.0 [Z2 Z3 Z8 Z9 Z10 Z11]\n",
      "Qubit: 4    Tau: 1.0 [Z4 Z5 Z10 Z11]\n",
      "Qubit: 6    Tau: 1.0 [Z6 Z7 Z8 Z9 Z10 Z11]\n",
      "\n",
      "NBasis = 10\n"
     ]
    }
   ],
   "source": [
    "### Create QuketData for N2 ###\n",
    "ADAPT = create(\"../samples/ADAPT/adapt_n2.inp\")"
   ]
  },
  {
   "cell_type": "markdown",
   "metadata": {},
   "source": [
    "#### Check MOs and FCI state"
   ]
  },
  {
   "cell_type": "code",
   "execution_count": 3,
   "metadata": {},
   "outputs": [
    {
     "name": "stdout",
     "output_type": "stream",
     "text": [
      "\n",
      "[Molecular Orbitals]\n",
      "---+-------+------------+------------------\n",
      " # |  Sym  |   energy   |     category\n",
      "---+-------+------------+------------------\n",
      " 0 |   Ag  |   -15.5593 | Frozen Core\n",
      " 1 |  B1u  |   -15.5545 | Frozen Core\n",
      " 2 |   Ag  |    -1.5401 | Frozen Core\n",
      " 3 |  B1u  |    -0.7100 | Frozen Core\n",
      " 4 |  B2u  |    -0.6461 | Active (occupied)\n",
      " 5 |  B3u  |    -0.6461 | Active (occupied)\n",
      " 6 |   Ag  |    -0.5650 | Active (occupied)\n",
      " 7 |  B2g  |     0.3294 | Active (virtual)\n",
      " 8 |  B3g  |     0.3294 | Active (virtual)\n",
      " 9 |  B1u  |     1.3855 | Active (virtual)\n",
      "---+-------+------------+------------------\n",
      "\n",
      "Davidson convergence achieved.\n",
      "FCI in Qubits\n",
      "(FCI state : E = -107.5204612726  multiplicity = 1.0)\n",
      "      Basis              Coef\n",
      "| 000000111111 > : -0.9727 +0.0000i\n",
      "| 000011110011 > : +0.1147 +0.0000i\n",
      "| 001100111100 > : +0.1147 +0.0000i\n",
      "\n"
     ]
    }
   ],
   "source": [
    "ADAPT.print_mo_energy()\n",
    "ADAPT.fci2qubit()"
   ]
  },
  {
   "cell_type": "markdown",
   "metadata": {},
   "source": [
    "#### Perform VQE\n",
    "For ADAPT-VQE, use `run()`.  \n",
    "Do not use `vqe()` because `pauli_list` is empty!"
   ]
  },
  {
   "cell_type": "code",
   "execution_count": 4,
   "metadata": {},
   "outputs": [
    {
     "name": "stdout",
     "output_type": "stream",
     "text": [
      "Symmetry-forbidden pauli operators are removed.\n",
      "Performing ADAPT-VQE [original]\n",
      "ADAPT Convergence criterion = 5E-02\n",
      "Initial configuration: | 000000111111 >\n",
      "VQE Convergence criteria: ftol = 1E-09, gtol = 1E-05\n",
      "Number of operators in pool: 57\n",
      "    1:   E[adapt] = -107.447042561269   <S**2> = -0.00000000000000   Grad = 1.51e+00   Fidelity = 0.958177   CPU Time =  0.30   <N> =  6.00000000000000   <Sz> =  0.00000000000000   CNOT = 13\n",
      "    2:   E[adapt] = -107.474535044054   <S**2> = -0.00000000000000   Grad = 1.23e+00   Fidelity = 0.971009   CPU Time =  0.30   <N> =  5.99999999999999   <Sz> =  0.00000000000000   CNOT = 26\n",
      "    3:   E[adapt] = -107.494254224301   <S**2> =  0.03453996047503   Grad = 8.81e-01   Fidelity = 0.983239   CPU Time =  0.37   <N> =  6.00000000000001   <Sz> =  0.00000000000000   CNOT = 60\n",
      "    4:   E[adapt] = -107.496534605146   <S**2> =  0.03454121871732   Grad = 7.28e-01   Fidelity = 0.983673   CPU Time =  0.34   <N> =  5.99999999999999   <Sz> =  0.00000000000000   CNOT = 73\n",
      "    5:   E[adapt] = -107.501419937677   <S**2> =  0.03827487451411   Grad = 6.26e-01   Fidelity = 0.985471   CPU Time =  0.58   <N> =  6.00000000000000   <Sz> =  0.00000000000000   CNOT = 115\n",
      "    6:   E[adapt] = -107.505780811952   <S**2> =  0.04109146072043   Grad = 5.28e-01   Fidelity = 0.987267   CPU Time =  0.63   <N> =  6.00000000000001   <Sz> =  0.00000000000000   CNOT = 157\n",
      "    7:   E[adapt] = -107.508294173432   <S**2> =  0.03577062187702   Grad = 4.37e-01   Fidelity = 0.988595   CPU Time =  0.64   <N> =  5.99999999999998   <Sz> =  0.00000000000000   CNOT = 199\n",
      "    8:   E[adapt] = -107.513117097632   <S**2> =  0.00726141610436   Grad = 3.86e-01   Fidelity = 0.994135   CPU Time =  0.74   <N> =  6.00000000000001   <Sz> =  0.00000000000000   CNOT = 233\n",
      "    9:   E[adapt] = -107.515378365646   <S**2> =  0.00334722558348   Grad = 3.42e-01   Fidelity = 0.995343   CPU Time =  0.67   <N> =  5.99999999999998   <Sz> =  0.00000000000000   CNOT = 275\n",
      "   10:   E[adapt] = -107.516685468594   <S**2> =  0.00330391829090   Grad = 2.88e-01   Fidelity = 0.996641   CPU Time =  0.57   <N> =  6.00000000000000   <Sz> =  0.00000000000000   CNOT = 288\n",
      "   11:   E[adapt] = -107.517928094995   <S**2> =  0.00327452443121   Grad = 2.51e-01   Fidelity = 0.997936   CPU Time =  0.59   <N> =  6.00000000000000   <Sz> =  0.00000000000000   CNOT = 301\n",
      "   12:   E[adapt] = -107.518218290540   <S**2> =  0.00326469239734   Grad = 2.12e-01   Fidelity = 0.998026   CPU Time =  0.52   <N> =  5.99999999999998   <Sz> =  0.00000000000000   CNOT = 314\n",
      "   13:   E[adapt] = -107.518503892721   <S**2> =  0.00325686107635   Grad = 1.76e-01   Fidelity = 0.998115   CPU Time =  0.53   <N> =  5.99999999999999   <Sz> =  0.00000000000000   CNOT = 327\n",
      "   14:   E[adapt] = -107.519604307310   <S**2> =  0.00016715426539   Grad = 1.31e-01   Fidelity = 0.999360   CPU Time =  0.91   <N> =  6.00000000000004   <Sz> =  0.00000000000000   CNOT = 361\n",
      "   15:   E[adapt] = -107.519862441213   <S**2> =  0.00016700092573   Grad = 1.01e-01   Fidelity = 0.999604   CPU Time =  0.67   <N> =  5.99999999999998   <Sz> =  0.00000000000000   CNOT = 374\n",
      "   16:   E[adapt] = -107.520149874617   <S**2> =  0.00016686962236   Grad = 8.18e-02   Fidelity = 0.999869   CPU Time =  0.68   <N> =  5.99999999999999   <Sz> =  0.00000000000000   CNOT = 387\n",
      "gradient norm = 4.219505e-02 < 5.000000e-02\n",
      "\n",
      "-----------ADAPT-VQE finished----------\n",
      "number of parameter is  16\n",
      "Final: E[adapt] = -107.520149874617   <S**2> = 0.000166869622357   Fidelity = 0.999869\n",
      "      Basis              Coef\n",
      "| 000000111111 > : +0.9727 +0.0000i\n",
      "| 000011110011 > : -0.1155 +0.0000i\n",
      "| 001100111100 > : -0.1155 +0.0000i\n",
      "\n",
      "\n",
      " Done: CPU Time =           10.6614\n"
     ]
    }
   ],
   "source": [
    "# Run ADAPT-VQE\n",
    "ADAPT.run()"
   ]
  },
  {
   "cell_type": "markdown",
   "metadata": {},
   "source": [
    "### (2) Run ADAPT-VQE _*without*_ point-group symmetry\n",
    "By default, point-group symmetry is taken into account by setting `symmetry_pauli = True`. \n",
    "\n",
    "For other ansatze like UCCSD, symmetry-forbidden excitations/paulis are removed from `pauli_list`.  \n",
    "This makes a simulation more efficient and faster (and stable). \n",
    "\n",
    "If point-group symmetry is not to be considered by setting `symmetry_pauli = False`, more pauli operator candidates are generated (which is thus not recommended)."
   ]
  },
  {
   "cell_type": "code",
   "execution_count": 5,
   "metadata": {},
   "outputs": [
    {
     "name": "stdout",
     "output_type": "stream",
     "text": [
      "\n",
      "##################### INPUT ########################\n",
      "basis        = sto-3G\n",
      "multiplicity = 1\n",
      "charge       = 0\n",
      "n_electrons  = 6\n",
      "n_orbitals   = 6\n",
      "geometry     \n",
      "  N  1.0 0. 0.\n",
      "  N  0.0 0. 0.\n",
      "maxiter      = 100\n",
      "ansatz       = adapt\n",
      "adapt_max   = 1000\n",
      "adapt_eps    = 0.05\n",
      "adapt_mode = original \n",
      "comment ADAPT N2 mode original\n",
      "####################################################\n",
      "\n",
      "Basis set = sto-3G\n",
      "\n",
      "*** Geometry ******************************\n",
      "  N     1.0000000    0.0000000    0.0000000\n",
      "  N     0.0000000    0.0000000    0.0000000\n",
      "*******************************************\n",
      "\n",
      "Symmetry Dooh : D2h(Abelian)\n",
      "E[FCI]    = -107.520461272525     (Spin = 1   Ms = 0)\n",
      "E[HF]     = -107.419532451682     (Spin = 1   Ms = 0)\n",
      "Tapering-Off Results:\n",
      "List of redundant qubits:  [0, 1, 2, 4, 6]\n",
      "Qubit: 0    Tau: 1.0 [Z0 Z3 Z5 Z7 Z8 Z11]\n",
      "Qubit: 1    Tau: 1.0 [Z1 Z3 Z5 Z7 Z9 Z11]\n",
      "Qubit: 2    Tau: 1.0 [Z2 Z3 Z8 Z9 Z10 Z11]\n",
      "Qubit: 4    Tau: 1.0 [Z4 Z5 Z10 Z11]\n",
      "Qubit: 6    Tau: 1.0 [Z6 Z7 Z8 Z9 Z10 Z11]\n",
      "\n",
      "NBasis = 10\n"
     ]
    }
   ],
   "source": [
    "### Create QuketData for N2 ###\n",
    "ADAPT_sym = create(\"../samples/ADAPT/adapt_n2.inp\", symmetry_pauli=False)"
   ]
  },
  {
   "cell_type": "markdown",
   "metadata": {},
   "source": [
    "#### The symmetry-forbidden excitations (paulis) are included in the operator pool.\n",
    "This makes the performance much worse."
   ]
  },
  {
   "cell_type": "code",
   "execution_count": 6,
   "metadata": {},
   "outputs": [
    {
     "name": "stdout",
     "output_type": "stream",
     "text": [
      "Performing ADAPT-VQE [original]\n",
      "ADAPT Convergence criterion = 5E-02\n",
      "Initial configuration: | 000000111111 >\n",
      "VQE Convergence criteria: ftol = 1E-09, gtol = 1E-05\n",
      "Number of operators in pool: 450\n",
      "    1:   E[adapt] = -107.447042561269   <S**2> = -0.00000000000000   Grad = 1.51e+00   Fidelity = 0.000000   CPU Time =  0.93   <N> =  6.00000000000000   <Sz> =  0.00000000000000   CNOT = 13\n",
      "    2:   E[adapt] = -107.474535044054   <S**2> =  0.00000000000000   Grad = 1.23e+00   Fidelity = 0.000000   CPU Time =  0.94   <N> =  5.99999999999999   <Sz> =  0.00000000000000   CNOT = 26\n",
      "    3:   E[adapt] = -107.494254224302   <S**2> =  0.03453996047503   Grad = 8.81e-01   Fidelity = 0.000000   CPU Time =  1.01   <N> =  6.00000000000002   <Sz> =  0.00000000000000   CNOT = 60\n",
      "    4:   E[adapt] = -107.496534605146   <S**2> =  0.03454121871732   Grad = 7.28e-01   Fidelity = 0.000000   CPU Time =  0.98   <N> =  5.99999999999999   <Sz> =  0.00000000000000   CNOT = 73\n",
      "    5:   E[adapt] = -107.501419937677   <S**2> =  0.03827487451412   Grad = 6.26e-01   Fidelity = 0.000000   CPU Time =  1.22   <N> =  6.00000000000001   <Sz> =  0.00000000000000   CNOT = 115\n",
      "    6:   E[adapt] = -107.505780811952   <S**2> =  0.04109146072043   Grad = 5.28e-01   Fidelity = 0.000000   CPU Time =  1.26   <N> =  6.00000000000000   <Sz> =  0.00000000000000   CNOT = 157\n",
      "    7:   E[adapt] = -107.508294173432   <S**2> =  0.03577062187703   Grad = 4.37e-01   Fidelity = 0.000000   CPU Time =  1.25   <N> =  5.99999999999998   <Sz> =  0.00000000000000   CNOT = 199\n",
      "    8:   E[adapt] = -107.513117097632   <S**2> =  0.00726141610436   Grad = 3.86e-01   Fidelity = 0.000000   CPU Time =  1.39   <N> =  6.00000000000001   <Sz> =  0.00000000000000   CNOT = 233\n",
      "    9:   E[adapt] = -107.515378365646   <S**2> =  0.00334722558348   Grad = 3.42e-01   Fidelity = 0.000000   CPU Time =  1.29   <N> =  5.99999999999998   <Sz> =  0.00000000000000   CNOT = 275\n",
      "   10:   E[adapt] = -107.516685468593   <S**2> =  0.00330391829090   Grad = 2.88e-01   Fidelity = 0.000000   CPU Time =  1.21   <N> =  5.99999999999998   <Sz> =  0.00000000000000   CNOT = 288\n",
      "   11:   E[adapt] = -107.517928094995   <S**2> =  0.00327452443121   Grad = 2.51e-01   Fidelity = 0.000000   CPU Time =  1.23   <N> =  6.00000000000000   <Sz> =  0.00000000000000   CNOT = 301\n",
      "   12:   E[adapt] = -107.518218290540   <S**2> =  0.00326469239734   Grad = 2.12e-01   Fidelity = 0.000000   CPU Time =  1.16   <N> =  5.99999999999998   <Sz> =  0.00000000000000   CNOT = 314\n",
      "   13:   E[adapt] = -107.518503892721   <S**2> =  0.00325686107635   Grad = 1.76e-01   Fidelity = 0.000000   CPU Time =  1.17   <N> =  5.99999999999998   <Sz> =  0.00000000000000   CNOT = 327\n",
      "   14:   E[adapt] = -107.519604307310   <S**2> =  0.00016715426539   Grad = 1.31e-01   Fidelity = 0.000000   CPU Time =  1.54   <N> =  6.00000000000004   <Sz> =  0.00000000000000   CNOT = 361\n",
      "   15:   E[adapt] = -107.519862441213   <S**2> =  0.00016700092573   Grad = 1.01e-01   Fidelity = 0.000000   CPU Time =  1.30   <N> =  5.99999999999998   <Sz> =  0.00000000000000   CNOT = 374\n",
      "   16:   E[adapt] = -107.520149874617   <S**2> =  0.00016686962236   Grad = 8.18e-02   Fidelity = 0.000000   CPU Time =  1.32   <N> =  5.99999999999999   <Sz> =  0.00000000000000   CNOT = 387\n",
      "gradient norm = 4.219505e-02 < 5.000000e-02\n",
      "\n",
      "-----------ADAPT-VQE finished----------\n",
      "number of parameter is  16\n",
      "Final: E[adapt] = -107.520149874617   <S**2> = 0.000166869622357   Fidelity = 0.000000\n",
      "      Basis              Coef\n",
      "| 000000111111 > : +0.9727 +0.0000i\n",
      "| 000011110011 > : -0.1155 +0.0000i\n",
      "| 001100111100 > : -0.1155 +0.0000i\n",
      "\n",
      "\n",
      " Done: CPU Time =           20.5214\n"
     ]
    }
   ],
   "source": [
    "# Number of operators in pool increases from 57 to 450 due to symmetry-forbiddedn pauli operators.\n",
    "ADAPT_sym.run()"
   ]
  },
  {
   "cell_type": "markdown",
   "metadata": {},
   "source": [
    "### (3) Run ADAPT-VQE _*with*_ qubits tapered-off\n",
    "Tapering-off qubits is always recommended for fast simulations.  \n",
    "Simply use `taper_off()` method.  \n",
    "This will automatically remove the symmetry-forbidden excitations, too."
   ]
  },
  {
   "cell_type": "code",
   "execution_count": 7,
   "metadata": {},
   "outputs": [
    {
     "name": "stdout",
     "output_type": "stream",
     "text": [
      "States     transformed.\n",
      "Operators  transformed.\n",
      "pauli_list transformed.\n"
     ]
    }
   ],
   "source": [
    "ADAPT_sym.taper_off()"
   ]
  },
  {
   "cell_type": "code",
   "execution_count": 8,
   "metadata": {},
   "outputs": [
    {
     "name": "stdout",
     "output_type": "stream",
     "text": [
      "Symmetry-forbidden pauli operators are removed.\n",
      "Performing ADAPT-VQE [original]\n",
      "ADAPT Convergence criterion = 5E-02\n",
      "Initial configuration: | 0111111 >\n",
      "VQE Convergence criteria: ftol = 1E-09, gtol = 1E-05\n",
      "Number of operators in pool: 57\n",
      "    1:   E[adapt] = -107.447042561269   <S**2> = -0.00000000000000   Grad = 1.51e+00   Fidelity = 0.000000   CPU Time =  0.18   <N> =  5.99999999999999   <Sz> =  0.00000000000000   CNOT = 13\n",
      "    2:   E[adapt] = -107.474535044054   <S**2> = -0.00000000000000   Grad = 1.23e+00   Fidelity = 0.000000   CPU Time =  0.17   <N> =  5.99999999999999   <Sz> = -0.00000000000000   CNOT = 26\n",
      "    3:   E[adapt] = -107.494254224301   <S**2> =  0.03453996047504   Grad = 8.81e-01   Fidelity = 0.000000   CPU Time =  0.21   <N> =  6.00000000000001   <Sz> =  0.00000000000000   CNOT = 60\n",
      "    4:   E[adapt] = -107.496534605146   <S**2> =  0.03454121871732   Grad = 7.28e-01   Fidelity = 0.000000   CPU Time =  0.19   <N> =  5.99999999999999   <Sz> =  0.00000000000000   CNOT = 73\n",
      "    5:   E[adapt] = -107.501419937677   <S**2> =  0.03827487451412   Grad = 6.26e-01   Fidelity = 0.000000   CPU Time =  0.30   <N> =  5.99999999999999   <Sz> =  0.00000000000000   CNOT = 115\n",
      "    6:   E[adapt] = -107.505780811952   <S**2> =  0.04109146072044   Grad = 5.28e-01   Fidelity = 0.000000   CPU Time =  0.32   <N> =  6.00000000000001   <Sz> =  0.00000000000000   CNOT = 157\n",
      "    7:   E[adapt] = -107.508294173432   <S**2> =  0.03577062187703   Grad = 4.37e-01   Fidelity = 0.000000   CPU Time =  0.31   <N> =  5.99999999999998   <Sz> =  0.00000000000000   CNOT = 199\n",
      "    8:   E[adapt] = -107.513117097631   <S**2> =  0.00726141610435   Grad = 3.86e-01   Fidelity = 0.000000   CPU Time =  0.37   <N> =  6.00000000000000   <Sz> =  0.00000000000000   CNOT = 233\n",
      "    9:   E[adapt] = -107.515378365646   <S**2> =  0.00334722558348   Grad = 3.42e-01   Fidelity = 0.000000   CPU Time =  0.32   <N> =  5.99999999999997   <Sz> =  0.00000000000000   CNOT = 275\n",
      "   10:   E[adapt] = -107.516685468594   <S**2> =  0.00330391829090   Grad = 2.88e-01   Fidelity = 0.000000   CPU Time =  0.29   <N> =  5.99999999999999   <Sz> =  0.00000000000000   CNOT = 288\n",
      "   11:   E[adapt] = -107.517928094995   <S**2> =  0.00327452443121   Grad = 2.51e-01   Fidelity = 0.000000   CPU Time =  0.30   <N> =  6.00000000000000   <Sz> =  0.00000000000000   CNOT = 301\n",
      "   12:   E[adapt] = -107.518218290540   <S**2> =  0.00326469239734   Grad = 2.12e-01   Fidelity = 0.000000   CPU Time =  0.27   <N> =  5.99999999999998   <Sz> =  0.00000000000000   CNOT = 314\n",
      "   13:   E[adapt] = -107.518503892721   <S**2> =  0.00325686107635   Grad = 1.76e-01   Fidelity = 0.000000   CPU Time =  0.27   <N> =  5.99999999999999   <Sz> =  0.00000000000000   CNOT = 327\n",
      "   14:   E[adapt] = -107.519604307309   <S**2> =  0.00016715426539   Grad = 1.31e-01   Fidelity = 0.000000   CPU Time =  0.45   <N> =  6.00000000000001   <Sz> =  0.00000000000000   CNOT = 361\n",
      "   15:   E[adapt] = -107.519862441213   <S**2> =  0.00016700092573   Grad = 1.01e-01   Fidelity = 0.000000   CPU Time =  0.33   <N> =  5.99999999999998   <Sz> =  0.00000000000000   CNOT = 374\n",
      "   16:   E[adapt] = -107.520149874617   <S**2> =  0.00016686962236   Grad = 8.18e-02   Fidelity = 0.000000   CPU Time =  0.34   <N> =  5.99999999999999   <Sz> =  0.00000000000000   CNOT = 387\n",
      "gradient norm = 4.219505e-02 < 5.000000e-02\n",
      "\n",
      "-----------ADAPT-VQE finished----------\n",
      "number of parameter is  16\n",
      "Final: E[adapt] = -107.520149874617   <S**2> = 0.000166869622357   Fidelity = 0.000000\n",
      "    Basis            Coef\n",
      "| 0000011 > : +0.9727 +0.0000i\n",
      "| 0000110 > : -0.1155 +0.0000i\n",
      "| 0011011 > : -0.1155 +0.0000i\n",
      "\n",
      "\n",
      " Done: CPU Time =            6.3540\n"
     ]
    }
   ],
   "source": [
    "ADAPT_sym.run()"
   ]
  },
  {
   "cell_type": "code",
   "execution_count": null,
   "metadata": {},
   "outputs": [],
   "source": []
  }
 ],
 "metadata": {
  "kernelspec": {
   "display_name": "Python 3 (ipykernel)",
   "language": "python",
   "name": "python3"
  },
  "language_info": {
   "codemirror_mode": {
    "name": "ipython",
    "version": 3
   },
   "file_extension": ".py",
   "mimetype": "text/x-python",
   "name": "python",
   "nbconvert_exporter": "python",
   "pygments_lexer": "ipython3",
   "version": "3.9.12"
  }
 },
 "nbformat": 4,
 "nbformat_minor": 4
}
