{
 "cells": [
  {
   "cell_type": "markdown",
   "metadata": {},
   "source": [
    "# Tutorial (2): Tapering-off qubits\n",
    "\n",
    "Here we show some examples of how to manipulate the tapering-off algorithm according to \n",
    "- S. Bravyi et al., arXiv:1701.08213 (2017).\n",
    "- K. Setia et al., J. Chem. Theory Comput. __16__, 6091 (2020).\n",
    "\n",
    "The test case is N$_2$/STO-6G."
   ]
  },
  {
   "cell_type": "markdown",
   "metadata": {},
   "source": [
    "[(1) Prepare and run UCCSD](#(1)-Prepare-and-run-UCCSD)  \n",
    "[(2) Speed-up by tapering-off qubits](#(2)-Speed-up-by-tapering-off-qubits)  \n",
    "[(3) Tapering-off-related methods](#(3)-Tapering-off-related-methods)  \n",
    "\n"
   ]
  },
  {
   "cell_type": "code",
   "execution_count": 1,
   "metadata": {},
   "outputs": [
    {
     "name": "stdout",
     "output_type": "stream",
     "text": [
      "mpi4py is not imported. no MPI.\n"
     ]
    }
   ],
   "source": [
    "# import necessary modules\n",
    "from quket import *\n",
    "from quket.utils import *\n",
    "import quket.config as cf"
   ]
  },
  {
   "cell_type": "markdown",
   "metadata": {},
   "source": [
    "## (1) Prepare and run UCCSD\n",
    "Run SAUCCSD-VQE to see how log it takes without tapering-off"
   ]
  },
  {
   "cell_type": "code",
   "execution_count": 2,
   "metadata": {},
   "outputs": [
    {
     "name": "stdout",
     "output_type": "stream",
     "text": [
      "Basis set = sto-6g\n",
      "\n",
      "*** Geometry ******************************\n",
      "  N     0.0000000    0.0000000    0.0000000\n",
      "  N     1.0980000    0.0000000    0.0000000\n",
      "*******************************************\n",
      "\n",
      "Symmetry Dooh : D2h(Abelian)\n",
      "E[FCI]    = -108.669172966971     (Spin = 1   Ms = 0)\n",
      "E[HF]     = -108.541914960860     (Spin = 1   Ms = 0)\n"
     ]
    },
    {
     "name": "stderr",
     "output_type": "stream",
     "text": [
      "Overwritten attributes  contract_2e  of <class 'pyscf.fci.direct_spin1_symm.FCISolver'>\n"
     ]
    },
    {
     "name": "stdout",
     "output_type": "stream",
     "text": [
      "Tapering-Off Results:\n",
      "List of redundant qubits:  [0, 1, 3, 5, 7]\n",
      "Qubit: 0    Tau: 1.0 [Z0 Z2 Z4 Z6 Z8 Z10]\n",
      "Qubit: 1    Tau: 1.0 [Z1 Z9]\n",
      "Qubit: 3    Tau: 1.0 [Z3 Z9 Z11]\n",
      "Qubit: 5    Tau: 1.0 [Z5 Z9 Z11]\n",
      "Qubit: 7    Tau: 1.0 [Z7 Z11]\n",
      "\n",
      "Symmetry-forbidden pauli operators are removed.\n",
      "NBasis = 10\n",
      "Entered VQE driver\n",
      "Performing VQE for sauccsd\n",
      "Number of VQE parameters: 15\n",
      "Initial configuration: |000000111111>\n",
      "Convergence criteria: ftol = 1E-09, gtol = 1E-05\n",
      "Derivatives: Analytical\n",
      "Circuit order: Exp[T1] Exp[T2] |0>\n",
      "Initial: E[sauccsd] = -108.541914960860  <S**2> = +0.000000  rho = 1  \n",
      "      1: E[sauccsd] = -108.646352933729  <S**2> = +0.000001  Grad = 6.26e-01  CPU Time =    0.33348  (0.00 / step)\n",
      "      2: E[sauccsd] = -108.659301110535  <S**2> = +0.000002  Grad = 3.20e-01  CPU Time =    0.12867  (0.00 / step)\n",
      "      3: E[sauccsd] = -108.666470234984  <S**2> = +0.000003  Grad = 1.46e-01  CPU Time =    0.12306  (0.00 / step)\n",
      "      4: E[sauccsd] = -108.668164908414  <S**2> = +0.000004  Grad = 7.34e-02  CPU Time =    0.12431  (0.00 / step)\n",
      "      5: E[sauccsd] = -108.668556521107  <S**2> = +0.000007  Grad = 7.11e-02  CPU Time =    0.12494  (0.00 / step)\n",
      "      6: E[sauccsd] = -108.668735126515  <S**2> = +0.000009  Grad = 1.32e-02  CPU Time =    0.12704  (0.00 / step)\n",
      "      7: E[sauccsd] = -108.668745328372  <S**2> = +0.000009  Grad = 4.44e-03  CPU Time =    0.12730  (0.00 / step)\n",
      "      8: E[sauccsd] = -108.668746776279  <S**2> = +0.000009  Grad = 1.36e-03  CPU Time =    0.12727  (0.00 / step)\n",
      "      9: E[sauccsd] = -108.668746846458  <S**2> = +0.000009  Grad = 4.61e-04  CPU Time =    0.23529  (0.00 / step)\n",
      "  Final: E[sauccsd] = -108.668746846458  <S**2> = +0.000009  rho = 1 \n",
      "\n",
      "(sauccsd state)\n",
      "      Basis              Coef\n",
      "| 000000010101 > : +0.9613 +0.0000i\n",
      "| 000001010001 > : -0.1398 +0.0000i\n",
      "| 000100010100 > : -0.1398 +0.0000i\n",
      "\n",
      "\n",
      "VQE Done: CPU Time =          1.4729\n",
      "\n"
     ]
    }
   ],
   "source": [
    "### Create QuketData for N2 ###\n",
    "Q = create(basis=\"sto-6g\", \n",
    "                 ansatz=\"sauccsd\", \n",
    "                 n_orbitals =6, \n",
    "                 n_electrons=6, \n",
    "                 geometry = \"N; N 1 1.098\", \n",
    "                 mapping = 'bk'\n",
    "                )\n",
    "# Run UCCSD\n",
    "Q.run()"
   ]
  },
  {
   "cell_type": "markdown",
   "metadata": {},
   "source": [
    "## (2) Speed-up by tapering-off qubits\n",
    "Tapering-off algorithm is invoked by specifying the option `taper_off = True` in the input file or `create()`  \n",
    "or \n",
    "by using the method `taper_off()`."
   ]
  },
  {
   "cell_type": "code",
   "execution_count": 3,
   "metadata": {},
   "outputs": [
    {
     "name": "stdout",
     "output_type": "stream",
     "text": [
      "States     transformed.\n",
      "Operators  transformed.\n",
      "pauli_list transformed.\n",
      "theta_list transformed.\n"
     ]
    }
   ],
   "source": [
    "Q.taper_off()"
   ]
  },
  {
   "cell_type": "markdown",
   "metadata": {},
   "source": [
    "#### Qubit number is reduced by 5"
   ]
  },
  {
   "cell_type": "code",
   "execution_count": 4,
   "metadata": {},
   "outputs": [
    {
     "name": "stdout",
     "output_type": "stream",
     "text": [
      "Number of qubits (current) :  7\n",
      "Number of qubits (previous):  12\n",
      "\n",
      "Initial state with tapered-off mapping\n",
      "    Basis            Coef\n",
      "| 0000011 > : -1.0000 +0.0000i\n",
      "\n"
     ]
    }
   ],
   "source": [
    "print(\"Number of qubits (current) : \", Q.n_qubits)\n",
    "print(\"Number of qubits (previous): \", Q._n_qubits)\n",
    "\n",
    "print_state(Q.init_state, name=\"\\nInitial state with tapered-off mapping\")"
   ]
  },
  {
   "cell_type": "code",
   "execution_count": 5,
   "metadata": {},
   "outputs": [
    {
     "name": "stdout",
     "output_type": "stream",
     "text": [
      "Entered VQE driver\n",
      "Performing VQE for sauccsd\n",
      "Number of VQE parameters: 15\n",
      "Initial configuration: |0111111>\n",
      "Convergence criteria: ftol = 1E-09, gtol = 1E-05\n",
      "Derivatives: Analytical\n",
      "Circuit order: Exp[T1] Exp[T2] |0>\n",
      "Initial: E[sauccsd] = -108.541914960859  <S**2> = +0.000000  rho = 1  \n",
      "      1: E[sauccsd] = -108.646352933729  <S**2> = +0.000001  Grad = 6.26e-01  CPU Time =    0.17334  (0.00 / step)\n",
      "      2: E[sauccsd] = -108.659301110535  <S**2> = +0.000002  Grad = 3.20e-01  CPU Time =    0.05814  (0.00 / step)\n",
      "      3: E[sauccsd] = -108.666470234984  <S**2> = +0.000003  Grad = 1.46e-01  CPU Time =    0.06093  (0.00 / step)\n",
      "      4: E[sauccsd] = -108.668164908414  <S**2> = +0.000004  Grad = 7.34e-02  CPU Time =    0.06048  (0.00 / step)\n",
      "      5: E[sauccsd] = -108.668556521106  <S**2> = +0.000007  Grad = 7.11e-02  CPU Time =    0.05991  (0.00 / step)\n",
      "      6: E[sauccsd] = -108.668735126515  <S**2> = +0.000009  Grad = 1.32e-02  CPU Time =    0.05852  (0.00 / step)\n",
      "      7: E[sauccsd] = -108.668745328371  <S**2> = +0.000009  Grad = 4.44e-03  CPU Time =    0.06038  (0.00 / step)\n",
      "      8: E[sauccsd] = -108.668746776279  <S**2> = +0.000009  Grad = 1.36e-03  CPU Time =    0.05806  (0.00 / step)\n",
      "      9: E[sauccsd] = -108.668746846457  <S**2> = +0.000009  Grad = 4.61e-04  CPU Time =    0.11110  (0.00 / step)\n",
      "  Final: E[sauccsd] = -108.668746846457  <S**2> = +0.000009  rho = 1 \n",
      "\n",
      "(sauccsd state)\n",
      "    Basis            Coef\n",
      "| 0000011 > : -0.9613 +0.0000i\n",
      "| 0000110 > : +0.1398 +0.0000i\n",
      "| 0001011 > : -0.1398 +0.0000i\n",
      "\n",
      "\n",
      "VQE Done: CPU Time =          0.7093\n",
      "\n"
     ]
    }
   ],
   "source": [
    "# Reset theta_list\n",
    "Q.theta_list *= 0\n",
    "# Run\n",
    "Q.run()"
   ]
  },
  {
   "cell_type": "markdown",
   "metadata": {},
   "source": [
    "## (3) Tapering-off-related methods\n",
    "Let's see what methods are available."
   ]
  },
  {
   "cell_type": "markdown",
   "metadata": {},
   "source": [
    "#### `taper_off()` method performs a sequence of methods (steps 1 and 2 below) in a black-box manner.\n",
    "To see what it does step-by-step, let's re-create `QuketData`."
   ]
  },
  {
   "cell_type": "code",
   "execution_count": 6,
   "metadata": {},
   "outputs": [
    {
     "name": "stdout",
     "output_type": "stream",
     "text": [
      "Basis set = sto-6g\n",
      "\n",
      "*** Geometry ******************************\n",
      "  N     0.0000000    0.0000000    0.0000000\n",
      "  N     1.0980000    0.0000000    0.0000000\n",
      "*******************************************\n",
      "\n",
      "Symmetry Dooh : D2h(Abelian)\n",
      "E[FCI]    = -108.669172966971     (Spin = 1   Ms = 0)\n",
      "E[HF]     = -108.541914960860     (Spin = 1   Ms = 0)\n",
      "Tapering-Off Results:\n",
      "List of redundant qubits:  [0, 1, 3, 5, 7]\n",
      "Qubit: 0    Tau: 1.0 [Z0 Z2 Z4 Z6 Z8 Z10]\n",
      "Qubit: 1    Tau: 1.0 [Z1 Z9]\n",
      "Qubit: 3    Tau: 1.0 [Z3 Z9 Z11]\n",
      "Qubit: 5    Tau: 1.0 [Z5 Z9 Z11]\n",
      "Qubit: 7    Tau: 1.0 [Z7 Z11]\n",
      "\n",
      "Symmetry-forbidden pauli operators are removed.\n",
      "NBasis = 10\n",
      "Davidson convergence achieved.\n",
      "FCI in Qubits\n",
      "(FCI state : E = -108.6691729679  multiplicity = 1.0)\n",
      "      Basis              Coef\n",
      "| 000000010101 > : +0.9614 +0.0000i\n",
      "| 000001010001 > : -0.1383 +0.0000i\n",
      "| 000100010100 > : -0.1383 +0.0000i\n",
      "\n"
     ]
    }
   ],
   "source": [
    "### Create QuketData for N2 ###\n",
    "Q = create(basis=\"sto-6g\", \n",
    "                 ansatz=\"sauccsd\", \n",
    "                 n_orbitals =6, \n",
    "                 n_electrons=6, \n",
    "                 geometry = \"N; N 1 1.098\", \n",
    "                 mapping = 'bk'\n",
    "                )\n",
    "#`fci2qubit()` must be run before tapering-off qubits\n",
    "Q.fci2qubit()"
   ]
  },
  {
   "cell_type": "markdown",
   "metadata": {},
   "source": [
    "### (3.1) Step 1 `tapering.run()`\n",
    "This detects the symmetries of qubit Hamiltonian,  \n",
    "and returns various information."
   ]
  },
  {
   "cell_type": "code",
   "execution_count": 7,
   "metadata": {},
   "outputs": [
    {
     "name": "stdout",
     "output_type": "stream",
     "text": [
      "Tapering-Off Results:\n",
      "List of redundant qubits:  [0, 1, 3, 5, 7]\n",
      "Qubit: 0    Tau: 1.0 [Z0 Z2 Z4 Z6 Z8 Z10]\n",
      "Qubit: 1    Tau: 1.0 [Z1 Z9]\n",
      "Qubit: 3    Tau: 1.0 [Z3 Z9 Z11]\n",
      "Qubit: 5    Tau: 1.0 [Z5 Z9 Z11]\n",
      "Qubit: 7    Tau: 1.0 [Z7 Z11]\n",
      "\n"
     ]
    }
   ],
   "source": [
    "Q.tapering.run(mapping=\"bk\")"
   ]
  },
  {
   "cell_type": "markdown",
   "metadata": {},
   "source": [
    "#### Detected symmetries (`QubitOperator` class)"
   ]
  },
  {
   "cell_type": "code",
   "execution_count": 8,
   "metadata": {},
   "outputs": [
    {
     "name": "stdout",
     "output_type": "stream",
     "text": [
      "[1.0 [Z0 Z2 Z4 Z6 Z8 Z10], 1.0 [Z1 Z9], 1.0 [Z3 Z9 Z11], 1.0 [Z5 Z9 Z11], 1.0 [Z7 Z11]]\n"
     ]
    }
   ],
   "source": [
    "print(Q.tapering.commutative_taus)"
   ]
  },
  {
   "cell_type": "markdown",
   "metadata": {},
   "source": [
    "#### Qubits to be removed"
   ]
  },
  {
   "cell_type": "code",
   "execution_count": 9,
   "metadata": {},
   "outputs": [
    {
     "name": "stdout",
     "output_type": "stream",
     "text": [
      "[0, 1, 3, 5, 7]\n"
     ]
    }
   ],
   "source": [
    "print(Q.tapering.redundant_bits)"
   ]
  },
  {
   "cell_type": "markdown",
   "metadata": {},
   "source": [
    "#### Unitary (Clifford) operators that transform the Hamiltonian so that it contains only I or X for the redundant_bits above."
   ]
  },
  {
   "cell_type": "code",
   "execution_count": 10,
   "metadata": {},
   "outputs": [
    {
     "name": "stdout",
     "output_type": "stream",
     "text": [
      "[0.7071067811865475 [X0] +\n",
      "0.7071067811865475 [Z0 Z2 Z4 Z6 Z8 Z10], 0.7071067811865475 [X1] +\n",
      "0.7071067811865475 [Z1 Z9], 0.7071067811865475 [X3] +\n",
      "0.7071067811865475 [Z3 Z9 Z11], 0.7071067811865475 [X5] +\n",
      "0.7071067811865475 [Z5 Z9 Z11], 0.7071067811865475 [X7] +\n",
      "0.7071067811865475 [Z7 Z11]]\n"
     ]
    }
   ],
   "source": [
    "print(Q.tapering.clifford_operators)"
   ]
  },
  {
   "cell_type": "markdown",
   "metadata": {},
   "source": [
    "#### The eigenvalues of X of redundant_bits are set to those of initial determinant (`det`)"
   ]
  },
  {
   "cell_type": "code",
   "execution_count": 11,
   "metadata": {},
   "outputs": [
    {
     "name": "stdout",
     "output_type": "stream",
     "text": [
      "Initial determinant (Jordan-Wigner representation) =  000000111111\n",
      "Eigenvalues to be used:\n",
      "qubit 0  is replaced by -1\n",
      "qubit 1  is replaced by 1\n",
      "qubit 3  is replaced by 1\n",
      "qubit 5  is replaced by 1\n",
      "qubit 7  is replaced by 1\n"
     ]
    }
   ],
   "source": [
    "print(\"Initial determinant (Jordan-Wigner representation) = \", format(Q.det, f\"0{Q.n_qubits}b\"))\n",
    "print(\"Eigenvalues to be used:\")\n",
    "for qubit, eigval in zip(Q.tapering.redundant_bits,  Q.tapering.X_eigvals):\n",
    "    print(\"qubit\", qubit, \" is replaced by\", eigval)"
   ]
  },
  {
   "cell_type": "markdown",
   "metadata": {},
   "source": [
    "### (3.2) Step 2 `transform_***()`\n",
    "Using the above results, transform each quantity to the reduced-mapping.\n",
    "\n",
    "`transform_states()` : Transform states in `QuketData` (state, init_state, fci_states, etc.)  \n",
    "`transform_operators()` : Transform qubit operators in `QuketData` (Hamiltonian, S^2, Number, etc.)  \n",
    "`transform_pauli_list()` : Transform `QuketData.pauli_list`  \n",
    "`transform_theta_list()` : Transform `QuketData.theta_list`\n",
    "\n",
    "Each function is controlled by two arguments:\n",
    "\n",
    "`backtransform`: Whether to perform backtransformation to the original mapping (default `False`)  \n",
    "`reduce`: Whether to remove qubits from the simulation (default `True`)  This is usually set to `True`: may be changed to `False` for debugging purposes but doing so is not recommended unless necessary because it could cause problems."
   ]
  },
  {
   "cell_type": "markdown",
   "metadata": {},
   "source": [
    "#### Initial state and FCI state transformed and backtransformed."
   ]
  },
  {
   "cell_type": "code",
   "execution_count": 12,
   "metadata": {},
   "outputs": [
    {
     "name": "stdout",
     "output_type": "stream",
     "text": [
      "States     transformed.\n",
      "Reduced mapping for initial state\n",
      "    Basis            Coef\n",
      "| 0000011 > : -1.0000 +0.0000i\n",
      "\n",
      "Reduced mapping for FCI state\n",
      "    Basis            Coef\n",
      "| 0000011 > : -0.9614 +0.0000i\n",
      "| 0000110 > : +0.1383 -0.0000i\n",
      "| 0001011 > : -0.1383 +0.0000i\n",
      "\n"
     ]
    }
   ],
   "source": [
    "Q.transform_states()\n",
    "print_state(Q.init_state, \"Reduced mapping for initial state\")\n",
    "print_state(Q.fci_states[0]['state'], \"Reduced mapping for FCI state\")"
   ]
  },
  {
   "cell_type": "code",
   "execution_count": 13,
   "metadata": {},
   "outputs": [
    {
     "name": "stdout",
     "output_type": "stream",
     "text": [
      "States     backtransformed.\n",
      "Original mapping for initial state\n",
      "      Basis              Coef\n",
      "| 000000010101 > : -1.0000 +0.0000i\n",
      "\n",
      "Original mapping for FCI state\n",
      "      Basis              Coef\n",
      "| 000000010101 > : -0.9614 +0.0000i\n",
      "| 000001010001 > : +0.1383 +0.0000i\n",
      "| 000100010100 > : +0.1383 +0.0000i\n",
      "\n"
     ]
    }
   ],
   "source": [
    "Q.transform_states(backtransform=True)\n",
    "print_state(Q.init_state, \"Original mapping for initial state\")\n",
    "print_state(Q.fci_states[0]['state'], \"Original mapping for FCI state\")"
   ]
  },
  {
   "cell_type": "markdown",
   "metadata": {},
   "source": [
    "#### Transform operators, pauli_list, and theta_list"
   ]
  },
  {
   "cell_type": "code",
   "execution_count": 14,
   "metadata": {},
   "outputs": [
    {
     "name": "stdout",
     "output_type": "stream",
     "text": [
      "Operators  transformed.\n",
      "pauli_list transformed.\n",
      "theta_list transformed.\n"
     ]
    }
   ],
   "source": [
    "Q.transform_operators()\n",
    "Q.transform_pauli_list()\n",
    "Q.transform_theta_list()"
   ]
  },
  {
   "cell_type": "markdown",
   "metadata": {},
   "source": [
    "#### If there is inconsistency in terms of the quantities being transformed or not transformed, the simulation will fail because of the inconsistent qubit numbers.\n",
    "When this occurs, Quket is terminated to avoid any confusion."
   ]
  },
  {
   "cell_type": "code",
   "execution_count": 15,
   "metadata": {},
   "outputs": [
    {
     "name": "stdout",
     "output_type": "stream",
     "text": [
      "Warning!\n",
      " Operators are tapered-off [True]\n",
      "   States are tapered-off [False]\n",
      "The result below may be nonsense.\n",
      "\n",
      " Mismatch of n_qubits between ops (7) and state (12) \n",
      "\n"
     ]
    },
    {
     "ename": "Exception",
     "evalue": "Error termination of quket.",
     "output_type": "error",
     "traceback": [
      "\u001b[0;31m---------------------------------------------------------------------------\u001b[0m",
      "\u001b[0;31mException\u001b[0m                                 Traceback (most recent call last)",
      "Input \u001b[0;32mIn [15]\u001b[0m, in \u001b[0;36m<cell line: 1>\u001b[0;34m()\u001b[0m\n\u001b[0;32m----> 1\u001b[0m \u001b[43mQ\u001b[49m\u001b[38;5;241;43m.\u001b[39;49m\u001b[43mget_E\u001b[49m\u001b[43m(\u001b[49m\u001b[43mQ\u001b[49m\u001b[38;5;241;43m.\u001b[39;49m\u001b[43mfci_states\u001b[49m\u001b[43m[\u001b[49m\u001b[38;5;241;43m0\u001b[39;49m\u001b[43m]\u001b[49m\u001b[43m[\u001b[49m\u001b[38;5;124;43m'\u001b[39;49m\u001b[38;5;124;43mstate\u001b[39;49m\u001b[38;5;124;43m'\u001b[39;49m\u001b[43m]\u001b[49m\u001b[43m)\u001b[49m\n",
      "File \u001b[0;32m~/opt/anaconda3/lib/python3.9/site-packages/quket/quket_data/quket_data.py:1592\u001b[0m, in \u001b[0;36mQuketData.get_E\u001b[0;34m(self, state, parallel)\u001b[0m\n\u001b[1;32m   1590\u001b[0m \u001b[38;5;28;01mif\u001b[39;00m state \u001b[38;5;129;01mis\u001b[39;00m \u001b[38;5;28;01mNone\u001b[39;00m:\n\u001b[1;32m   1591\u001b[0m     state \u001b[38;5;241m=\u001b[39m \u001b[38;5;28mself\u001b[39m\u001b[38;5;241m.\u001b[39mstate\n\u001b[0;32m-> 1592\u001b[0m \u001b[38;5;28;01mreturn\u001b[39;00m \u001b[38;5;28;43mself\u001b[39;49m\u001b[38;5;241;43m.\u001b[39;49m\u001b[43mget_expectation_value\u001b[49m\u001b[43m(\u001b[49m\u001b[38;5;28;43mself\u001b[39;49m\u001b[38;5;241;43m.\u001b[39;49m\u001b[43mqulacs\u001b[49m\u001b[38;5;241;43m.\u001b[39;49m\u001b[43mHamiltonian\u001b[49m\u001b[43m,\u001b[49m\u001b[43m \u001b[49m\u001b[43mstate\u001b[49m\u001b[43m,\u001b[49m\u001b[43m \u001b[49m\u001b[43mparallel\u001b[49m\u001b[38;5;241;43m=\u001b[39;49m\u001b[43mparallel\u001b[49m\u001b[43m)\u001b[49m\n",
      "File \u001b[0;32m~/opt/anaconda3/lib/python3.9/site-packages/quket/quket_data/quket_data.py:1640\u001b[0m, in \u001b[0;36mQuketData.get_expectation_value\u001b[0;34m(self, obs, state, parallel)\u001b[0m\n\u001b[1;32m   1638\u001b[0m n_qubits_ \u001b[38;5;241m=\u001b[39m state\u001b[38;5;241m.\u001b[39mget_qubit_count()\n\u001b[1;32m   1639\u001b[0m \u001b[38;5;28;01mif\u001b[39;00m n_qubits \u001b[38;5;241m!=\u001b[39m n_qubits_:\n\u001b[0;32m-> 1640\u001b[0m     \u001b[43merror\u001b[49m\u001b[43m(\u001b[49m\u001b[38;5;124;43mf\u001b[39;49m\u001b[38;5;124;43m'\u001b[39;49m\u001b[38;5;124;43mMismatch of n_qubits between ops (\u001b[39;49m\u001b[38;5;132;43;01m{\u001b[39;49;00m\u001b[43mn_qubits\u001b[49m\u001b[38;5;132;43;01m}\u001b[39;49;00m\u001b[38;5;124;43m) and state (\u001b[39;49m\u001b[38;5;132;43;01m{\u001b[39;49;00m\u001b[43mn_qubits_\u001b[49m\u001b[38;5;132;43;01m}\u001b[39;49;00m\u001b[38;5;124;43m)\u001b[39;49m\u001b[38;5;124;43m'\u001b[39;49m\u001b[43m)\u001b[49m\n\u001b[1;32m   1641\u001b[0m \u001b[38;5;28;01mif\u001b[39;00m \u001b[38;5;129;01mnot\u001b[39;00m parallel:\n\u001b[1;32m   1642\u001b[0m     \u001b[38;5;28;01mreturn\u001b[39;00m obs\u001b[38;5;241m.\u001b[39mget_expectation_value(state)\n",
      "File \u001b[0;32m~/opt/anaconda3/lib/python3.9/site-packages/quket/fileio/fileio.py:261\u001b[0m, in \u001b[0;36merror\u001b[0;34m(*message)\u001b[0m\n\u001b[1;32m    259\u001b[0m prints(\u001b[38;5;124m\"\u001b[39m\u001b[38;5;130;01m\\n\u001b[39;00m\u001b[38;5;124m\"\u001b[39m, \u001b[38;5;241m*\u001b[39mmessage, \u001b[38;5;124m\"\u001b[39m\u001b[38;5;130;01m\\n\u001b[39;00m\u001b[38;5;124m\"\u001b[39m)\n\u001b[1;32m    260\u001b[0m \u001b[38;5;28;01mif\u001b[39;00m cf\u001b[38;5;241m.\u001b[39m__interactive__:\n\u001b[0;32m--> 261\u001b[0m     \u001b[38;5;28;01mraise\u001b[39;00m \u001b[38;5;167;01mException\u001b[39;00m(\u001b[38;5;124m\"\u001b[39m\u001b[38;5;124mError termination of quket.\u001b[39m\u001b[38;5;124m\"\u001b[39m)\n\u001b[1;32m    262\u001b[0m \u001b[38;5;28;01melse\u001b[39;00m:\n\u001b[1;32m    263\u001b[0m     prints(\u001b[38;5;124m\"\u001b[39m\u001b[38;5;124mError termination of quket.\u001b[39m\u001b[38;5;124m\"\u001b[39m)\n",
      "\u001b[0;31mException\u001b[0m: Error termination of quket."
     ]
    }
   ],
   "source": [
    "Q.get_E(Q.fci_states[0]['state'])"
   ]
  },
  {
   "cell_type": "markdown",
   "metadata": {},
   "source": [
    "The above error is intended.\n",
    "\n",
    "\n",
    "#### One may track which quantity is transformed with `tapered` attribute."
   ]
  },
  {
   "cell_type": "code",
   "execution_count": null,
   "metadata": {},
   "outputs": [],
   "source": [
    "Q.tapered"
   ]
  },
  {
   "cell_type": "code",
   "execution_count": null,
   "metadata": {},
   "outputs": [],
   "source": [
    "### Since the states are not transformed, re-transform them.\n",
    "Q.transform_states()\n",
    "\n",
    "### Now the energy should be safely computed.\n",
    "Q.get_E(Q.fci_states[0]['state'])"
   ]
  },
  {
   "cell_type": "code",
   "execution_count": null,
   "metadata": {},
   "outputs": [],
   "source": [
    "Q.tapered"
   ]
  },
  {
   "cell_type": "code",
   "execution_count": null,
   "metadata": {},
   "outputs": [],
   "source": []
  }
 ],
 "metadata": {
  "kernelspec": {
   "display_name": "Python 3 (ipykernel)",
   "language": "python",
   "name": "python3"
  },
  "language_info": {
   "codemirror_mode": {
    "name": "ipython",
    "version": 3
   },
   "file_extension": ".py",
   "mimetype": "text/x-python",
   "name": "python",
   "nbconvert_exporter": "python",
   "pygments_lexer": "ipython3",
   "version": "3.9.12"
  }
 },
 "nbformat": 4,
 "nbformat_minor": 4
}
