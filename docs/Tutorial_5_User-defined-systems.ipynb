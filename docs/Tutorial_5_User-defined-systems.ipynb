{
 "cells": [
  {
   "cell_type": "markdown",
   "metadata": {},
   "source": [
    "# Tutorial (5): how to define Hamiltonian and ansatz\n",
    "This example shows how one can set a user-defined Hamiltonian and user-defined ansatz (for VQE).  \n",
    "Quket takes a full advantage of OpenFermion library, and these user-defined objects should be in the OpenFermion format."
   ]
  },
  {
   "cell_type": "code",
   "execution_count": 1,
   "metadata": {},
   "outputs": [
    {
     "name": "stdout",
     "output_type": "stream",
     "text": [
      "mpi4py is not imported. no MPI.\n"
     ]
    }
   ],
   "source": [
    "# import necessary modules\n",
    "from openfermion import *\n",
    "from quket import *\n",
    "from quket.utils import *\n",
    "import quket.config as cf\n",
    "import numpy as np"
   ]
  },
  {
   "cell_type": "markdown",
   "metadata": {},
   "source": [
    "[(Example 1) Hubbard Hamiltonian](#(Example-1)-Hubbard-Hamiltonian)  \n",
    "&nbsp;&nbsp;&nbsp;&nbsp;&nbsp;&nbsp;[(1.1) Define Hamiltonian in Quket using option `hamiltonian`](#(1.1)-Define-Hamiltonian-in-Quket-using-option-hamiltonian)  \n",
    "&nbsp;&nbsp;&nbsp;&nbsp;&nbsp;&nbsp;[(1.2) Run `fci2qubit()` to determine the ground state](#(1.2)-Run-fci2qubit()-to-determine-the-ground-state)  \n",
    "&nbsp;&nbsp;&nbsp;&nbsp;&nbsp;&nbsp;[(1.3) Run `vqe()`](#(1.3)-Run-vqe())  \n",
    "&nbsp;&nbsp;&nbsp;&nbsp;&nbsp;&nbsp;[(1.4) Transform the state to Jordan-Wigner's Particle-Hole representation](#(1.4)-Transform-the-state-to-Jordan-Wigner's-Particle-Hole-representation)  \n",
    "&nbsp;&nbsp;&nbsp;&nbsp;&nbsp;&nbsp;[(1.5) Tapering-off qubits](#(1.5)-Tapering-off-qubits)\n",
    "\n",
    "[(Example2) Modified Kitaev Hamiltonian](#(Example2)-Modified-Kitaev-Hamiltonian)  \n",
    "&nbsp;&nbsp;&nbsp;&nbsp;&nbsp;&nbsp;[(2.1) Define the modified Kitaev Hamiltonian](#(2.1)-Define-the-modified-Kitaev-Hamiltonian)  \n",
    "&nbsp;&nbsp;&nbsp;&nbsp;&nbsp;&nbsp;[(2.2) Run `fci2qubit()` to determine the ground state](#(2.2)-Run-fci2qubit()-to-determine-the-ground-state)  \n",
    "&nbsp;&nbsp;&nbsp;&nbsp;&nbsp;&nbsp;[(2.3) Manually define `pauli_list`](#(2.3)-Manually-define-pauli_list)  \n",
    "&nbsp;&nbsp;&nbsp;&nbsp;&nbsp;&nbsp;[(2.4) Run `vqe()`](#(2.4)-Run-vqe())\n"
   ]
  },
  {
   "cell_type": "markdown",
   "metadata": {
    "tags": []
   },
   "source": [
    "## (Example 1) Hubbard Hamiltonian"
   ]
  },
  {
   "cell_type": "markdown",
   "metadata": {},
   "source": [
    " Define the Hubbard Hamiltonian using creation and annihilation operator"
   ]
  },
  {
   "cell_type": "code",
   "execution_count": 2,
   "metadata": {},
   "outputs": [],
   "source": [
    "### Hubbard model as FermionOperator (OpenFermion part)\n",
    "nx = 4\n",
    "ny = 1\n",
    "t = 1\n",
    "U = 4\n",
    "hubbard = fermi_hubbard(nx, ny, t, U,periodic=False)"
   ]
  },
  {
   "cell_type": "markdown",
   "metadata": {
    "tags": []
   },
   "source": [
    "### (1.1) Define Hamiltonian in Quket using option `hamiltonian`  \n",
    "Here, we use the following options:\n",
    "`ansatz`: Hamiltonian variational ansatz (HVA)  \n",
    "`mapping`: Bravyi-Kitaev mapping  \n",
    "`layers`: 2 layers of HVA  \n",
    "`theta_guess`: Randomized VQE parameter guess  \n",
    "`det`: Initial state is `|00000011>` (in the Jordan-Wigner representation: this will be transfromed to the Bravyi-Kitaev representation `|00000001>`)  \n",
    "`maxiter`: Maximum iteration of VQE"
   ]
  },
  {
   "cell_type": "code",
   "execution_count": 3,
   "metadata": {},
   "outputs": [
    {
     "name": "stdout",
     "output_type": "stream",
     "text": [
      "Simulation detail\n",
      "Hamiltonian:\n",
      "(4+0j) [] +\n",
      "(-0.5+0j) [X0 Y1 Y2] +\n",
      "(0.5+0j) [Y0 Y1 X2] +\n",
      "(-1+0j) [Z0] +\n",
      "(0.5+0j) [Z0 X1 Z3] +\n",
      "(-1+0j) [Z0 Z1] +\n",
      "(-0.5+0j) [X1 Z2] +\n",
      "(1+0j) [Z1] +\n",
      "(-0.5+0j) [Z1 X2 Y3 Y4 X5] +\n",
      "(0.5+0j) [Z1 Y2 Y3 X4 X5] +\n",
      "(-0.5+0j) [Z1 Z2 Y3 Y5] +\n",
      "(-1+0j) [Z1 Z2 Z3] +\n",
      "(1+0j) [Z1 Z3] +\n",
      "(-1+0j) [Z2] +\n",
      "(-0.5+0j) [X3 Z4 X5] +\n",
      "(0.5+0j) [Z3 Z4 X5 Z7] +\n",
      "(-1+0j) [Z3 Z5 Z6 Z7] +\n",
      "(1+0j) [Z3 Z5 Z7] +\n",
      "(-0.5+0j) [X4 Y5 Y6] +\n",
      "(0.5+0j) [Y4 Y5 X6] +\n",
      "(-1+0j) [Z4] +\n",
      "(-1+0j) [Z4 Z5] +\n",
      "(-0.5+0j) [X5 Z6] +\n",
      "(1+0j) [Z5] +\n",
      "(-1+0j) [Z6]\n",
      "Initial state:\n",
      "    Basis            Coef\n",
      "| 00000001 > : +1.0000 +0.0000i\n",
      "\n",
      "Sequential Tapering-Off Results:\n",
      "List of redundant qubits:  [0, 7]\n",
      "Qubit: 0    Tau: 1.0 [Z0 Z2 Z4 Z6]\n",
      "Qubit: 7    Tau: 1.0 [Z7]\n",
      "\n"
     ]
    }
   ],
   "source": [
    "Hub = create(hamiltonian=hubbard, \n",
    "             ansatz='hva', \n",
    "             mapping='bk', \n",
    "             layers=2, \n",
    "             theta_guess='random', \n",
    "             det='|0011>',\n",
    "             maxiter=200)"
   ]
  },
  {
   "cell_type": "markdown",
   "metadata": {},
   "source": [
    "### (1.2) Run `fci2qubit()` to determine the ground state"
   ]
  },
  {
   "cell_type": "code",
   "execution_count": 4,
   "metadata": {},
   "outputs": [
    {
     "name": "stdout",
     "output_type": "stream",
     "text": [
      "Davidson convergence achieved.\n",
      "FCI in Qubits\n",
      "(FCI state : E = -2.6249422715)\n",
      "    Basis            Coef\n",
      "| 00000011 > : +0.2074 +0.0000i\n",
      "| 00000100 > : +0.1734 +0.0000i\n",
      "| 00000110 > : -0.2074 +0.0000i\n",
      "| 00001011 > : +0.2349 +0.0000i\n",
      "| 00001100 > : +0.3083 +0.0000i\n",
      "| 00010000 > : +0.1734 +0.0000i\n",
      "| 00101011 > : +0.3083 +0.0000i\n",
      "| 00101100 > : +0.3670 +0.0000i\n",
      "| 00110000 > : +0.2074 +0.0000i\n",
      "| 00111000 > : -0.3670 +0.0000i\n",
      "| 00111010 > : -0.3083 +0.0000i\n",
      "| 01001000 > : -0.3083 +0.0000i\n",
      "| 01001010 > : -0.2349 +0.0000i\n",
      "| 01100000 > : -0.2074 +0.0000i\n",
      "\n"
     ]
    }
   ],
   "source": [
    "Hub.fci2qubit()"
   ]
  },
  {
   "cell_type": "markdown",
   "metadata": {},
   "source": [
    "### (1.3) Run `vqe()` "
   ]
  },
  {
   "cell_type": "code",
   "execution_count": 5,
   "metadata": {},
   "outputs": [
    {
     "name": "stdout",
     "output_type": "stream",
     "text": [
      "      1: E[hva] = +0.928602316235  <S**2> = +0.000000  Fidelity = 0.041020  Grad = 6.50e+00  CPU Time =    0.09735  (0.00 / step)\n",
      "      2: E[hva] = +0.928403555616  <S**2> = +0.000000  Fidelity = 0.040899  Grad = 6.53e+00  CPU Time =    0.02976  (0.00 / step)\n",
      "      3: E[hva] = -0.179022188671  <S**2> = +0.000000  Fidelity = 0.024858  Grad = 3.54e+00  CPU Time =    0.01539  (0.00 / step)\n",
      "      4: E[hva] = -0.459292593423  <S**2> = +0.000000  Fidelity = 0.038665  Grad = 3.17e+00  CPU Time =    0.03038  (0.00 / step)\n",
      "      5: E[hva] = -0.713141870433  <S**2> = +0.000000  Fidelity = 0.067977  Grad = 2.85e+00  CPU Time =    0.01606  (0.00 / step)\n",
      "      6: E[hva] = -1.047971689174  <S**2> = +0.000000  Fidelity = 0.132295  Grad = 3.15e+00  CPU Time =    0.03009  (0.00 / step)\n",
      "      7: E[hva] = -1.265403026190  <S**2> = +0.000000  Fidelity = 0.243598  Grad = 3.41e+00  CPU Time =    0.01563  (0.00 / step)\n",
      "      8: E[hva] = -1.617558103624  <S**2> = +0.000000  Fidelity = 0.324038  Grad = 1.23e+00  CPU Time =    0.01547  (0.00 / step)\n",
      "      9: E[hva] = -1.721564478769  <S**2> = +0.000000  Fidelity = 0.395814  Grad = 1.19e+00  CPU Time =    0.01578  (0.00 / step)\n",
      "     10: E[hva] = -1.797274740717  <S**2> = +0.000000  Fidelity = 0.419815  Grad = 1.26e+00  CPU Time =    0.01601  (0.00 / step)\n",
      "     11: E[hva] = -1.894071645596  <S**2> = +0.000000  Fidelity = 0.501822  Grad = 2.36e+00  CPU Time =    0.01575  (0.00 / step)\n",
      "     12: E[hva] = -2.035279465442  <S**2> = +0.000000  Fidelity = 0.511975  Grad = 1.68e+00  CPU Time =    0.01676  (0.00 / step)\n",
      "     13: E[hva] = -2.235725041800  <S**2> = +0.000000  Fidelity = 0.565265  Grad = 2.21e+00  CPU Time =    0.01658  (0.00 / step)\n",
      "     14: E[hva] = -2.340509938528  <S**2> = +0.000000  Fidelity = 0.559835  Grad = 1.45e+00  CPU Time =    0.01671  (0.00 / step)\n",
      "     15: E[hva] = -2.406196053808  <S**2> = +0.000000  Fidelity = 0.594013  Grad = 4.42e-01  CPU Time =    0.01569  (0.00 / step)\n",
      "     16: E[hva] = -2.412078159021  <S**2> = +0.000000  Fidelity = 0.596685  Grad = 2.13e-01  CPU Time =    0.01586  (0.00 / step)\n",
      "     17: E[hva] = -2.414742325889  <S**2> = +0.000000  Fidelity = 0.602732  Grad = 1.26e-01  CPU Time =    0.01614  (0.00 / step)\n",
      "     18: E[hva] = -2.416238124653  <S**2> = +0.000000  Fidelity = 0.604307  Grad = 1.04e-01  CPU Time =    0.01619  (0.00 / step)\n",
      "     19: E[hva] = -2.417590877349  <S**2> = +0.000000  Fidelity = 0.608328  Grad = 1.19e-01  CPU Time =    0.01691  (0.00 / step)\n",
      "     20: E[hva] = -2.419746151502  <S**2> = +0.000000  Fidelity = 0.610372  Grad = 1.27e-01  CPU Time =    0.01664  (0.00 / step)\n",
      "     21: E[hva] = -2.425568646179  <S**2> = +0.000000  Fidelity = 0.619949  Grad = 2.39e-01  CPU Time =    0.01681  (0.00 / step)\n",
      "     22: E[hva] = -2.429670293380  <S**2> = +0.000000  Fidelity = 0.642814  Grad = 3.41e-01  CPU Time =    0.01609  (0.00 / step)\n",
      "     23: E[hva] = -2.436002825004  <S**2> = +0.000000  Fidelity = 0.655436  Grad = 2.58e-01  CPU Time =    0.01625  (0.00 / step)\n",
      "     24: E[hva] = -2.438432121830  <S**2> = +0.000000  Fidelity = 0.666263  Grad = 2.74e-01  CPU Time =    0.01575  (0.00 / step)\n",
      "     25: E[hva] = -2.439315561407  <S**2> = +0.000000  Fidelity = 0.657517  Grad = 2.74e-01  CPU Time =    0.01624  (0.00 / step)\n",
      "     26: E[hva] = -2.443328584459  <S**2> = +0.000000  Fidelity = 0.659303  Grad = 2.09e-01  CPU Time =    0.01632  (0.00 / step)\n",
      "     27: E[hva] = -2.445759155385  <S**2> = +0.000000  Fidelity = 0.662062  Grad = 1.48e-01  CPU Time =    0.01609  (0.00 / step)\n",
      "     28: E[hva] = -2.450191247818  <S**2> = +0.000000  Fidelity = 0.664063  Grad = 2.17e-01  CPU Time =    0.01676  (0.00 / step)\n",
      "     29: E[hva] = -2.456120674727  <S**2> = +0.000000  Fidelity = 0.662401  Grad = 3.06e-01  CPU Time =    0.01623  (0.00 / step)\n",
      "     30: E[hva] = -2.463258029301  <S**2> = +0.000000  Fidelity = 0.668322  Grad = 4.00e-01  CPU Time =    0.01683  (0.00 / step)\n",
      "     31: E[hva] = -2.468932684891  <S**2> = +0.000000  Fidelity = 0.666370  Grad = 2.31e-01  CPU Time =    0.02991  (0.00 / step)\n",
      "     32: E[hva] = -2.471367400972  <S**2> = +0.000000  Fidelity = 0.677182  Grad = 9.91e-02  CPU Time =    0.01616  (0.00 / step)\n",
      "     33: E[hva] = -2.472248632956  <S**2> = +0.000000  Fidelity = 0.681053  Grad = 9.39e-02  CPU Time =    0.01631  (0.00 / step)\n",
      "     34: E[hva] = -2.473381939954  <S**2> = +0.000000  Fidelity = 0.687002  Grad = 1.23e-01  CPU Time =    0.01610  (0.00 / step)\n",
      "     35: E[hva] = -2.475107682014  <S**2> = +0.000000  Fidelity = 0.693077  Grad = 1.57e-01  CPU Time =    0.01702  (0.00 / step)\n",
      "     36: E[hva] = -2.477020825161  <S**2> = +0.000000  Fidelity = 0.702751  Grad = 2.62e-01  CPU Time =    0.01641  (0.00 / step)\n",
      "     37: E[hva] = -2.479837194853  <S**2> = +0.000000  Fidelity = 0.700872  Grad = 1.33e-01  CPU Time =    0.01589  (0.00 / step)\n",
      "     38: E[hva] = -2.482412403156  <S**2> = +0.000000  Fidelity = 0.697890  Grad = 1.52e-01  CPU Time =    0.01699  (0.00 / step)\n",
      "     39: E[hva] = -2.484180734282  <S**2> = +0.000000  Fidelity = 0.702599  Grad = 1.87e-01  CPU Time =    0.01662  (0.00 / step)\n",
      "     40: E[hva] = -2.488143821522  <S**2> = +0.000000  Fidelity = 0.712738  Grad = 1.91e-01  CPU Time =    0.01642  (0.00 / step)\n",
      "     41: E[hva] = -2.492590675819  <S**2> = +0.000000  Fidelity = 0.737706  Grad = 3.05e-01  CPU Time =    0.01719  (0.00 / step)\n",
      "     42: E[hva] = -2.497199063156  <S**2> = +0.000000  Fidelity = 0.762770  Grad = 2.26e-01  CPU Time =    0.01706  (0.00 / step)\n",
      "     43: E[hva] = -2.500941466880  <S**2> = +0.000000  Fidelity = 0.770804  Grad = 1.70e-01  CPU Time =    0.01705  (0.00 / step)\n",
      "     44: E[hva] = -2.505789525917  <S**2> = +0.000000  Fidelity = 0.798208  Grad = 1.68e-01  CPU Time =    0.01611  (0.00 / step)\n",
      "     45: E[hva] = -2.507282748640  <S**2> = +0.000000  Fidelity = 0.809091  Grad = 3.00e-01  CPU Time =    0.01616  (0.00 / step)\n",
      "     46: E[hva] = -2.511129821737  <S**2> = +0.000000  Fidelity = 0.809374  Grad = 1.38e-01  CPU Time =    0.01638  (0.00 / step)\n",
      "     47: E[hva] = -2.514121873947  <S**2> = +0.000000  Fidelity = 0.813225  Grad = 1.33e-01  CPU Time =    0.01553  (0.00 / step)\n",
      "     48: E[hva] = -2.518424383392  <S**2> = +0.000000  Fidelity = 0.820253  Grad = 2.19e-01  CPU Time =    0.01608  (0.00 / step)\n",
      "     49: E[hva] = -2.524943277017  <S**2> = +0.000000  Fidelity = 0.841323  Grad = 3.31e-01  CPU Time =    0.01654  (0.00 / step)\n",
      "     50: E[hva] = -2.531936128842  <S**2> = +0.000000  Fidelity = 0.842756  Grad = 3.18e-01  CPU Time =    0.01672  (0.00 / step)\n",
      "     51: E[hva] = -2.536639710090  <S**2> = +0.000000  Fidelity = 0.847364  Grad = 4.19e-01  CPU Time =    0.01657  (0.00 / step)\n",
      "     52: E[hva] = -2.543411596658  <S**2> = +0.000000  Fidelity = 0.870369  Grad = 2.71e-01  CPU Time =    0.01671  (0.00 / step)\n",
      "     53: E[hva] = -2.546656115000  <S**2> = +0.000000  Fidelity = 0.872995  Grad = 3.37e-01  CPU Time =    0.01571  (0.00 / step)\n",
      "     54: E[hva] = -2.552489008494  <S**2> = +0.000000  Fidelity = 0.891316  Grad = 2.17e-01  CPU Time =    0.01589  (0.00 / step)\n",
      "     55: E[hva] = -2.555098591490  <S**2> = +0.000000  Fidelity = 0.902107  Grad = 1.37e-01  CPU Time =    0.03982  (0.00 / step)\n",
      "     56: E[hva] = -2.556398307766  <S**2> = +0.000000  Fidelity = 0.913616  Grad = 1.33e-01  CPU Time =    0.01624  (0.00 / step)\n",
      "     57: E[hva] = -2.558068389258  <S**2> = +0.000000  Fidelity = 0.923714  Grad = 8.73e-02  CPU Time =    0.01759  (0.00 / step)\n",
      "     58: E[hva] = -2.559005776183  <S**2> = +0.000000  Fidelity = 0.924656  Grad = 1.14e-01  CPU Time =    0.01645  (0.00 / step)\n",
      "     59: E[hva] = -2.560014183440  <S**2> = +0.000000  Fidelity = 0.926025  Grad = 8.60e-02  CPU Time =    0.01778  (0.00 / step)\n",
      "     60: E[hva] = -2.561940328832  <S**2> = +0.000000  Fidelity = 0.927537  Grad = 8.49e-02  CPU Time =    0.01678  (0.00 / step)\n",
      "     61: E[hva] = -2.563428806454  <S**2> = +0.000000  Fidelity = 0.925372  Grad = 2.10e-01  CPU Time =    0.01676  (0.00 / step)\n",
      "     62: E[hva] = -2.565214352660  <S**2> = +0.000000  Fidelity = 0.923475  Grad = 1.04e-01  CPU Time =    0.01641  (0.00 / step)\n",
      "     63: E[hva] = -2.566048237041  <S**2> = +0.000000  Fidelity = 0.922381  Grad = 7.50e-02  CPU Time =    0.01700  (0.00 / step)\n",
      "     64: E[hva] = -2.567287205410  <S**2> = +0.000000  Fidelity = 0.921424  Grad = 7.83e-02  CPU Time =    0.01656  (0.00 / step)\n",
      "     65: E[hva] = -2.568999175298  <S**2> = +0.000000  Fidelity = 0.921617  Grad = 9.01e-02  CPU Time =    0.01731  (0.00 / step)\n",
      "     66: E[hva] = -2.570165777005  <S**2> = +0.000000  Fidelity = 0.928025  Grad = 2.47e-01  CPU Time =    0.01664  (0.00 / step)\n",
      "     67: E[hva] = -2.572862007118  <S**2> = +0.000000  Fidelity = 0.930274  Grad = 1.14e-01  CPU Time =    0.01694  (0.00 / step)\n",
      "     68: E[hva] = -2.575048115008  <S**2> = +0.000000  Fidelity = 0.934061  Grad = 1.20e-01  CPU Time =    0.01726  (0.00 / step)\n",
      "     69: E[hva] = -2.578179778371  <S**2> = +0.000000  Fidelity = 0.946585  Grad = 1.91e-01  CPU Time =    0.01716  (0.00 / step)\n",
      "     70: E[hva] = -2.580981883104  <S**2> = +0.000000  Fidelity = 0.955376  Grad = 2.02e-01  CPU Time =    0.01759  (0.00 / step)\n",
      "     71: E[hva] = -2.581275109371  <S**2> = +0.000000  Fidelity = 0.955299  Grad = 2.21e-01  CPU Time =    0.01686  (0.00 / step)\n",
      "     72: E[hva] = -2.585693070056  <S**2> = +0.000000  Fidelity = 0.964265  Grad = 1.66e-01  CPU Time =    0.01623  (0.00 / step)\n",
      "     73: E[hva] = -2.587593852459  <S**2> = +0.000000  Fidelity = 0.965911  Grad = 1.32e-01  CPU Time =    0.01670  (0.00 / step)\n",
      "     74: E[hva] = -2.589513699345  <S**2> = +0.000000  Fidelity = 0.969290  Grad = 1.12e-01  CPU Time =    0.01594  (0.00 / step)\n",
      "     75: E[hva] = -2.592354846129  <S**2> = +0.000000  Fidelity = 0.976289  Grad = 1.37e-01  CPU Time =    0.01723  (0.00 / step)\n",
      "     76: E[hva] = -2.593763047371  <S**2> = +0.000000  Fidelity = 0.979044  Grad = 1.52e-01  CPU Time =    0.02944  (0.00 / step)\n",
      "     77: E[hva] = -2.595209588157  <S**2> = +0.000000  Fidelity = 0.979520  Grad = 1.60e-01  CPU Time =    0.02853  (0.00 / step)\n",
      "     78: E[hva] = -2.597569964238  <S**2> = +0.000000  Fidelity = 0.983270  Grad = 2.31e-01  CPU Time =    0.01646  (0.00 / step)\n",
      "     79: E[hva] = -2.600145813634  <S**2> = +0.000000  Fidelity = 0.985467  Grad = 1.59e-01  CPU Time =    0.01663  (0.00 / step)\n",
      "     80: E[hva] = -2.602526886649  <S**2> = +0.000000  Fidelity = 0.988616  Grad = 1.31e-01  CPU Time =    0.01674  (0.00 / step)\n",
      "     81: E[hva] = -2.603834782421  <S**2> = +0.000000  Fidelity = 0.991023  Grad = 2.10e-01  CPU Time =    0.01611  (0.00 / step)\n",
      "     82: E[hva] = -2.606644555516  <S**2> = +0.000000  Fidelity = 0.992880  Grad = 1.74e-01  CPU Time =    0.01619  (0.00 / step)\n",
      "     83: E[hva] = -2.608988522266  <S**2> = +0.000000  Fidelity = 0.993687  Grad = 9.37e-02  CPU Time =    0.01644  (0.00 / step)\n",
      "     84: E[hva] = -2.611234577823  <S**2> = +0.000000  Fidelity = 0.994464  Grad = 1.63e-01  CPU Time =    0.01613  (0.00 / step)\n",
      "     85: E[hva] = -2.613573882094  <S**2> = +0.000000  Fidelity = 0.994757  Grad = 1.42e-01  CPU Time =    0.01661  (0.00 / step)\n",
      "     86: E[hva] = -2.616009245898  <S**2> = +0.000000  Fidelity = 0.996206  Grad = 1.53e-01  CPU Time =    0.01563  (0.00 / step)\n",
      "     87: E[hva] = -2.617040511701  <S**2> = +0.000000  Fidelity = 0.996764  Grad = 8.48e-02  CPU Time =    0.01669  (0.00 / step)\n",
      "     88: E[hva] = -2.617444862752  <S**2> = +0.000000  Fidelity = 0.996895  Grad = 4.32e-02  CPU Time =    0.01632  (0.00 / step)\n",
      "     89: E[hva] = -2.617776658520  <S**2> = +0.000000  Fidelity = 0.997195  Grad = 3.82e-02  CPU Time =    0.01571  (0.00 / step)\n",
      "     90: E[hva] = -2.618091755069  <S**2> = +0.000000  Fidelity = 0.997419  Grad = 7.87e-02  CPU Time =    0.01615  (0.00 / step)\n",
      "     91: E[hva] = -2.618539670040  <S**2> = +0.000000  Fidelity = 0.997950  Grad = 5.53e-02  CPU Time =    0.01635  (0.00 / step)\n",
      "     92: E[hva] = -2.618933747723  <S**2> = +0.000000  Fidelity = 0.998194  Grad = 5.29e-02  CPU Time =    0.01610  (0.00 / step)\n",
      "     93: E[hva] = -2.619256129712  <S**2> = +0.000000  Fidelity = 0.998203  Grad = 4.48e-02  CPU Time =    0.01704  (0.00 / step)\n",
      "     94: E[hva] = -2.619435650084  <S**2> = +0.000000  Fidelity = 0.998115  Grad = 3.26e-02  CPU Time =    0.01637  (0.00 / step)\n",
      "     95: E[hva] = -2.619601213504  <S**2> = +0.000000  Fidelity = 0.997893  Grad = 3.18e-02  CPU Time =    0.01628  (0.00 / step)\n",
      "     96: E[hva] = -2.619762666313  <S**2> = +0.000000  Fidelity = 0.997695  Grad = 3.60e-02  CPU Time =    0.01666  (0.00 / step)\n",
      "     97: E[hva] = -2.619960883069  <S**2> = +0.000000  Fidelity = 0.997494  Grad = 3.19e-02  CPU Time =    0.01591  (0.00 / step)\n",
      "     98: E[hva] = -2.620022679516  <S**2> = +0.000000  Fidelity = 0.997303  Grad = 5.31e-02  CPU Time =    0.01654  (0.00 / step)\n",
      "     99: E[hva] = -2.620128590061  <S**2> = +0.000000  Fidelity = 0.997557  Grad = 2.38e-02  CPU Time =    0.01607  (0.00 / step)\n",
      "    100: E[hva] = -2.620205843319  <S**2> = +0.000000  Fidelity = 0.997798  Grad = 1.95e-02  CPU Time =    0.01678  (0.00 / step)\n",
      "    101: E[hva] = -2.620313662005  <S**2> = +0.000000  Fidelity = 0.998046  Grad = 2.83e-02  CPU Time =    0.01665  (0.00 / step)\n",
      "    102: E[hva] = -2.620436014072  <S**2> = +0.000000  Fidelity = 0.998282  Grad = 4.09e-02  CPU Time =    0.01655  (0.00 / step)\n",
      "    103: E[hva] = -2.620584971695  <S**2> = +0.000000  Fidelity = 0.998391  Grad = 2.97e-02  CPU Time =    0.01698  (0.00 / step)\n",
      "    104: E[hva] = -2.620770981858  <S**2> = +0.000000  Fidelity = 0.998425  Grad = 2.73e-02  CPU Time =    0.01659  (0.00 / step)\n",
      "    105: E[hva] = -2.621138847810  <S**2> = +0.000000  Fidelity = 0.998482  Grad = 6.68e-02  CPU Time =    0.01639  (0.00 / step)\n",
      "    106: E[hva] = -2.621471480093  <S**2> = +0.000000  Fidelity = 0.998554  Grad = 6.35e-02  CPU Time =    0.01800  (0.00 / step)\n",
      "    107: E[hva] = -2.621734685816  <S**2> = +0.000000  Fidelity = 0.998570  Grad = 4.07e-02  CPU Time =    0.01618  (0.00 / step)\n",
      "    108: E[hva] = -2.622042172201  <S**2> = +0.000000  Fidelity = 0.998821  Grad = 5.11e-02  CPU Time =    0.01712  (0.00 / step)\n",
      "    109: E[hva] = -2.622210643248  <S**2> = +0.000000  Fidelity = 0.998922  Grad = 5.00e-02  CPU Time =    0.01601  (0.00 / step)\n",
      "    110: E[hva] = -2.622391557186  <S**2> = +0.000000  Fidelity = 0.999121  Grad = 3.62e-02  CPU Time =    0.01684  (0.00 / step)\n",
      "    111: E[hva] = -2.622465222829  <S**2> = +0.000000  Fidelity = 0.999247  Grad = 1.72e-02  CPU Time =    0.01729  (0.00 / step)\n",
      "    112: E[hva] = -2.622486576714  <S**2> = +0.000000  Fidelity = 0.999260  Grad = 1.29e-02  CPU Time =    0.01658  (0.00 / step)\n",
      "    113: E[hva] = -2.622517441855  <S**2> = +0.000000  Fidelity = 0.999287  Grad = 1.20e-02  CPU Time =    0.01714  (0.00 / step)\n",
      "    114: E[hva] = -2.622570482724  <S**2> = +0.000000  Fidelity = 0.999324  Grad = 1.61e-02  CPU Time =    0.01847  (0.00 / step)\n",
      "    115: E[hva] = -2.622619593889  <S**2> = +0.000000  Fidelity = 0.999331  Grad = 2.86e-02  CPU Time =    0.01751  (0.00 / step)\n",
      "    116: E[hva] = -2.622677777221  <S**2> = +0.000000  Fidelity = 0.999338  Grad = 1.74e-02  CPU Time =    0.01791  (0.00 / step)\n",
      "    117: E[hva] = -2.622743366785  <S**2> = +0.000000  Fidelity = 0.999339  Grad = 1.24e-02  CPU Time =    0.01756  (0.00 / step)\n",
      "    118: E[hva] = -2.622771641706  <S**2> = +0.000000  Fidelity = 0.999333  Grad = 1.84e-02  CPU Time =    0.01647  (0.00 / step)\n",
      "    119: E[hva] = -2.622802302846  <S**2> = +0.000000  Fidelity = 0.999369  Grad = 1.09e-02  CPU Time =    0.01646  (0.00 / step)\n",
      "    120: E[hva] = -2.622819439292  <S**2> = +0.000000  Fidelity = 0.999395  Grad = 1.34e-02  CPU Time =    0.01678  (0.00 / step)\n",
      "    121: E[hva] = -2.622834204045  <S**2> = +0.000000  Fidelity = 0.999424  Grad = 1.07e-02  CPU Time =    0.01627  (0.00 / step)\n",
      "    122: E[hva] = -2.622850857008  <S**2> = +0.000000  Fidelity = 0.999447  Grad = 8.92e-03  CPU Time =    0.01754  (0.00 / step)\n",
      "    123: E[hva] = -2.622878930049  <S**2> = +0.000000  Fidelity = 0.999465  Grad = 1.46e-02  CPU Time =    0.01656  (0.00 / step)\n",
      "    124: E[hva] = -2.622906256144  <S**2> = +0.000000  Fidelity = 0.999473  Grad = 1.16e-02  CPU Time =    0.01699  (0.00 / step)\n",
      "    125: E[hva] = -2.622927344574  <S**2> = +0.000000  Fidelity = 0.999484  Grad = 1.01e-02  CPU Time =    0.01579  (0.00 / step)\n",
      "    126: E[hva] = -2.622944408756  <S**2> = +0.000000  Fidelity = 0.999495  Grad = 1.88e-02  CPU Time =    0.01713  (0.00 / step)\n",
      "    127: E[hva] = -2.622962996745  <S**2> = +0.000000  Fidelity = 0.999498  Grad = 9.09e-03  CPU Time =    0.01618  (0.00 / step)\n",
      "    128: E[hva] = -2.622973755970  <S**2> = +0.000000  Fidelity = 0.999502  Grad = 8.99e-03  CPU Time =    0.01636  (0.00 / step)\n",
      "    129: E[hva] = -2.623002715785  <S**2> = +0.000000  Fidelity = 0.999512  Grad = 1.42e-02  CPU Time =    0.01645  (0.00 / step)\n",
      "    130: E[hva] = -2.623027102980  <S**2> = +0.000000  Fidelity = 0.999527  Grad = 2.90e-02  CPU Time =    0.01610  (0.00 / step)\n",
      "    131: E[hva] = -2.623065863494  <S**2> = +0.000000  Fidelity = 0.999542  Grad = 1.78e-02  CPU Time =    0.01608  (0.00 / step)\n",
      "    132: E[hva] = -2.623125044283  <S**2> = +0.000000  Fidelity = 0.999564  Grad = 1.35e-02  CPU Time =    0.01720  (0.00 / step)\n",
      "    133: E[hva] = -2.623155917591  <S**2> = +0.000000  Fidelity = 0.999574  Grad = 1.42e-02  CPU Time =    0.01747  (0.00 / step)\n",
      "    134: E[hva] = -2.623187958648  <S**2> = +0.000000  Fidelity = 0.999583  Grad = 2.75e-02  CPU Time =    0.02984  (0.00 / step)\n",
      "    135: E[hva] = -2.623238838046  <S**2> = +0.000000  Fidelity = 0.999602  Grad = 1.85e-02  CPU Time =    0.01616  (0.00 / step)\n",
      "    136: E[hva] = -2.623303752508  <S**2> = +0.000000  Fidelity = 0.999621  Grad = 1.65e-02  CPU Time =    0.01618  (0.00 / step)\n",
      "    137: E[hva] = -2.623355189397  <S**2> = +0.000000  Fidelity = 0.999634  Grad = 2.65e-02  CPU Time =    0.01602  (0.00 / step)\n",
      "    138: E[hva] = -2.623403094964  <S**2> = +0.000000  Fidelity = 0.999647  Grad = 1.95e-02  CPU Time =    0.01689  (0.00 / step)\n",
      "    139: E[hva] = -2.623444895378  <S**2> = +0.000000  Fidelity = 0.999660  Grad = 1.71e-02  CPU Time =    0.01669  (0.00 / step)\n",
      "    140: E[hva] = -2.623510107372  <S**2> = +0.000000  Fidelity = 0.999668  Grad = 2.28e-02  CPU Time =    0.01692  (0.00 / step)\n",
      "    141: E[hva] = -2.623565638111  <S**2> = +0.000000  Fidelity = 0.999668  Grad = 3.15e-02  CPU Time =    0.01655  (0.00 / step)\n",
      "    142: E[hva] = -2.623643679471  <S**2> = +0.000000  Fidelity = 0.999692  Grad = 2.08e-02  CPU Time =    0.01630  (0.00 / step)\n",
      "    143: E[hva] = -2.623768446073  <S**2> = +0.000000  Fidelity = 0.999716  Grad = 2.14e-02  CPU Time =    0.01699  (0.00 / step)\n",
      "    144: E[hva] = -2.623850121719  <S**2> = +0.000000  Fidelity = 0.999694  Grad = 3.42e-02  CPU Time =    0.01612  (0.00 / step)\n",
      "    145: E[hva] = -2.623911199504  <S**2> = +0.000000  Fidelity = 0.999684  Grad = 1.78e-02  CPU Time =    0.01620  (0.00 / step)\n",
      "    146: E[hva] = -2.623940988771  <S**2> = +0.000000  Fidelity = 0.999687  Grad = 1.22e-02  CPU Time =    0.01676  (0.00 / step)\n",
      "    147: E[hva] = -2.623950007741  <S**2> = +0.000000  Fidelity = 0.999683  Grad = 2.69e-02  CPU Time =    0.01700  (0.00 / step)\n",
      "    148: E[hva] = -2.623983726673  <S**2> = +0.000000  Fidelity = 0.999722  Grad = 2.63e-02  CPU Time =    0.01667  (0.00 / step)\n",
      "    149: E[hva] = -2.624010555124  <S**2> = +0.000000  Fidelity = 0.999735  Grad = 9.10e-03  CPU Time =    0.01612  (0.00 / step)\n",
      "    150: E[hva] = -2.624026672349  <S**2> = +0.000000  Fidelity = 0.999743  Grad = 7.49e-03  CPU Time =    0.01663  (0.00 / step)\n",
      "    151: E[hva] = -2.624040011058  <S**2> = +0.000000  Fidelity = 0.999751  Grad = 8.46e-03  CPU Time =    0.01678  (0.00 / step)\n",
      "    152: E[hva] = -2.624049929307  <S**2> = +0.000000  Fidelity = 0.999757  Grad = 1.40e-02  CPU Time =    0.03033  (0.00 / step)\n",
      "    153: E[hva] = -2.624064399364  <S**2> = +0.000000  Fidelity = 0.999763  Grad = 8.48e-03  CPU Time =    0.01523  (0.00 / step)\n",
      "    154: E[hva] = -2.624080894700  <S**2> = +0.000000  Fidelity = 0.999758  Grad = 6.15e-03  CPU Time =    0.01628  (0.00 / step)\n",
      "    155: E[hva] = -2.624091464519  <S**2> = +0.000000  Fidelity = 0.999743  Grad = 9.72e-03  CPU Time =    0.01707  (0.00 / step)\n",
      "    156: E[hva] = -2.624102421146  <S**2> = +0.000000  Fidelity = 0.999726  Grad = 8.58e-03  CPU Time =    0.01719  (0.00 / step)\n",
      "    157: E[hva] = -2.624112616961  <S**2> = +0.000000  Fidelity = 0.999718  Grad = 8.00e-03  CPU Time =    0.01630  (0.00 / step)\n",
      "    158: E[hva] = -2.624122852119  <S**2> = +0.000000  Fidelity = 0.999720  Grad = 9.80e-03  CPU Time =    0.01656  (0.00 / step)\n",
      "    159: E[hva] = -2.624132562150  <S**2> = +0.000000  Fidelity = 0.999734  Grad = 8.58e-03  CPU Time =    0.01628  (0.00 / step)\n",
      "    160: E[hva] = -2.624149808652  <S**2> = +0.000000  Fidelity = 0.999769  Grad = 1.10e-02  CPU Time =    0.01647  (0.00 / step)\n",
      "    161: E[hva] = -2.624171369473  <S**2> = +0.000000  Fidelity = 0.999792  Grad = 9.43e-03  CPU Time =    0.04447  (0.00 / step)\n",
      "    162: E[hva] = -2.624198787786  <S**2> = +0.000000  Fidelity = 0.999795  Grad = 1.46e-02  CPU Time =    0.01622  (0.00 / step)\n",
      "    163: E[hva] = -2.624223683320  <S**2> = +0.000000  Fidelity = 0.999798  Grad = 1.31e-02  CPU Time =    0.01593  (0.00 / step)\n",
      "    164: E[hva] = -2.624246481849  <S**2> = +0.000000  Fidelity = 0.999801  Grad = 1.66e-02  CPU Time =    0.01617  (0.00 / step)\n",
      "    165: E[hva] = -2.624270743170  <S**2> = +0.000000  Fidelity = 0.999804  Grad = 1.08e-02  CPU Time =    0.01579  (0.00 / step)\n",
      "    166: E[hva] = -2.624291146653  <S**2> = +0.000000  Fidelity = 0.999800  Grad = 1.15e-02  CPU Time =    0.01614  (0.00 / step)\n",
      "    167: E[hva] = -2.624309190795  <S**2> = +0.000000  Fidelity = 0.999790  Grad = 8.65e-03  CPU Time =    0.01609  (0.00 / step)\n",
      "    168: E[hva] = -2.624316154220  <S**2> = +0.000000  Fidelity = 0.999800  Grad = 7.25e-03  CPU Time =    0.01666  (0.00 / step)\n",
      "    169: E[hva] = -2.624321820960  <S**2> = +0.000000  Fidelity = 0.999809  Grad = 5.00e-03  CPU Time =    0.01656  (0.00 / step)\n",
      "    170: E[hva] = -2.624324862797  <S**2> = +0.000000  Fidelity = 0.999812  Grad = 4.44e-03  CPU Time =    0.01594  (0.00 / step)\n",
      "    171: E[hva] = -2.624329357462  <S**2> = +0.000000  Fidelity = 0.999816  Grad = 4.34e-03  CPU Time =    0.01667  (0.00 / step)\n",
      "    172: E[hva] = -2.624331676188  <S**2> = +0.000000  Fidelity = 0.999813  Grad = 9.26e-03  CPU Time =    0.01693  (0.00 / step)\n",
      "    173: E[hva] = -2.624335454282  <S**2> = +0.000000  Fidelity = 0.999810  Grad = 4.35e-03  CPU Time =    0.01678  (0.00 / step)\n",
      "    174: E[hva] = -2.624338602457  <S**2> = +0.000000  Fidelity = 0.999805  Grad = 3.56e-03  CPU Time =    0.01663  (0.00 / step)\n",
      "    175: E[hva] = -2.624341527699  <S**2> = +0.000000  Fidelity = 0.999803  Grad = 4.43e-03  CPU Time =    0.01694  (0.00 / step)\n",
      "    176: E[hva] = -2.624345850604  <S**2> = +0.000000  Fidelity = 0.999802  Grad = 8.89e-03  CPU Time =    0.01661  (0.00 / step)\n",
      "    177: E[hva] = -2.624351518948  <S**2> = +0.000000  Fidelity = 0.999802  Grad = 6.72e-03  CPU Time =    0.01726  (0.00 / step)\n",
      "    178: E[hva] = -2.624357813783  <S**2> = +0.000000  Fidelity = 0.999807  Grad = 5.54e-03  CPU Time =    0.01808  (0.00 / step)\n",
      "    179: E[hva] = -2.624366896569  <S**2> = +0.000000  Fidelity = 0.999812  Grad = 8.49e-03  CPU Time =    0.01807  (0.00 / step)\n",
      "    180: E[hva] = -2.624370865408  <S**2> = +0.000000  Fidelity = 0.999816  Grad = 7.67e-03  CPU Time =    0.03107  (0.00 / step)\n",
      "    181: E[hva] = -2.624378682153  <S**2> = +0.000000  Fidelity = 0.999820  Grad = 7.33e-03  CPU Time =    0.01813  (0.00 / step)\n",
      "    182: E[hva] = -2.624395488180  <S**2> = +0.000000  Fidelity = 0.999822  Grad = 8.28e-03  CPU Time =    0.01601  (0.00 / step)\n",
      "    183: E[hva] = -2.624423986288  <S**2> = +0.000000  Fidelity = 0.999810  Grad = 1.31e-02  CPU Time =    0.01693  (0.00 / step)\n",
      "    184: E[hva] = -2.624437335123  <S**2> = +0.000000  Fidelity = 0.999796  Grad = 1.37e-02  CPU Time =    0.02896  (0.00 / step)\n",
      "    185: E[hva] = -2.624473781408  <S**2> = +0.000000  Fidelity = 0.999734  Grad = 1.83e-02  CPU Time =    0.01551  (0.00 / step)\n",
      "    186: E[hva] = -2.624496196498  <S**2> = +0.000000  Fidelity = 0.999774  Grad = 2.43e-02  CPU Time =    0.01658  (0.00 / step)\n",
      "    187: E[hva] = -2.624513019714  <S**2> = +0.000000  Fidelity = 0.999810  Grad = 2.00e-02  CPU Time =    0.03023  (0.00 / step)\n",
      "    188: E[hva] = -2.624546620864  <S**2> = +0.000000  Fidelity = 0.999841  Grad = 1.13e-02  CPU Time =    0.01532  (0.00 / step)\n",
      "    189: E[hva] = -2.624573999974  <S**2> = +0.000000  Fidelity = 0.999884  Grad = 1.41e-02  CPU Time =    0.01584  (0.00 / step)\n",
      "    190: E[hva] = -2.624597285115  <S**2> = +0.000000  Fidelity = 0.999911  Grad = 1.17e-02  CPU Time =    0.01718  (0.00 / step)\n",
      "    191: E[hva] = -2.624612537110  <S**2> = +0.000000  Fidelity = 0.999916  Grad = 1.93e-02  CPU Time =    0.01655  (0.00 / step)\n",
      "    192: E[hva] = -2.624631519993  <S**2> = +0.000000  Fidelity = 0.999923  Grad = 6.79e-03  CPU Time =    0.01716  (0.00 / step)\n",
      "    193: E[hva] = -2.624635682674  <S**2> = +0.000000  Fidelity = 0.999926  Grad = 4.81e-03  CPU Time =    0.01718  (0.00 / step)\n",
      "    194: E[hva] = -2.624639790529  <S**2> = +0.000000  Fidelity = 0.999926  Grad = 5.42e-03  CPU Time =    0.01744  (0.00 / step)\n",
      "    195: E[hva] = -2.624642544476  <S**2> = +0.000000  Fidelity = 0.999926  Grad = 5.52e-03  CPU Time =    0.03067  (0.00 / step)\n",
      "    196: E[hva] = -2.624645363811  <S**2> = +0.000000  Fidelity = 0.999927  Grad = 7.16e-03  CPU Time =    0.01566  (0.00 / step)\n",
      "    197: E[hva] = -2.624647260786  <S**2> = +0.000000  Fidelity = 0.999929  Grad = 7.50e-03  CPU Time =    0.01650  (0.00 / step)\n",
      "    198: E[hva] = -2.624649234593  <S**2> = +0.000000  Fidelity = 0.999931  Grad = 2.45e-03  CPU Time =    0.01545  (0.00 / step)\n",
      "    199: E[hva] = -2.624649804370  <S**2> = +0.000000  Fidelity = 0.999931  Grad = 1.97e-03  CPU Time =    0.01593  (0.00 / step)\n",
      "    200: E[hva] = -2.624651058321  <S**2> = +0.000000  Fidelity = 0.999931  Grad = 2.48e-03  CPU Time =    0.01672  (0.00 / step)\n",
      "  Final: E[hva] = -2.624651058321  <S**2> = +0.000000  Fidelity = 0.999931  rho = 1 \n",
      "\n",
      "(hva state)\n",
      "    Basis            Coef\n",
      "| 00000011 > : -0.1558 +0.1370i\n",
      "| 00000100 > : -0.1304 +0.1143i\n",
      "| 00000110 > : +0.1556 -0.1370i\n",
      "| 00001011 > : -0.1780 +0.1575i\n",
      "| 00001100 > : -0.2316 +0.2021i\n",
      "| 00010000 > : -0.1308 +0.1148i\n",
      "| 00101011 > : -0.2312 +0.2014i\n",
      "| 00101100 > : -0.2771 +0.2432i\n",
      "| 00110000 > : -0.1565 +0.1368i\n",
      "| 00111000 > : +0.2779 -0.2430i\n",
      "| 00111010 > : +0.2285 -0.2011i\n",
      "| 01001000 > : +0.2292 -0.2015i\n",
      "| 01001010 > : +0.1803 -0.1571i\n",
      "| 01100000 > : +0.1548 -0.1361i\n",
      "\n",
      "VQE Done.\n"
     ]
    }
   ],
   "source": [
    "Hub.vqe()"
   ]
  },
  {
   "cell_type": "markdown",
   "metadata": {},
   "source": [
    "### (1.4) Transform the state to Jordan-Wigner's Particle-Hole representation\n",
    "For this purpose, `transform_state_bk2jw()` can be used.  \n",
    "The opposite transformation is done with `transform_state_jw2bk()`."
   ]
  },
  {
   "cell_type": "code",
   "execution_count": 6,
   "metadata": {},
   "outputs": [
    {
     "name": "stdout",
     "output_type": "stream",
     "text": [
      "    Basis            Coef\n",
      "| 00000110 > : +0.1556 -0.1370i\n",
      "| 00001001 > : -0.1558 +0.1370i\n",
      "| 00001100 > : -0.1304 +0.1143i\n",
      "| 00010010 > : +0.2285 -0.2011i\n",
      "| 00011000 > : +0.2779 -0.2430i\n",
      "| 00100001 > : -0.2312 +0.2014i\n",
      "| 00100100 > : -0.2771 +0.2432i\n",
      "| 00110000 > : -0.1308 +0.1148i\n",
      "| 01000010 > : +0.1803 -0.1571i\n",
      "| 01001000 > : +0.2292 -0.2015i\n",
      "| 01100000 > : +0.1548 -0.1361i\n",
      "| 10000001 > : -0.1780 +0.1575i\n",
      "| 10000100 > : -0.2316 +0.2021i\n",
      "| 10010000 > : -0.1565 +0.1368i\n",
      "\n"
     ]
    }
   ],
   "source": [
    "jw_state = transform_state_bk2jw(Hub.state)\n",
    "print_state(jw_state)"
   ]
  },
  {
   "cell_type": "markdown",
   "metadata": {},
   "source": [
    "Transform back to the bravyi-kitaev representation using `transform_state_jw2bk()`:"
   ]
  },
  {
   "cell_type": "code",
   "execution_count": 7,
   "metadata": {},
   "outputs": [
    {
     "name": "stdout",
     "output_type": "stream",
     "text": [
      "    Basis            Coef\n",
      "| 00000011 > : -0.1558 +0.1370i\n",
      "| 00000100 > : -0.1304 +0.1143i\n",
      "| 00000110 > : +0.1556 -0.1370i\n",
      "| 00001011 > : -0.1780 +0.1575i\n",
      "| 00001100 > : -0.2316 +0.2021i\n",
      "| 00010000 > : -0.1308 +0.1148i\n",
      "| 00101011 > : -0.2312 +0.2014i\n",
      "| 00101100 > : -0.2771 +0.2432i\n",
      "| 00110000 > : -0.1565 +0.1368i\n",
      "| 00111000 > : +0.2779 -0.2430i\n",
      "| 00111010 > : +0.2285 -0.2011i\n",
      "| 01001000 > : +0.2292 -0.2015i\n",
      "| 01001010 > : +0.1803 -0.1571i\n",
      "| 01100000 > : +0.1548 -0.1361i\n",
      "\n",
      "They are the same state: True\n"
     ]
    }
   ],
   "source": [
    "bk_state = transform_state_jw2bk(jw_state)\n",
    "print_state(bk_state)\n",
    "print(\"They are the same state:\", bk_state == Hub.state)"
   ]
  },
  {
   "cell_type": "markdown",
   "metadata": {},
   "source": [
    "### (1.5) Tapering-off qubits\n",
    "Symmetry-search and tapering-off qubits can be performed for user-defined Hamiltonians."
   ]
  },
  {
   "cell_type": "code",
   "execution_count": 8,
   "metadata": {},
   "outputs": [
    {
     "name": "stdout",
     "output_type": "stream",
     "text": [
      "States     transformed.\n",
      "Operators  transformed.\n",
      "pauli_list transformed.\n",
      "theta_list transformed.\n"
     ]
    }
   ],
   "source": [
    "Hub.taper_off()"
   ]
  },
  {
   "cell_type": "code",
   "execution_count": 9,
   "metadata": {},
   "outputs": [
    {
     "name": "stdout",
     "output_type": "stream",
     "text": [
      "   Basis           Coef\n",
      "| 000001 > : -0.1558 +0.1370i\n",
      "| 000010 > : +0.1304 -0.1143i\n",
      "| 000011 > : -0.1556 +0.1370i\n",
      "| 000101 > : -0.1780 +0.1575i\n",
      "| 000110 > : +0.2316 -0.2021i\n",
      "| 001000 > : +0.1308 -0.1148i\n",
      "| 010101 > : -0.2312 +0.2014i\n",
      "| 010110 > : +0.2771 -0.2432i\n",
      "| 011000 > : +0.1565 -0.1368i\n",
      "| 011100 > : -0.2779 +0.2430i\n",
      "| 011101 > : -0.2285 +0.2011i\n",
      "| 100100 > : -0.2292 +0.2015i\n",
      "| 100101 > : -0.1803 +0.1571i\n",
      "| 110000 > : -0.1548 +0.1361i\n",
      "\n"
     ]
    }
   ],
   "source": [
    "print_state(Hub.state)"
   ]
  },
  {
   "cell_type": "code",
   "execution_count": 10,
   "metadata": {},
   "outputs": [
    {
     "name": "stdout",
     "output_type": "stream",
     "text": [
      "Qubits in the tapered-mapping 6\n",
      "Qubits in the original mapping 8\n"
     ]
    }
   ],
   "source": [
    "print(\"Qubits in the tapered-mapping\", Hub.n_qubits)\n",
    "print(\"Qubits in the original mapping\", Hub._n_qubits)"
   ]
  },
  {
   "cell_type": "code",
   "execution_count": 11,
   "metadata": {},
   "outputs": [
    {
     "name": "stdout",
     "output_type": "stream",
     "text": [
      "      1: E[hva] = -2.624651318146  <S**2> = +0.000000  Fidelity = 0.999931  Grad = 1.58e-03  CPU Time =    0.04231  (0.00 / step)\n",
      "      2: E[hva] = -2.624651462452  <S**2> = +0.000000  Fidelity = 0.999931  Grad = 1.38e-03  CPU Time =    0.01476  (0.00 / step)\n",
      "      3: E[hva] = -2.624652019083  <S**2> = +0.000000  Fidelity = 0.999931  Grad = 1.56e-03  CPU Time =    0.01620  (0.00 / step)\n",
      "      4: E[hva] = -2.624652561294  <S**2> = +0.000000  Fidelity = 0.999930  Grad = 2.14e-03  CPU Time =    0.01568  (0.00 / step)\n",
      "      5: E[hva] = -2.624653254218  <S**2> = +0.000000  Fidelity = 0.999929  Grad = 2.39e-03  CPU Time =    0.01566  (0.00 / step)\n",
      "      6: E[hva] = -2.624654043103  <S**2> = +0.000000  Fidelity = 0.999929  Grad = 2.12e-03  CPU Time =    0.01546  (0.00 / step)\n",
      "      7: E[hva] = -2.624655560025  <S**2> = +0.000000  Fidelity = 0.999930  Grad = 2.98e-03  CPU Time =    0.01607  (0.00 / step)\n",
      "      8: E[hva] = -2.624657114245  <S**2> = +0.000000  Fidelity = 0.999932  Grad = 5.43e-03  CPU Time =    0.01604  (0.00 / step)\n",
      "      9: E[hva] = -2.624658974658  <S**2> = +0.000000  Fidelity = 0.999934  Grad = 3.09e-03  CPU Time =    0.01650  (0.00 / step)\n",
      "     10: E[hva] = -2.624660476627  <S**2> = +0.000000  Fidelity = 0.999935  Grad = 2.69e-03  CPU Time =    0.01626  (0.00 / step)\n",
      "     11: E[hva] = -2.624662632674  <S**2> = +0.000000  Fidelity = 0.999936  Grad = 3.49e-03  CPU Time =    0.01543  (0.00 / step)\n",
      "     12: E[hva] = -2.624664278082  <S**2> = +0.000000  Fidelity = 0.999936  Grad = 4.73e-03  CPU Time =    0.01548  (0.00 / step)\n",
      "     13: E[hva] = -2.624665544845  <S**2> = +0.000000  Fidelity = 0.999935  Grad = 3.54e-03  CPU Time =    0.01564  (0.00 / step)\n",
      "     14: E[hva] = -2.624666283900  <S**2> = +0.000000  Fidelity = 0.999934  Grad = 2.08e-03  CPU Time =    0.01592  (0.00 / step)\n",
      "     15: E[hva] = -2.624666830666  <S**2> = +0.000000  Fidelity = 0.999934  Grad = 2.42e-03  CPU Time =    0.01596  (0.00 / step)\n",
      "     16: E[hva] = -2.624668098977  <S**2> = +0.000000  Fidelity = 0.999933  Grad = 3.48e-03  CPU Time =    0.01721  (0.00 / step)\n",
      "     17: E[hva] = -2.624670919739  <S**2> = +0.000000  Fidelity = 0.999931  Grad = 4.66e-03  CPU Time =    0.01645  (0.00 / step)\n",
      "     18: E[hva] = -2.624672348984  <S**2> = +0.000000  Fidelity = 0.999928  Grad = 6.54e-03  CPU Time =    0.02977  (0.00 / step)\n",
      "     19: E[hva] = -2.624674775114  <S**2> = +0.000000  Fidelity = 0.999927  Grad = 3.85e-03  CPU Time =    0.01615  (0.00 / step)\n",
      "     20: E[hva] = -2.624676799123  <S**2> = +0.000000  Fidelity = 0.999926  Grad = 2.26e-03  CPU Time =    0.01589  (0.00 / step)\n",
      "     21: E[hva] = -2.624678081467  <S**2> = +0.000000  Fidelity = 0.999927  Grad = 2.97e-03  CPU Time =    0.01609  (0.00 / step)\n",
      "     22: E[hva] = -2.624680430260  <S**2> = +0.000000  Fidelity = 0.999929  Grad = 4.73e-03  CPU Time =    0.01609  (0.00 / step)\n",
      "     23: E[hva] = -2.624683593340  <S**2> = +0.000000  Fidelity = 0.999931  Grad = 6.73e-03  CPU Time =    0.01662  (0.00 / step)\n",
      "     24: E[hva] = -2.624687541409  <S**2> = +0.000000  Fidelity = 0.999933  Grad = 4.85e-03  CPU Time =    0.01604  (0.00 / step)\n",
      "     25: E[hva] = -2.624694573825  <S**2> = +0.000000  Fidelity = 0.999935  Grad = 5.30e-03  CPU Time =    0.01639  (0.00 / step)\n",
      "     26: E[hva] = -2.624699169403  <S**2> = +0.000000  Fidelity = 0.999936  Grad = 7.37e-03  CPU Time =    0.01639  (0.00 / step)\n",
      "     27: E[hva] = -2.624705581846  <S**2> = +0.000000  Fidelity = 0.999938  Grad = 8.05e-03  CPU Time =    0.01576  (0.00 / step)\n",
      "     28: E[hva] = -2.624717051891  <S**2> = +0.000000  Fidelity = 0.999942  Grad = 1.16e-02  CPU Time =    0.01685  (0.00 / step)\n",
      "     29: E[hva] = -2.624726880577  <S**2> = +0.000000  Fidelity = 0.999947  Grad = 1.09e-02  CPU Time =    0.01629  (0.00 / step)\n",
      "     30: E[hva] = -2.624733054293  <S**2> = +0.000000  Fidelity = 0.999946  Grad = 1.48e-02  CPU Time =    0.01620  (0.00 / step)\n",
      "     31: E[hva] = -2.624742994022  <S**2> = +0.000000  Fidelity = 0.999949  Grad = 8.20e-03  CPU Time =    0.01578  (0.00 / step)\n",
      "     32: E[hva] = -2.624748228388  <S**2> = +0.000000  Fidelity = 0.999949  Grad = 5.09e-03  CPU Time =    0.01544  (0.00 / step)\n",
      "     33: E[hva] = -2.624753221177  <S**2> = +0.000000  Fidelity = 0.999949  Grad = 5.35e-03  CPU Time =    0.01583  (0.00 / step)\n",
      "     34: E[hva] = -2.624759928465  <S**2> = +0.000000  Fidelity = 0.999949  Grad = 9.06e-03  CPU Time =    0.01566  (0.00 / step)\n",
      "     35: E[hva] = -2.624768799658  <S**2> = +0.000000  Fidelity = 0.999950  Grad = 7.22e-03  CPU Time =    0.01604  (0.00 / step)\n",
      "     36: E[hva] = -2.624774765268  <S**2> = +0.000000  Fidelity = 0.999955  Grad = 9.66e-03  CPU Time =    0.01646  (0.00 / step)\n",
      "     37: E[hva] = -2.624778155569  <S**2> = +0.000000  Fidelity = 0.999959  Grad = 6.36e-03  CPU Time =    0.01651  (0.00 / step)\n",
      "     38: E[hva] = -2.624780900389  <S**2> = +0.000000  Fidelity = 0.999960  Grad = 2.31e-03  CPU Time =    0.01641  (0.00 / step)\n",
      "     39: E[hva] = -2.624781863371  <S**2> = +0.000000  Fidelity = 0.999960  Grad = 2.00e-03  CPU Time =    0.01667  (0.00 / step)\n",
      "     40: E[hva] = -2.624783544128  <S**2> = +0.000000  Fidelity = 0.999959  Grad = 3.22e-03  CPU Time =    0.01557  (0.00 / step)\n",
      "     41: E[hva] = -2.624784328998  <S**2> = +0.000000  Fidelity = 0.999960  Grad = 4.98e-03  CPU Time =    0.01561  (0.00 / step)\n",
      "     42: E[hva] = -2.624785460602  <S**2> = +0.000000  Fidelity = 0.999961  Grad = 3.11e-03  CPU Time =    0.01762  (0.00 / step)\n",
      "     43: E[hva] = -2.624787864208  <S**2> = +0.000000  Fidelity = 0.999962  Grad = 4.07e-03  CPU Time =    0.01604  (0.00 / step)\n",
      "     44: E[hva] = -2.624789965379  <S**2> = +0.000000  Fidelity = 0.999963  Grad = 5.33e-03  CPU Time =    0.01694  (0.00 / step)\n",
      "     45: E[hva] = -2.624794081134  <S**2> = +0.000000  Fidelity = 0.999964  Grad = 6.07e-03  CPU Time =    0.01663  (0.00 / step)\n",
      "     46: E[hva] = -2.624795877653  <S**2> = +0.000000  Fidelity = 0.999966  Grad = 6.60e-03  CPU Time =    0.02914  (0.00 / step)\n",
      "     47: E[hva] = -2.624798657306  <S**2> = +0.000000  Fidelity = 0.999967  Grad = 3.63e-03  CPU Time =    0.01524  (0.00 / step)\n",
      "     48: E[hva] = -2.624800750457  <S**2> = +0.000000  Fidelity = 0.999967  Grad = 3.15e-03  CPU Time =    0.01593  (0.00 / step)\n",
      "     49: E[hva] = -2.624802809227  <S**2> = +0.000000  Fidelity = 0.999967  Grad = 4.13e-03  CPU Time =    0.01690  (0.00 / step)\n",
      "     50: E[hva] = -2.624804147980  <S**2> = +0.000000  Fidelity = 0.999966  Grad = 7.31e-03  CPU Time =    0.01573  (0.00 / step)\n",
      "     51: E[hva] = -2.624805971168  <S**2> = +0.000000  Fidelity = 0.999967  Grad = 2.64e-03  CPU Time =    0.02955  (0.00 / step)\n",
      "     52: E[hva] = -2.624806662875  <S**2> = +0.000000  Fidelity = 0.999968  Grad = 2.01e-03  CPU Time =    0.01575  (0.00 / step)\n",
      "     53: E[hva] = -2.624807433958  <S**2> = +0.000000  Fidelity = 0.999968  Grad = 2.24e-03  CPU Time =    0.01615  (0.00 / step)\n",
      "     54: E[hva] = -2.624808235424  <S**2> = +0.000000  Fidelity = 0.999969  Grad = 2.46e-03  CPU Time =    0.01620  (0.00 / step)\n",
      "     55: E[hva] = -2.624808928793  <S**2> = +0.000000  Fidelity = 0.999970  Grad = 2.73e-03  CPU Time =    0.01555  (0.00 / step)\n",
      "     56: E[hva] = -2.624809455564  <S**2> = +0.000000  Fidelity = 0.999970  Grad = 1.48e-03  CPU Time =    0.01632  (0.00 / step)\n",
      "     57: E[hva] = -2.624809770204  <S**2> = +0.000000  Fidelity = 0.999970  Grad = 1.46e-03  CPU Time =    0.01582  (0.00 / step)\n",
      "     58: E[hva] = -2.624810069853  <S**2> = +0.000000  Fidelity = 0.999970  Grad = 2.17e-03  CPU Time =    0.01548  (0.00 / step)\n",
      "     59: E[hva] = -2.624810505960  <S**2> = +0.000000  Fidelity = 0.999970  Grad = 1.43e-03  CPU Time =    0.01621  (0.00 / step)\n",
      "     60: E[hva] = -2.624811203372  <S**2> = +0.000000  Fidelity = 0.999970  Grad = 1.58e-03  CPU Time =    0.01582  (0.00 / step)\n",
      "     61: E[hva] = -2.624811926045  <S**2> = +0.000000  Fidelity = 0.999970  Grad = 2.00e-03  CPU Time =    0.01544  (0.00 / step)\n",
      "     62: E[hva] = -2.624812339920  <S**2> = +0.000000  Fidelity = 0.999970  Grad = 2.61e-03  CPU Time =    0.02917  (0.00 / step)\n",
      "     63: E[hva] = -2.624812960437  <S**2> = +0.000000  Fidelity = 0.999970  Grad = 1.52e-03  CPU Time =    0.01486  (0.00 / step)\n",
      "     64: E[hva] = -2.624813393640  <S**2> = +0.000000  Fidelity = 0.999970  Grad = 1.60e-03  CPU Time =    0.01621  (0.00 / step)\n",
      "     65: E[hva] = -2.624813647012  <S**2> = +0.000000  Fidelity = 0.999970  Grad = 2.61e-03  CPU Time =    0.01613  (0.00 / step)\n",
      "     66: E[hva] = -2.624813899320  <S**2> = +0.000000  Fidelity = 0.999970  Grad = 9.37e-04  CPU Time =    0.01647  (0.00 / step)\n",
      "     67: E[hva] = -2.624813978730  <S**2> = +0.000000  Fidelity = 0.999970  Grad = 7.68e-04  CPU Time =    0.01595  (0.00 / step)\n",
      "     68: E[hva] = -2.624814102708  <S**2> = +0.000000  Fidelity = 0.999970  Grad = 8.44e-04  CPU Time =    0.01579  (0.00 / step)\n",
      "     69: E[hva] = -2.624814280761  <S**2> = +0.000000  Fidelity = 0.999970  Grad = 1.05e-03  CPU Time =    0.01634  (0.00 / step)\n",
      "     70: E[hva] = -2.624814338746  <S**2> = +0.000000  Fidelity = 0.999969  Grad = 2.79e-03  CPU Time =    0.01566  (0.00 / step)\n",
      "     71: E[hva] = -2.624814627088  <S**2> = +0.000000  Fidelity = 0.999969  Grad = 1.24e-03  CPU Time =    0.01570  (0.00 / step)\n",
      "     72: E[hva] = -2.624814807903  <S**2> = +0.000000  Fidelity = 0.999969  Grad = 9.85e-04  CPU Time =    0.01609  (0.00 / step)\n",
      "     73: E[hva] = -2.624815146143  <S**2> = +0.000000  Fidelity = 0.999969  Grad = 1.46e-03  CPU Time =    0.01675  (0.00 / step)\n",
      "     74: E[hva] = -2.624815519714  <S**2> = +0.000000  Fidelity = 0.999969  Grad = 2.70e-03  CPU Time =    0.01586  (0.00 / step)\n",
      "     75: E[hva] = -2.624815963673  <S**2> = +0.000000  Fidelity = 0.999968  Grad = 1.51e-03  CPU Time =    0.01594  (0.00 / step)\n",
      "     76: E[hva] = -2.624816315582  <S**2> = +0.000000  Fidelity = 0.999968  Grad = 1.03e-03  CPU Time =    0.01588  (0.00 / step)\n",
      "     77: E[hva] = -2.624816615182  <S**2> = +0.000000  Fidelity = 0.999969  Grad = 1.37e-03  CPU Time =    0.01568  (0.00 / step)\n",
      "     78: E[hva] = -2.624817001917  <S**2> = +0.000000  Fidelity = 0.999969  Grad = 2.24e-03  CPU Time =    0.01589  (0.00 / step)\n",
      "     79: E[hva] = -2.624817526333  <S**2> = +0.000000  Fidelity = 0.999970  Grad = 1.88e-03  CPU Time =    0.01613  (0.00 / step)\n",
      "     80: E[hva] = -2.624818167278  <S**2> = +0.000000  Fidelity = 0.999970  Grad = 2.09e-03  CPU Time =    0.01670  (0.00 / step)\n",
      "     81: E[hva] = -2.624818458213  <S**2> = +0.000000  Fidelity = 0.999970  Grad = 3.07e-03  CPU Time =    0.01574  (0.00 / step)\n",
      "     82: E[hva] = -2.624818875697  <S**2> = +0.000000  Fidelity = 0.999970  Grad = 1.35e-03  CPU Time =    0.01642  (0.00 / step)\n",
      "     83: E[hva] = -2.624819164971  <S**2> = +0.000000  Fidelity = 0.999970  Grad = 1.41e-03  CPU Time =    0.01618  (0.00 / step)\n",
      "     84: E[hva] = -2.624819608955  <S**2> = +0.000000  Fidelity = 0.999969  Grad = 1.76e-03  CPU Time =    0.01636  (0.00 / step)\n",
      "     85: E[hva] = -2.624820200977  <S**2> = +0.000000  Fidelity = 0.999968  Grad = 2.66e-03  CPU Time =    0.01626  (0.00 / step)\n",
      "     86: E[hva] = -2.624820677437  <S**2> = +0.000000  Fidelity = 0.999966  Grad = 2.44e-03  CPU Time =    0.01671  (0.00 / step)\n",
      "     87: E[hva] = -2.624821234647  <S**2> = +0.000000  Fidelity = 0.999967  Grad = 1.70e-03  CPU Time =    0.01661  (0.00 / step)\n",
      "     88: E[hva] = -2.624821920671  <S**2> = +0.000000  Fidelity = 0.999968  Grad = 2.08e-03  CPU Time =    0.01673  (0.00 / step)\n",
      "     89: E[hva] = -2.624822803782  <S**2> = +0.000000  Fidelity = 0.999970  Grad = 2.75e-03  CPU Time =    0.01608  (0.00 / step)\n",
      "     90: E[hva] = -2.624823101789  <S**2> = +0.000000  Fidelity = 0.999972  Grad = 4.54e-03  CPU Time =    0.01591  (0.00 / step)\n",
      "     91: E[hva] = -2.624824056196  <S**2> = +0.000000  Fidelity = 0.999972  Grad = 1.26e-03  CPU Time =    0.01706  (0.00 / step)\n",
      "     92: E[hva] = -2.624824215916  <S**2> = +0.000000  Fidelity = 0.999972  Grad = 1.00e-03  CPU Time =    0.01679  (0.00 / step)\n",
      "     93: E[hva] = -2.624824445017  <S**2> = +0.000000  Fidelity = 0.999971  Grad = 1.42e-03  CPU Time =    0.01697  (0.00 / step)\n",
      "     94: E[hva] = -2.624824784757  <S**2> = +0.000000  Fidelity = 0.999972  Grad = 1.84e-03  CPU Time =    0.01802  (0.00 / step)\n",
      "     95: E[hva] = -2.624825294374  <S**2> = +0.000000  Fidelity = 0.999972  Grad = 1.72e-03  CPU Time =    0.01705  (0.00 / step)\n",
      "     96: E[hva] = -2.624825899894  <S**2> = +0.000000  Fidelity = 0.999973  Grad = 5.85e-03  CPU Time =    0.01740  (0.00 / step)\n",
      "     97: E[hva] = -2.624827093498  <S**2> = +0.000000  Fidelity = 0.999973  Grad = 2.11e-03  CPU Time =    0.01773  (0.00 / step)\n",
      "     98: E[hva] = -2.624827429679  <S**2> = +0.000000  Fidelity = 0.999973  Grad = 1.63e-03  CPU Time =    0.03391  (0.00 / step)\n",
      "     99: E[hva] = -2.624827844631  <S**2> = +0.000000  Fidelity = 0.999973  Grad = 1.73e-03  CPU Time =    0.02227  (0.00 / step)\n",
      "    100: E[hva] = -2.624828029266  <S**2> = +0.000000  Fidelity = 0.999973  Grad = 2.29e-03  CPU Time =    0.01601  (0.00 / step)\n",
      "    101: E[hva] = -2.624828187752  <S**2> = +0.000000  Fidelity = 0.999974  Grad = 9.89e-04  CPU Time =    0.01580  (0.00 / step)\n",
      "    102: E[hva] = -2.624828283658  <S**2> = +0.000000  Fidelity = 0.999974  Grad = 8.67e-04  CPU Time =    0.01754  (0.00 / step)\n",
      "    103: E[hva] = -2.624828397465  <S**2> = +0.000000  Fidelity = 0.999974  Grad = 1.05e-03  CPU Time =    0.01784  (0.00 / step)\n",
      "    104: E[hva] = -2.624828622905  <S**2> = +0.000000  Fidelity = 0.999974  Grad = 1.16e-03  CPU Time =    0.01543  (0.00 / step)\n",
      "    105: E[hva] = -2.624828758294  <S**2> = +0.000000  Fidelity = 0.999974  Grad = 1.69e-03  CPU Time =    0.02991  (0.00 / step)\n",
      "    106: E[hva] = -2.624828972277  <S**2> = +0.000000  Fidelity = 0.999973  Grad = 1.05e-03  CPU Time =    0.01684  (0.00 / step)\n",
      "    107: E[hva] = -2.624829220843  <S**2> = +0.000000  Fidelity = 0.999973  Grad = 1.19e-03  CPU Time =    0.01610  (0.00 / step)\n",
      "    108: E[hva] = -2.624829503567  <S**2> = +0.000000  Fidelity = 0.999972  Grad = 1.69e-03  CPU Time =    0.01640  (0.00 / step)\n",
      "    109: E[hva] = -2.624829914942  <S**2> = +0.000000  Fidelity = 0.999972  Grad = 2.12e-03  CPU Time =    0.01611  (0.00 / step)\n",
      "    110: E[hva] = -2.624830389675  <S**2> = +0.000000  Fidelity = 0.999971  Grad = 4.30e-03  CPU Time =    0.01580  (0.00 / step)\n",
      "    111: E[hva] = -2.624831159024  <S**2> = +0.000000  Fidelity = 0.999971  Grad = 1.85e-03  CPU Time =    0.01589  (0.00 / step)\n",
      "    112: E[hva] = -2.624831651066  <S**2> = +0.000000  Fidelity = 0.999972  Grad = 1.48e-03  CPU Time =    0.01612  (0.00 / step)\n",
      "    113: E[hva] = -2.624832075716  <S**2> = +0.000000  Fidelity = 0.999972  Grad = 1.53e-03  CPU Time =    0.01637  (0.00 / step)\n",
      "    114: E[hva] = -2.624832352713  <S**2> = +0.000000  Fidelity = 0.999973  Grad = 2.88e-03  CPU Time =    0.02954  (0.00 / step)\n",
      "    115: E[hva] = -2.624832800884  <S**2> = +0.000000  Fidelity = 0.999973  Grad = 1.92e-03  CPU Time =    0.01609  (0.00 / step)\n",
      "    116: E[hva] = -2.624833557981  <S**2> = +0.000000  Fidelity = 0.999974  Grad = 1.43e-03  CPU Time =    0.01680  (0.00 / step)\n",
      "    117: E[hva] = -2.624834032268  <S**2> = +0.000000  Fidelity = 0.999974  Grad = 1.47e-03  CPU Time =    0.01720  (0.00 / step)\n",
      "    118: E[hva] = -2.624834212340  <S**2> = +0.000000  Fidelity = 0.999973  Grad = 3.38e-03  CPU Time =    0.01695  (0.00 / step)\n",
      "    119: E[hva] = -2.624834634755  <S**2> = +0.000000  Fidelity = 0.999974  Grad = 1.24e-03  CPU Time =    0.01680  (0.00 / step)\n",
      "    120: E[hva] = -2.624834784934  <S**2> = +0.000000  Fidelity = 0.999974  Grad = 1.01e-03  CPU Time =    0.01620  (0.00 / step)\n",
      "    121: E[hva] = -2.624835005392  <S**2> = +0.000000  Fidelity = 0.999973  Grad = 1.10e-03  CPU Time =    0.01654  (0.00 / step)\n",
      "    122: E[hva] = -2.624835305176  <S**2> = +0.000000  Fidelity = 0.999973  Grad = 1.86e-03  CPU Time =    0.01598  (0.00 / step)\n",
      "    123: E[hva] = -2.624835810062  <S**2> = +0.000000  Fidelity = 0.999973  Grad = 1.87e-03  CPU Time =    0.01576  (0.00 / step)\n",
      "    124: E[hva] = -2.624836630846  <S**2> = +0.000000  Fidelity = 0.999973  Grad = 3.50e-03  CPU Time =    0.01633  (0.00 / step)\n",
      "    125: E[hva] = -2.624837282801  <S**2> = +0.000000  Fidelity = 0.999973  Grad = 3.64e-03  CPU Time =    0.01628  (0.00 / step)\n",
      "    126: E[hva] = -2.624837844231  <S**2> = +0.000000  Fidelity = 0.999974  Grad = 1.67e-03  CPU Time =    0.01615  (0.00 / step)\n",
      "    127: E[hva] = -2.624838233477  <S**2> = +0.000000  Fidelity = 0.999974  Grad = 1.32e-03  CPU Time =    0.01612  (0.00 / step)\n",
      "    128: E[hva] = -2.624838652445  <S**2> = +0.000000  Fidelity = 0.999974  Grad = 1.83e-03  CPU Time =    0.01572  (0.00 / step)\n",
      "    129: E[hva] = -2.624839033483  <S**2> = +0.000000  Fidelity = 0.999975  Grad = 4.50e-03  CPU Time =    0.01581  (0.00 / step)\n",
      "    130: E[hva] = -2.624839624463  <S**2> = +0.000000  Fidelity = 0.999975  Grad = 2.04e-03  CPU Time =    0.01547  (0.00 / step)\n",
      "    131: E[hva] = -2.624839949200  <S**2> = +0.000000  Fidelity = 0.999975  Grad = 1.48e-03  CPU Time =    0.01610  (0.00 / step)\n",
      "    132: E[hva] = -2.624840257091  <S**2> = +0.000000  Fidelity = 0.999976  Grad = 1.48e-03  CPU Time =    0.01660  (0.00 / step)\n",
      "    133: E[hva] = -2.624840780767  <S**2> = +0.000000  Fidelity = 0.999976  Grad = 1.68e-03  CPU Time =    0.01637  (0.00 / step)\n",
      "    134: E[hva] = -2.624841517091  <S**2> = +0.000000  Fidelity = 0.999977  Grad = 4.07e-03  CPU Time =    0.01696  (0.00 / step)\n",
      "    135: E[hva] = -2.624842567625  <S**2> = +0.000000  Fidelity = 0.999977  Grad = 2.54e-03  CPU Time =    0.01689  (0.00 / step)\n",
      "    136: E[hva] = -2.624843783236  <S**2> = +0.000000  Fidelity = 0.999977  Grad = 2.21e-03  CPU Time =    0.01647  (0.00 / step)\n",
      "    137: E[hva] = -2.624845021041  <S**2> = +0.000000  Fidelity = 0.999978  Grad = 3.07e-03  CPU Time =    0.01642  (0.00 / step)\n",
      "    138: E[hva] = -2.624845528707  <S**2> = +0.000000  Fidelity = 0.999977  Grad = 4.82e-03  CPU Time =    0.01707  (0.00 / step)\n",
      "    139: E[hva] = -2.624846369484  <S**2> = +0.000000  Fidelity = 0.999978  Grad = 1.48e-03  CPU Time =    0.01666  (0.00 / step)\n",
      "    140: E[hva] = -2.624846733057  <S**2> = +0.000000  Fidelity = 0.999978  Grad = 1.27e-03  CPU Time =    0.01584  (0.00 / step)\n",
      "    141: E[hva] = -2.624846955977  <S**2> = +0.000000  Fidelity = 0.999978  Grad = 1.49e-03  CPU Time =    0.01618  (0.00 / step)\n",
      "    142: E[hva] = -2.624847081209  <S**2> = +0.000000  Fidelity = 0.999978  Grad = 1.23e-03  CPU Time =    0.01600  (0.00 / step)\n",
      "    143: E[hva] = -2.624847202750  <S**2> = +0.000000  Fidelity = 0.999978  Grad = 9.95e-04  CPU Time =    0.01550  (0.00 / step)\n",
      "    144: E[hva] = -2.624847433122  <S**2> = +0.000000  Fidelity = 0.999979  Grad = 9.87e-04  CPU Time =    0.01531  (0.00 / step)\n",
      "    145: E[hva] = -2.624847451817  <S**2> = +0.000000  Fidelity = 0.999979  Grad = 1.83e-03  CPU Time =    0.01601  (0.00 / step)\n",
      "    146: E[hva] = -2.624847537515  <S**2> = +0.000000  Fidelity = 0.999979  Grad = 7.10e-04  CPU Time =    0.01610  (0.00 / step)\n",
      "    147: E[hva] = -2.624847583663  <S**2> = +0.000000  Fidelity = 0.999979  Grad = 4.64e-04  CPU Time =    0.01663  (0.00 / step)\n",
      "    148: E[hva] = -2.624847693655  <S**2> = +0.000000  Fidelity = 0.999979  Grad = 8.92e-04  CPU Time =    0.01651  (0.00 / step)\n",
      "    149: E[hva] = -2.624847811036  <S**2> = +0.000000  Fidelity = 0.999979  Grad = 1.11e-03  CPU Time =    0.01659  (0.00 / step)\n",
      "    150: E[hva] = -2.624847977609  <S**2> = +0.000000  Fidelity = 0.999979  Grad = 2.32e-03  CPU Time =    0.01645  (0.00 / step)\n",
      "    151: E[hva] = -2.624848245288  <S**2> = +0.000000  Fidelity = 0.999979  Grad = 1.19e-03  CPU Time =    0.01704  (0.00 / step)\n",
      "    152: E[hva] = -2.624848471967  <S**2> = +0.000000  Fidelity = 0.999979  Grad = 8.55e-04  CPU Time =    0.01586  (0.00 / step)\n",
      "    153: E[hva] = -2.624848682799  <S**2> = +0.000000  Fidelity = 0.999979  Grad = 1.21e-03  CPU Time =    0.01662  (0.00 / step)\n",
      "    154: E[hva] = -2.624848923592  <S**2> = +0.000000  Fidelity = 0.999979  Grad = 1.48e-03  CPU Time =    0.01630  (0.00 / step)\n",
      "    155: E[hva] = -2.624849119933  <S**2> = +0.000000  Fidelity = 0.999979  Grad = 2.31e-03  CPU Time =    0.02985  (0.00 / step)\n",
      "    156: E[hva] = -2.624849428080  <S**2> = +0.000000  Fidelity = 0.999979  Grad = 1.14e-03  CPU Time =    0.01530  (0.00 / step)\n",
      "    157: E[hva] = -2.624849586996  <S**2> = +0.000000  Fidelity = 0.999979  Grad = 8.43e-04  CPU Time =    0.01583  (0.00 / step)\n",
      "    158: E[hva] = -2.624849685474  <S**2> = +0.000000  Fidelity = 0.999979  Grad = 1.05e-03  CPU Time =    0.01602  (0.00 / step)\n",
      "    159: E[hva] = -2.624849753095  <S**2> = +0.000000  Fidelity = 0.999979  Grad = 6.34e-04  CPU Time =    0.01574  (0.00 / step)\n",
      "    160: E[hva] = -2.624849788331  <S**2> = +0.000000  Fidelity = 0.999979  Grad = 4.72e-04  CPU Time =    0.01637  (0.00 / step)\n",
      "    161: E[hva] = -2.624849831290  <S**2> = +0.000000  Fidelity = 0.999979  Grad = 4.80e-04  CPU Time =    0.01678  (0.00 / step)\n",
      "    162: E[hva] = -2.624849857815  <S**2> = +0.000000  Fidelity = 0.999979  Grad = 5.53e-04  CPU Time =    0.01674  (0.00 / step)\n",
      "    163: E[hva] = -2.624849886818  <S**2> = +0.000000  Fidelity = 0.999979  Grad = 4.37e-04  CPU Time =    0.01625  (0.00 / step)\n",
      "    164: E[hva] = -2.624849935163  <S**2> = +0.000000  Fidelity = 0.999979  Grad = 4.89e-04  CPU Time =    0.01642  (0.00 / step)\n",
      "    165: E[hva] = -2.624849976000  <S**2> = +0.000000  Fidelity = 0.999979  Grad = 5.82e-04  CPU Time =    0.01635  (0.00 / step)\n",
      "    166: E[hva] = -2.624850009755  <S**2> = +0.000000  Fidelity = 0.999979  Grad = 6.60e-04  CPU Time =    0.01685  (0.00 / step)\n",
      "    167: E[hva] = -2.624850036989  <S**2> = +0.000000  Fidelity = 0.999979  Grad = 3.49e-04  CPU Time =    0.01624  (0.00 / step)\n",
      "    168: E[hva] = -2.624850056784  <S**2> = +0.000000  Fidelity = 0.999979  Grad = 3.45e-04  CPU Time =    0.01730  (0.00 / step)\n",
      "    169: E[hva] = -2.624850077916  <S**2> = +0.000000  Fidelity = 0.999979  Grad = 6.79e-04  CPU Time =    0.01700  (0.00 / step)\n",
      "    170: E[hva] = -2.624850104798  <S**2> = +0.000000  Fidelity = 0.999979  Grad = 4.62e-04  CPU Time =    0.01564  (0.00 / step)\n",
      "    171: E[hva] = -2.624850134949  <S**2> = +0.000000  Fidelity = 0.999979  Grad = 3.52e-04  CPU Time =    0.01570  (0.00 / step)\n",
      "    172: E[hva] = -2.624850143369  <S**2> = +0.000000  Fidelity = 0.999979  Grad = 8.24e-04  CPU Time =    0.04937  (0.00 / step)\n",
      "    173: E[hva] = -2.624850160628  <S**2> = +0.000000  Fidelity = 0.999979  Grad = 3.87e-04  CPU Time =    0.01857  (0.00 / step)\n",
      "    174: E[hva] = -2.624850175474  <S**2> = +0.000000  Fidelity = 0.999979  Grad = 2.93e-04  CPU Time =    0.01837  (0.00 / step)\n",
      "    175: E[hva] = -2.624850192699  <S**2> = +0.000000  Fidelity = 0.999979  Grad = 4.05e-04  CPU Time =    0.01582  (0.00 / step)\n",
      "    176: E[hva] = -2.624850218030  <S**2> = +0.000000  Fidelity = 0.999979  Grad = 4.56e-04  CPU Time =    0.01591  (0.00 / step)\n",
      "    177: E[hva] = -2.624850280518  <S**2> = +0.000000  Fidelity = 0.999979  Grad = 7.22e-04  CPU Time =    0.01615  (0.00 / step)\n",
      "    178: E[hva] = -2.624850321526  <S**2> = +0.000000  Fidelity = 0.999979  Grad = 1.09e-03  CPU Time =    0.01563  (0.00 / step)\n",
      "    179: E[hva] = -2.624850388299  <S**2> = +0.000000  Fidelity = 0.999979  Grad = 4.67e-04  CPU Time =    0.01585  (0.00 / step)\n",
      "    180: E[hva] = -2.624850419271  <S**2> = +0.000000  Fidelity = 0.999979  Grad = 3.90e-04  CPU Time =    0.01623  (0.00 / step)\n",
      "    181: E[hva] = -2.624850444632  <S**2> = +0.000000  Fidelity = 0.999979  Grad = 4.91e-04  CPU Time =    0.01662  (0.00 / step)\n",
      "    182: E[hva] = -2.624850477397  <S**2> = +0.000000  Fidelity = 0.999979  Grad = 7.87e-04  CPU Time =    0.01619  (0.00 / step)\n",
      "    183: E[hva] = -2.624850506206  <S**2> = +0.000000  Fidelity = 0.999979  Grad = 4.82e-04  CPU Time =    0.01629  (0.00 / step)\n",
      "    184: E[hva] = -2.624850528425  <S**2> = +0.000000  Fidelity = 0.999979  Grad = 3.54e-04  CPU Time =    0.01545  (0.00 / step)\n",
      "    185: E[hva] = -2.624850547636  <S**2> = +0.000000  Fidelity = 0.999979  Grad = 3.80e-04  CPU Time =    0.01616  (0.00 / step)\n",
      "    186: E[hva] = -2.624850599327  <S**2> = +0.000000  Fidelity = 0.999979  Grad = 8.90e-04  CPU Time =    0.01711  (0.00 / step)\n",
      "    187: E[hva] = -2.624850648771  <S**2> = +0.000000  Fidelity = 0.999979  Grad = 5.88e-04  CPU Time =    0.01561  (0.00 / step)\n",
      "    188: E[hva] = -2.624850692033  <S**2> = +0.000000  Fidelity = 0.999979  Grad = 5.03e-04  CPU Time =    0.01625  (0.00 / step)\n",
      "    189: E[hva] = -2.624850739875  <S**2> = +0.000000  Fidelity = 0.999979  Grad = 4.89e-04  CPU Time =    0.01621  (0.00 / step)\n",
      "    190: E[hva] = -2.624850814266  <S**2> = +0.000000  Fidelity = 0.999979  Grad = 5.57e-04  CPU Time =    0.01670  (0.00 / step)\n",
      "    191: E[hva] = -2.624850875268  <S**2> = +0.000000  Fidelity = 0.999979  Grad = 1.40e-03  CPU Time =    0.01658  (0.00 / step)\n",
      "    192: E[hva] = -2.624850960721  <S**2> = +0.000000  Fidelity = 0.999980  Grad = 3.78e-04  CPU Time =    0.01690  (0.00 / step)\n",
      "    193: E[hva] = -2.624850978793  <S**2> = +0.000000  Fidelity = 0.999980  Grad = 2.59e-04  CPU Time =    0.01753  (0.00 / step)\n",
      "    194: E[hva] = -2.624850992704  <S**2> = +0.000000  Fidelity = 0.999980  Grad = 4.26e-04  CPU Time =    0.01640  (0.00 / step)\n",
      "    195: E[hva] = -2.624851003966  <S**2> = +0.000000  Fidelity = 0.999980  Grad = 2.75e-04  CPU Time =    0.01730  (0.00 / step)\n",
      "    196: E[hva] = -2.624851011641  <S**2> = +0.000000  Fidelity = 0.999980  Grad = 2.25e-04  CPU Time =    0.01628  (0.00 / step)\n",
      "    197: E[hva] = -2.624851023526  <S**2> = +0.000000  Fidelity = 0.999980  Grad = 2.68e-04  CPU Time =    0.01670  (0.00 / step)\n",
      "    198: E[hva] = -2.624851035157  <S**2> = +0.000000  Fidelity = 0.999980  Grad = 3.47e-04  CPU Time =    0.01585  (0.00 / step)\n",
      "    199: E[hva] = -2.624851051448  <S**2> = +0.000000  Fidelity = 0.999980  Grad = 3.73e-04  CPU Time =    0.01655  (0.00 / step)\n",
      "    200: E[hva] = -2.624851056538  <S**2> = +0.000000  Fidelity = 0.999980  Grad = 9.74e-04  CPU Time =    0.01642  (0.00 / step)\n",
      "  Final: E[hva] = -2.624851056538  <S**2> = +0.000000  Fidelity = 0.999980  rho = 1 \n",
      "\n",
      "(hva state)\n",
      "   Basis           Coef\n",
      "| 000001 > : -0.1309 +0.1611i\n",
      "| 000010 > : +0.1099 -0.1341i\n",
      "| 000011 > : -0.1316 +0.1611i\n",
      "| 000101 > : -0.1480 +0.1832i\n",
      "| 000110 > : +0.1955 -0.2379i\n",
      "| 001000 > : +0.1095 -0.1345i\n",
      "| 010101 > : -0.1960 +0.2376i\n",
      "| 010110 > : +0.2320 -0.2852i\n",
      "| 011000 > : +0.1317 -0.1604i\n",
      "| 011100 > : -0.2327 +0.2854i\n",
      "| 011101 > : -0.1948 +0.2369i\n",
      "| 100100 > : -0.1946 +0.2368i\n",
      "| 100101 > : -0.1491 +0.1837i\n",
      "| 110000 > : -0.1306 +0.1602i\n",
      "\n",
      "VQE Done.\n"
     ]
    }
   ],
   "source": [
    "Hub.vqe()"
   ]
  },
  {
   "cell_type": "markdown",
   "metadata": {},
   "source": [
    "## (Example2) Modified Kitaev Hamiltonian\n",
    "This sample performs VQE with a modified Kitaev Hamiltonian and Hamiltonian Variational Ansatz of arXiv:2108.13375.\n",
    "\n",
    "```               \n",
    "  0           3 \n",
    "  Z \\   X   / Z\n",
    "      1 - 2  \n",
    "    Y |   |  Y\n",
    "      6 - 4  \n",
    "    /   X   \\\n",
    "  7 Z      Z  5 \n",
    "                \n",
    "\n",
    "  Eg = -4.0100  (TCz in Table I)\n",
    "  Eg = -4.2476  (TCz+h in Table I)\n",
    "```\n",
    "\n"
   ]
  },
  {
   "cell_type": "markdown",
   "metadata": {},
   "source": [
    "### (2.1) Define the modified Kitaev Hamiltonian"
   ]
  },
  {
   "cell_type": "code",
   "execution_count": 12,
   "metadata": {},
   "outputs": [],
   "source": [
    "### Define the modified Kitaev Hamiltonian ###\n",
    "### Parameters for TCz+h\n",
    "Jx = -0.1\n",
    "Jy = Jx\n",
    "Jz = -1\n",
    "hx = 0.05/np.sqrt(3)\n",
    "hy = hx \n",
    "hz = hx \n",
    "\n",
    "### User-defined Hamiltonian in the OpenFermion format.\n",
    "hamiltonian =f\"{Jx} [X1 X2] + {Jx} [X4 X6] \\\n",
    "             + {Jy} [Y1 Y6] + {Jy} [Y2 Y4] \\\n",
    "             + {Jz} [Z0 Z1] + {Jz} [Z2 Z3] + {Jz} [Z4 Z5] + {Jz} [Z6 Z7] \\\n",
    "             + {hx} [X0] + {hx} [X1] + {hx} [X2] + {hx} [X3] \\\n",
    "             + {hx} [X4] + {hx} [X5] + {hx} [X6] + {hx} [X7] \\\n",
    "             + {hy} [Y0] + {hy} [Y1] + {hy} [Y2] + {hy} [Y3] \\\n",
    "             + {hy} [Y4] + {hy} [Y5] + {hy} [Y6] + {hy} [Y7] \\\n",
    "             + {hz} [Z0] + {hz} [Z1] + {hz} [Z2] + {hz} [Z3] \\\n",
    "             + {hz} [Z4] + {hz} [Z5] + {hz} [Z6] + {hz} [Z7] \""
   ]
  },
  {
   "cell_type": "code",
   "execution_count": 13,
   "metadata": {},
   "outputs": [
    {
     "name": "stdout",
     "output_type": "stream",
     "text": [
      "Initial state is not supplied, so we use |0>.\n",
      "You may specify the initial state by one of the following ways:\n",
      "\n",
      "  Q.set(det='|0011>')\n",
      "for product state,\n",
      "  Q.set(det='0.5 * |0011> + 0.5 * |0101>')\n",
      "for entangled state, and\n",
      "  Q.init_state = QuantumState(Q.n_qubits)\n",
      "  ...\n",
      "to directly subsititute user-defined QuantumState to init_state.\n",
      "\n",
      "Simulation detail\n",
      "Hamiltonian:\n",
      "0.02886751345948129 [X0] +\n",
      "0.02886751345948129 [Y0] +\n",
      "0.02886751345948129 [Z0] +\n",
      "-1.0 [Z0 Z1] +\n",
      "0.02886751345948129 [X1] +\n",
      "-0.1 [X1 X2] +\n",
      "0.02886751345948129 [Y1] +\n",
      "-0.1 [Y1 Y6] +\n",
      "0.02886751345948129 [Z1] +\n",
      "0.02886751345948129 [X2] +\n",
      "0.02886751345948129 [Y2] +\n",
      "-0.1 [Y2 Y4] +\n",
      "0.02886751345948129 [Z2] +\n",
      "-1.0 [Z2 Z3] +\n",
      "0.02886751345948129 [X3] +\n",
      "0.02886751345948129 [Y3] +\n",
      "0.02886751345948129 [Z3] +\n",
      "0.02886751345948129 [X4] +\n",
      "-0.1 [X4 X6] +\n",
      "0.02886751345948129 [Y4] +\n",
      "0.02886751345948129 [Z4] +\n",
      "-1.0 [Z4 Z5] +\n",
      "0.02886751345948129 [X5] +\n",
      "0.02886751345948129 [Y5] +\n",
      "0.02886751345948129 [Z5] +\n",
      "0.02886751345948129 [X6] +\n",
      "0.02886751345948129 [Y6] +\n",
      "0.02886751345948129 [Z6] +\n",
      "-1.0 [Z6 Z7] +\n",
      "0.02886751345948129 [X7] +\n",
      "0.02886751345948129 [Y7] +\n",
      "0.02886751345948129 [Z7]\n",
      "Initial state:\n",
      "    Basis            Coef\n",
      "| 00000000 > : +1.0000 +0.0000i\n",
      "\n",
      "Need to define pauli_list:\n",
      "  Q.get_pauli_list(['X0', 'Y0', 'Z0', 'X1', 'Y1', 'Z1', 'X0 X1', 'X0 Y1', 'X0 Z1', 'Y0 X1', 'Y0 Y1', 'Y0 Z1', 'Z0 X1', 'Z0 Y1', 'Z0 Z1'])\n",
      "Sequential Tapering-Off Results:\n",
      "No symmetry found.\n",
      "\n"
     ]
    }
   ],
   "source": [
    "### Either of the followings works\n",
    "BK = create(hamiltonian=QubitOperator(hamiltonian))\n",
    "#BK = create(hamiltonian=hamiltonian)"
   ]
  },
  {
   "cell_type": "markdown",
   "metadata": {},
   "source": [
    "### (2.2) Run `fci2qubit()` to determine the ground state"
   ]
  },
  {
   "cell_type": "code",
   "execution_count": 14,
   "metadata": {},
   "outputs": [
    {
     "name": "stdout",
     "output_type": "stream",
     "text": [
      "Davidson convergence achieved.\n",
      "FCI in Qubits\n",
      "(FCI state : E = -4.2475747377)\n",
      "    Basis            Coef\n",
      "| 11111111 > : +0.9965 -0.0000i\n",
      "\n"
     ]
    }
   ],
   "source": [
    "BK.fci2qubit()"
   ]
  },
  {
   "cell_type": "markdown",
   "metadata": {},
   "source": [
    "### (2.3) Manually define `pauli_list`\n",
    "If only `hamiltonian` is defined, `Quket` complains that there is no variational circuit.  \n",
    "We can provide either `ansatz` or `pauli_list` to construct a variational circuit.  \n",
    "Here, let us define `pauli_list` manually, which can be done by using option `pauli_list`.  \n",
    "  \n",
    "In a `QuketData` instance, the attribute `QuketData.pauli_list` is a list of `QubitOperator`s.  \n",
    "When specifying `pauli_list` as an option of `set()` or `create()`, it can be either `QubitOperator` or `str` (which will be converted)."
   ]
  },
  {
   "cell_type": "code",
   "execution_count": 15,
   "metadata": {},
   "outputs": [
    {
     "name": "stdout",
     "output_type": "stream",
     "text": [
      "Simulation detail\n",
      "Hamiltonian:\n",
      "0.02886751345948129 [X0] +\n",
      "0.02886751345948129 [Y0] +\n",
      "0.02886751345948129 [Z0] +\n",
      "-1.0 [Z0 Z1] +\n",
      "0.02886751345948129 [X1] +\n",
      "-0.1 [X1 X2] +\n",
      "0.02886751345948129 [Y1] +\n",
      "-0.1 [Y1 Y6] +\n",
      "0.02886751345948129 [Z1] +\n",
      "0.02886751345948129 [X2] +\n",
      "0.02886751345948129 [Y2] +\n",
      "-0.1 [Y2 Y4] +\n",
      "0.02886751345948129 [Z2] +\n",
      "-1.0 [Z2 Z3] +\n",
      "0.02886751345948129 [X3] +\n",
      "0.02886751345948129 [Y3] +\n",
      "0.02886751345948129 [Z3] +\n",
      "0.02886751345948129 [X4] +\n",
      "-0.1 [X4 X6] +\n",
      "0.02886751345948129 [Y4] +\n",
      "0.02886751345948129 [Z4] +\n",
      "-1.0 [Z4 Z5] +\n",
      "0.02886751345948129 [X5] +\n",
      "0.02886751345948129 [Y5] +\n",
      "0.02886751345948129 [Z5] +\n",
      "0.02886751345948129 [X6] +\n",
      "0.02886751345948129 [Y6] +\n",
      "0.02886751345948129 [Z6] +\n",
      "-1.0 [Z6 Z7] +\n",
      "0.02886751345948129 [X7] +\n",
      "0.02886751345948129 [Y7] +\n",
      "0.02886751345948129 [Z7]\n",
      "Initial state:\n",
      "    Basis            Coef\n",
      "| 11111111 > : +1.0000 +0.0000i\n",
      "\n",
      "user-defined pauli_list found.\n",
      "Sequential Tapering-Off Results:\n",
      "No symmetry found.\n",
      "\n"
     ]
    }
   ],
   "source": [
    "# As an example, we take HVA but define it manually.\n",
    "pauli_list =['[X1 X2]', '[X4 X6]', '[Y1 Y6]', '[Y2 Y4]', \n",
    "             '[Z0 Z1]', '[Z2 Z3]', '[Z4 Z5]', '[Z6 Z7]', \n",
    "             '[X0]', '[X1]', '[X2]', '[X3]',\n",
    "             '[X4]', '[X5]', '[X6]', '[X7]',\n",
    "             '[Y0]', '[Y1]', '[Y2]', '[Y3]',\n",
    "             '[Y4]', '[Y5]', '[Y6]', '[Y7]',\n",
    "             '[Z0]', '[Z1]', '[Z2]', '[Z3]',\n",
    "             '[Z4]', '[Z5]', '[Z6]', '[Z7]',]\n",
    "# Additionally let us set other options.\n",
    "BK.set(pauli_list=pauli_list, layers=1, theta_guess=\"random\", det=\"|11111111>\")\n",
    "BK.initialize()"
   ]
  },
  {
   "cell_type": "markdown",
   "metadata": {},
   "source": [
    "#### Check `pauli_list` attribute."
   ]
  },
  {
   "cell_type": "code",
   "execution_count": 16,
   "metadata": {},
   "outputs": [
    {
     "data": {
      "text/plain": [
       "[1.0 [X1 X2],\n",
       " 1.0 [X4 X6],\n",
       " 1.0 [Y1 Y6],\n",
       " 1.0 [Y2 Y4],\n",
       " 1.0 [Z0 Z1],\n",
       " 1.0 [Z2 Z3],\n",
       " 1.0 [Z4 Z5],\n",
       " 1.0 [Z6 Z7],\n",
       " 1.0 [X0],\n",
       " 1.0 [X1],\n",
       " 1.0 [X2],\n",
       " 1.0 [X3],\n",
       " 1.0 [X4],\n",
       " 1.0 [X5],\n",
       " 1.0 [X6],\n",
       " 1.0 [X7],\n",
       " 1.0 [Y0],\n",
       " 1.0 [Y1],\n",
       " 1.0 [Y2],\n",
       " 1.0 [Y3],\n",
       " 1.0 [Y4],\n",
       " 1.0 [Y5],\n",
       " 1.0 [Y6],\n",
       " 1.0 [Y7],\n",
       " 1.0 [Z0],\n",
       " 1.0 [Z1],\n",
       " 1.0 [Z2],\n",
       " 1.0 [Z3],\n",
       " 1.0 [Z4],\n",
       " 1.0 [Z5],\n",
       " 1.0 [Z6],\n",
       " 1.0 [Z7]]"
      ]
     },
     "execution_count": 16,
     "metadata": {},
     "output_type": "execute_result"
    }
   ],
   "source": [
    "BK.pauli_list"
   ]
  },
  {
   "cell_type": "markdown",
   "metadata": {},
   "source": [
    "### (2.4) Run `vqe()`"
   ]
  },
  {
   "cell_type": "code",
   "execution_count": 17,
   "metadata": {},
   "outputs": [
    {
     "name": "stdout",
     "output_type": "stream",
     "text": [
      "      1: E[user-defined] = -4.237670453615  <S**2> = +0.000000  Fidelity = 0.996664  Grad = 2.75e-02  CPU Time =    0.03969  (0.00 / step)\n",
      "      2: E[user-defined] = -4.237764189519  <S**2> = +0.000000  Fidelity = 0.996735  Grad = 8.37e-03  CPU Time =    0.01241  (0.00 / step)\n",
      "      3: E[user-defined] = -4.237765987538  <S**2> = +0.000000  Fidelity = 0.996737  Grad = 6.14e-03  CPU Time =    0.01129  (0.00 / step)\n",
      "      4: E[user-defined] = -4.237768397009  <S**2> = +0.000000  Fidelity = 0.996736  Grad = 7.88e-05  CPU Time =    0.01172  (0.00 / step)\n",
      "      5: E[user-defined] = -4.237768460613  <S**2> = +0.000000  Fidelity = 0.996736  Grad = 6.65e-04  CPU Time =    0.03857  (0.00 / step)\n",
      "      6: E[user-defined] = -4.237780674350  <S**2> = +0.000000  Fidelity = 0.996617  Grad = 5.96e-02  CPU Time =    0.03932  (0.00 / step)\n",
      "      7: E[user-defined] = -4.237780976663  <S**2> = +0.000000  Fidelity = 0.996599  Grad = 6.44e-02  CPU Time =    0.03095  (0.00 / step)\n",
      "      8: E[user-defined] = -4.237834621535  <S**2> = +0.000000  Fidelity = 0.996444  Grad = 9.88e-02  CPU Time =    0.02082  (0.00 / step)\n",
      "      9: E[user-defined] = -4.237864105798  <S**2> = +0.000000  Fidelity = 0.996354  Grad = 1.14e-01  CPU Time =    0.02146  (0.00 / step)\n",
      "     10: E[user-defined] = -4.237987032477  <S**2> = +0.000000  Fidelity = 0.996070  Grad = 1.56e-01  CPU Time =    0.01187  (0.00 / step)\n",
      "     11: E[user-defined] = -4.239503056380  <S**2> = +0.000000  Fidelity = 0.996458  Grad = 1.66e-01  CPU Time =    0.02122  (0.00 / step)\n",
      "     12: E[user-defined] = -4.242340303569  <S**2> = +0.000000  Fidelity = 0.997676  Grad = 1.55e-01  CPU Time =    0.01273  (0.00 / step)\n",
      "     13: E[user-defined] = -4.243245997760  <S**2> = +0.000000  Fidelity = 0.997882  Grad = 9.73e-02  CPU Time =    0.02178  (0.00 / step)\n",
      "     14: E[user-defined] = -4.244192606480  <S**2> = +0.000000  Fidelity = 0.998282  Grad = 2.19e-02  CPU Time =    0.01245  (0.00 / step)\n",
      "     15: E[user-defined] = -4.244292582582  <S**2> = +0.000000  Fidelity = 0.998318  Grad = 1.40e-02  CPU Time =    0.01235  (0.00 / step)\n",
      "     16: E[user-defined] = -4.244380664613  <S**2> = +0.000000  Fidelity = 0.998340  Grad = 1.79e-02  CPU Time =    0.01204  (0.00 / step)\n",
      "     17: E[user-defined] = -4.244575789459  <S**2> = +0.000000  Fidelity = 0.998381  Grad = 2.53e-02  CPU Time =    0.01209  (0.00 / step)\n",
      "     18: E[user-defined] = -4.245038133183  <S**2> = +0.000000  Fidelity = 0.998470  Grad = 3.98e-02  CPU Time =    0.01224  (0.00 / step)\n",
      "     19: E[user-defined] = -4.245698792712  <S**2> = +0.000000  Fidelity = 0.998618  Grad = 6.84e-02  CPU Time =    0.01177  (0.00 / step)\n",
      "     20: E[user-defined] = -4.246437988045  <S**2> = +0.000000  Fidelity = 0.998762  Grad = 7.96e-02  CPU Time =    0.01163  (0.00 / step)\n",
      "     21: E[user-defined] = -4.247080123302  <S**2> = +0.000000  Fidelity = 0.998978  Grad = 6.38e-02  CPU Time =    0.01223  (0.00 / step)\n",
      "     22: E[user-defined] = -4.247312675756  <S**2> = +0.000000  Fidelity = 0.999046  Grad = 3.77e-02  CPU Time =    0.01190  (0.00 / step)\n",
      "     23: E[user-defined] = -4.247412975657  <S**2> = +0.000000  Fidelity = 0.999076  Grad = 1.03e-02  CPU Time =    0.01154  (0.00 / step)\n",
      "     24: E[user-defined] = -4.247423170855  <S**2> = +0.000000  Fidelity = 0.999079  Grad = 4.19e-03  CPU Time =    0.01248  (0.00 / step)\n",
      "     25: E[user-defined] = -4.247425414244  <S**2> = +0.000000  Fidelity = 0.999080  Grad = 1.82e-03  CPU Time =    0.01317  (0.00 / step)\n",
      "     26: E[user-defined] = -4.247426361853  <S**2> = +0.000000  Fidelity = 0.999080  Grad = 1.92e-03  CPU Time =    0.01410  (0.00 / step)\n",
      "     27: E[user-defined] = -4.247431232514  <S**2> = +0.000000  Fidelity = 0.999081  Grad = 4.25e-03  CPU Time =    0.01236  (0.00 / step)\n",
      "     28: E[user-defined] = -4.247437643254  <S**2> = +0.000000  Fidelity = 0.999083  Grad = 5.91e-03  CPU Time =    0.01151  (0.00 / step)\n",
      "     29: E[user-defined] = -4.247440659596  <S**2> = +0.000000  Fidelity = 0.999083  Grad = 6.27e-03  CPU Time =    0.02103  (0.00 / step)\n",
      "     30: E[user-defined] = -4.247444780987  <S**2> = +0.000000  Fidelity = 0.999084  Grad = 2.60e-03  CPU Time =    0.01230  (0.00 / step)\n",
      "     31: E[user-defined] = -4.247445299036  <S**2> = +0.000000  Fidelity = 0.999084  Grad = 6.96e-04  CPU Time =    0.01329  (0.00 / step)\n",
      "     32: E[user-defined] = -4.247445345566  <S**2> = +0.000000  Fidelity = 0.999084  Grad = 1.21e-04  CPU Time =    0.01218  (0.00 / step)\n",
      "     33: E[user-defined] = -4.247445346875  <S**2> = +0.000000  Fidelity = 0.999084  Grad = 6.38e-05  CPU Time =    0.01150  (0.00 / step)\n",
      "  Final: E[user-defined] = -4.247445346875  <S**2> = +0.000000  Fidelity = 0.999084  rho = 1 \n",
      "\n",
      "(user-defined state)\n",
      "    Basis            Coef\n",
      "| 11111111 > : -0.0010 +0.9971i\n",
      "\n",
      "VQE Done.\n"
     ]
    }
   ],
   "source": [
    "BK.vqe()"
   ]
  },
  {
   "cell_type": "markdown",
   "metadata": {},
   "source": [
    "#### There does not seem to be any symmetry in the modified Kitaev Hamiltonian, \n",
    "#### and hence `taper_off()` does nothing."
   ]
  },
  {
   "cell_type": "code",
   "execution_count": 18,
   "metadata": {},
   "outputs": [
    {
     "name": "stdout",
     "output_type": "stream",
     "text": [
      "No qubits to be tapered-off. No transformation done\n"
     ]
    }
   ],
   "source": [
    "BK.taper_off()"
   ]
  },
  {
   "cell_type": "code",
   "execution_count": null,
   "metadata": {},
   "outputs": [],
   "source": []
  }
 ],
 "metadata": {
  "kernelspec": {
   "display_name": "Python 3 (ipykernel)",
   "language": "python",
   "name": "python3"
  },
  "language_info": {
   "codemirror_mode": {
    "name": "ipython",
    "version": 3
   },
   "file_extension": ".py",
   "mimetype": "text/x-python",
   "name": "python",
   "nbconvert_exporter": "python",
   "pygments_lexer": "ipython3",
   "version": "3.9.12"
  }
 },
 "nbformat": 4,
 "nbformat_minor": 4
}
